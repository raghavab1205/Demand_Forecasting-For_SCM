{
 "cells": [
  {
   "cell_type": "markdown",
   "id": "e50ddaaa",
   "metadata": {},
   "source": [
    "loading all the important libraries"
   ]
  },
  {
   "cell_type": "code",
   "execution_count": 2,
   "id": "eaffdd90",
   "metadata": {},
   "outputs": [],
   "source": [
    "import numpy as np\n",
    "import pandas as pd\n",
    "import matplotlib.pyplot as plt\n",
    "import seaborn as sns\n",
    "from statsmodels.graphics.tsaplots import plot_acf, plot_pacf\n",
    "import holidays\n",
    "\n",
    "from sklearn.preprocessing import MinMaxScaler\n",
    "from sklearn.metrics import mean_absolute_error, root_mean_squared_error\n",
    "from sklearn.tree import DecisionTreeRegressor\n",
    "from sklearn.ensemble import RandomForestRegressor\n",
    "\n",
    "from statsmodels.tsa.arima.model import ARIMA\n",
    "from statsmodels.tsa.statespace.sarimax import SARIMAX\n",
    "from pmdarima import auto_arima\n",
    "\n",
    "from tensorflow.keras.models import Sequential\n",
    "from tensorflow.keras.layers import GRU, Dropout, Dense\n",
    "from tensorflow.keras.layers import LSTM, Dropout, Dense"
   ]
  },
  {
   "cell_type": "markdown",
   "id": "0d88e8c3",
   "metadata": {},
   "source": [
    "Loading all datasets"
   ]
  },
  {
   "cell_type": "code",
   "execution_count": 3,
   "id": "f17be785",
   "metadata": {},
   "outputs": [],
   "source": [
    "DATA1 = pd.read_excel(r\"CALCULATION FORECAST ACCURACY.xlsx\")\n",
    "DATA2 = pd.read_excel(r\"Invoice modified data-V4.xls\")"
   ]
  },
  {
   "cell_type": "markdown",
   "id": "893076ab",
   "metadata": {},
   "source": [
    "understanding the DATASETS and cleaning the data"
   ]
  },
  {
   "cell_type": "code",
   "execution_count": 4,
   "id": "57aa85a3",
   "metadata": {},
   "outputs": [
    {
     "data": {
      "text/html": [
       "<div>\n",
       "<style scoped>\n",
       "    .dataframe tbody tr th:only-of-type {\n",
       "        vertical-align: middle;\n",
       "    }\n",
       "\n",
       "    .dataframe tbody tr th {\n",
       "        vertical-align: top;\n",
       "    }\n",
       "\n",
       "    .dataframe thead th {\n",
       "        text-align: right;\n",
       "    }\n",
       "</style>\n",
       "<table border=\"1\" class=\"dataframe\">\n",
       "  <thead>\n",
       "    <tr style=\"text-align: right;\">\n",
       "      <th></th>\n",
       "      <th>Unnamed: 0</th>\n",
       "      <th>Unnamed: 1</th>\n",
       "      <th>Unnamed: 2</th>\n",
       "      <th>Unnamed: 3</th>\n",
       "      <th>Unnamed: 4</th>\n",
       "    </tr>\n",
       "  </thead>\n",
       "  <tbody>\n",
       "    <tr>\n",
       "      <th>0</th>\n",
       "      <td>Part No.</td>\n",
       "      <td>Forecast</td>\n",
       "      <td>Actual Dispatched</td>\n",
       "      <td>Difference =(Forecast-actual)</td>\n",
       "      <td>Error Percentage</td>\n",
       "    </tr>\n",
       "    <tr>\n",
       "      <th>1</th>\n",
       "      <td>33575-0K080</td>\n",
       "      <td>3993</td>\n",
       "      <td>2880</td>\n",
       "      <td>1113</td>\n",
       "      <td>27.88</td>\n",
       "    </tr>\n",
       "    <tr>\n",
       "      <th>2</th>\n",
       "      <td>15677-0E020</td>\n",
       "      <td>8451</td>\n",
       "      <td>6628</td>\n",
       "      <td>1823</td>\n",
       "      <td>21.58</td>\n",
       "    </tr>\n",
       "    <tr>\n",
       "      <th>3</th>\n",
       "      <td>16321-0E020</td>\n",
       "      <td>8451</td>\n",
       "      <td>6630</td>\n",
       "      <td>1821</td>\n",
       "      <td>21.55</td>\n",
       "    </tr>\n",
       "    <tr>\n",
       "      <th>4</th>\n",
       "      <td>25624-0E020</td>\n",
       "      <td>8451</td>\n",
       "      <td>6660</td>\n",
       "      <td>1791</td>\n",
       "      <td>21.2</td>\n",
       "    </tr>\n",
       "  </tbody>\n",
       "</table>\n",
       "</div>"
      ],
      "text/plain": [
       "    Unnamed: 0 Unnamed: 1         Unnamed: 2                     Unnamed: 3  \\\n",
       "0     Part No.   Forecast  Actual Dispatched  Difference =(Forecast-actual)   \n",
       "1  33575-0K080       3993               2880                           1113   \n",
       "2  15677-0E020       8451               6628                           1823   \n",
       "3  16321-0E020       8451               6630                           1821   \n",
       "4  25624-0E020       8451               6660                           1791   \n",
       "\n",
       "         Unnamed: 4  \n",
       "0  Error Percentage  \n",
       "1             27.88  \n",
       "2             21.58  \n",
       "3             21.55  \n",
       "4              21.2  "
      ]
     },
     "execution_count": 4,
     "metadata": {},
     "output_type": "execute_result"
    }
   ],
   "source": [
    "DATA1.head()"
   ]
  },
  {
   "cell_type": "code",
   "execution_count": 5,
   "id": "0d0ce910",
   "metadata": {},
   "outputs": [
    {
     "data": {
      "text/html": [
       "<div>\n",
       "<style scoped>\n",
       "    .dataframe tbody tr th:only-of-type {\n",
       "        vertical-align: middle;\n",
       "    }\n",
       "\n",
       "    .dataframe tbody tr th {\n",
       "        vertical-align: top;\n",
       "    }\n",
       "\n",
       "    .dataframe thead th {\n",
       "        text-align: right;\n",
       "    }\n",
       "</style>\n",
       "<table border=\"1\" class=\"dataframe\">\n",
       "  <thead>\n",
       "    <tr style=\"text-align: right;\">\n",
       "      <th></th>\n",
       "      <th>Invoice No</th>\n",
       "      <th>Invoice Date</th>\n",
       "      <th>Customer Code</th>\n",
       "      <th>Item No</th>\n",
       "      <th>Shipping Qty</th>\n",
       "      <th>Unit Price</th>\n",
       "      <th>Sub Total</th>\n",
       "      <th>Discount Rate</th>\n",
       "      <th>Discount Amount</th>\n",
       "      <th>Total Excl. Duty</th>\n",
       "      <th>Assessable Value</th>\n",
       "      <th>IGST</th>\n",
       "      <th>SGST</th>\n",
       "      <th>CGST</th>\n",
       "      <th>Grand Total</th>\n",
       "    </tr>\n",
       "  </thead>\n",
       "  <tbody>\n",
       "    <tr>\n",
       "      <th>0</th>\n",
       "      <td>KMI/22-23/0904</td>\n",
       "      <td>2023-01-02</td>\n",
       "      <td>TIEI-02</td>\n",
       "      <td>33575-0K080</td>\n",
       "      <td>120</td>\n",
       "      <td>535.98</td>\n",
       "      <td>64317.60</td>\n",
       "      <td>0</td>\n",
       "      <td>0</td>\n",
       "      <td>64317.60</td>\n",
       "      <td>64317.60</td>\n",
       "      <td>0.0</td>\n",
       "      <td>9004.46</td>\n",
       "      <td>9004.46</td>\n",
       "      <td>82326.52</td>\n",
       "    </tr>\n",
       "    <tr>\n",
       "      <th>1</th>\n",
       "      <td>KMI/22-23/0905</td>\n",
       "      <td>2023-01-02</td>\n",
       "      <td>TIEI-02</td>\n",
       "      <td>15677-0E02000</td>\n",
       "      <td>136</td>\n",
       "      <td>282.49</td>\n",
       "      <td>38418.64</td>\n",
       "      <td>0</td>\n",
       "      <td>0</td>\n",
       "      <td>38418.64</td>\n",
       "      <td>38418.64</td>\n",
       "      <td>0.0</td>\n",
       "      <td>5378.61</td>\n",
       "      <td>5378.61</td>\n",
       "      <td>49175.86</td>\n",
       "    </tr>\n",
       "    <tr>\n",
       "      <th>2</th>\n",
       "      <td>KMI/22-23/0905</td>\n",
       "      <td>2023-01-02</td>\n",
       "      <td>TIEI-02</td>\n",
       "      <td>16321-0E02000</td>\n",
       "      <td>140</td>\n",
       "      <td>280.10</td>\n",
       "      <td>39214.00</td>\n",
       "      <td>0</td>\n",
       "      <td>0</td>\n",
       "      <td>39214.00</td>\n",
       "      <td>39214.00</td>\n",
       "      <td>0.0</td>\n",
       "      <td>5489.96</td>\n",
       "      <td>5489.96</td>\n",
       "      <td>50193.92</td>\n",
       "    </tr>\n",
       "    <tr>\n",
       "      <th>3</th>\n",
       "      <td>KMI/22-23/0905</td>\n",
       "      <td>2023-01-02</td>\n",
       "      <td>TIEI-02</td>\n",
       "      <td>25624-0E02000</td>\n",
       "      <td>144</td>\n",
       "      <td>104.10</td>\n",
       "      <td>14990.40</td>\n",
       "      <td>0</td>\n",
       "      <td>0</td>\n",
       "      <td>14990.40</td>\n",
       "      <td>14990.40</td>\n",
       "      <td>0.0</td>\n",
       "      <td>2098.66</td>\n",
       "      <td>2098.66</td>\n",
       "      <td>19187.72</td>\n",
       "    </tr>\n",
       "    <tr>\n",
       "      <th>4</th>\n",
       "      <td>KMI/22-23/0905</td>\n",
       "      <td>2023-01-02</td>\n",
       "      <td>TIEI-02</td>\n",
       "      <td>11151-0E02000</td>\n",
       "      <td>34</td>\n",
       "      <td>137.79</td>\n",
       "      <td>4684.86</td>\n",
       "      <td>0</td>\n",
       "      <td>0</td>\n",
       "      <td>4684.86</td>\n",
       "      <td>4854.86</td>\n",
       "      <td>0.0</td>\n",
       "      <td>679.68</td>\n",
       "      <td>679.68</td>\n",
       "      <td>6044.22</td>\n",
       "    </tr>\n",
       "  </tbody>\n",
       "</table>\n",
       "</div>"
      ],
      "text/plain": [
       "       Invoice No Invoice Date Customer Code        Item No  Shipping Qty  \\\n",
       "0  KMI/22-23/0904   2023-01-02       TIEI-02    33575-0K080           120   \n",
       "1  KMI/22-23/0905   2023-01-02       TIEI-02  15677-0E02000           136   \n",
       "2  KMI/22-23/0905   2023-01-02       TIEI-02  16321-0E02000           140   \n",
       "3  KMI/22-23/0905   2023-01-02       TIEI-02  25624-0E02000           144   \n",
       "4  KMI/22-23/0905   2023-01-02       TIEI-02  11151-0E02000            34   \n",
       "\n",
       "   Unit Price  Sub Total  Discount Rate  Discount Amount  Total Excl. Duty  \\\n",
       "0      535.98   64317.60              0                0          64317.60   \n",
       "1      282.49   38418.64              0                0          38418.64   \n",
       "2      280.10   39214.00              0                0          39214.00   \n",
       "3      104.10   14990.40              0                0          14990.40   \n",
       "4      137.79    4684.86              0                0           4684.86   \n",
       "\n",
       "   Assessable Value  IGST     SGST     CGST  Grand Total  \n",
       "0          64317.60   0.0  9004.46  9004.46     82326.52  \n",
       "1          38418.64   0.0  5378.61  5378.61     49175.86  \n",
       "2          39214.00   0.0  5489.96  5489.96     50193.92  \n",
       "3          14990.40   0.0  2098.66  2098.66     19187.72  \n",
       "4           4854.86   0.0   679.68   679.68      6044.22  "
      ]
     },
     "execution_count": 5,
     "metadata": {},
     "output_type": "execute_result"
    }
   ],
   "source": [
    "DATA2.head()"
   ]
  },
  {
   "cell_type": "code",
   "execution_count": 6,
   "id": "02998dee",
   "metadata": {},
   "outputs": [
    {
     "data": {
      "text/plain": [
       "(23, 5)"
      ]
     },
     "execution_count": 6,
     "metadata": {},
     "output_type": "execute_result"
    }
   ],
   "source": [
    "DATA1.shape"
   ]
  },
  {
   "cell_type": "code",
   "execution_count": 7,
   "id": "2134c14c",
   "metadata": {},
   "outputs": [
    {
     "data": {
      "text/plain": [
       "(10734, 15)"
      ]
     },
     "execution_count": 7,
     "metadata": {},
     "output_type": "execute_result"
    }
   ],
   "source": [
    "DATA2.shape"
   ]
  },
  {
   "cell_type": "code",
   "execution_count": 8,
   "id": "f43771bb",
   "metadata": {},
   "outputs": [
    {
     "data": {
      "text/plain": [
       "Invoice No          0\n",
       "Invoice Date        0\n",
       "Customer Code       0\n",
       "Item No             0\n",
       "Shipping Qty        0\n",
       "Unit Price          0\n",
       "Sub Total           0\n",
       "Discount Rate       0\n",
       "Discount Amount     0\n",
       "Total Excl. Duty    0\n",
       "Assessable Value    0\n",
       "IGST                0\n",
       "SGST                0\n",
       "CGST                0\n",
       "Grand Total         0\n",
       "dtype: int64"
      ]
     },
     "execution_count": 8,
     "metadata": {},
     "output_type": "execute_result"
    }
   ],
   "source": [
    "DATA2.isnull().sum()"
   ]
  },
  {
   "cell_type": "code",
   "execution_count": 9,
   "id": "3f25ee55",
   "metadata": {},
   "outputs": [
    {
     "data": {
      "text/plain": [
       "2"
      ]
     },
     "execution_count": 9,
     "metadata": {},
     "output_type": "execute_result"
    }
   ],
   "source": [
    "DATA2.duplicated(keep=\"first\").sum()"
   ]
  },
  {
   "cell_type": "code",
   "execution_count": 10,
   "id": "3244b52d",
   "metadata": {},
   "outputs": [
    {
     "data": {
      "text/plain": [
       "3"
      ]
     },
     "execution_count": 10,
     "metadata": {},
     "output_type": "execute_result"
    }
   ],
   "source": [
    "DATA2.duplicated(keep=False).sum()"
   ]
  },
  {
   "cell_type": "code",
   "execution_count": 11,
   "id": "2cec5c87",
   "metadata": {},
   "outputs": [
    {
     "name": "stdout",
     "output_type": "stream",
     "text": [
      "         Invoice No Invoice Date Customer Code           Item No  \\\n",
      "703  KMI/22-23/1143   2023-02-24        AKL-03  JIG-223111-41340   \n",
      "704  KMI/22-23/1143   2023-02-24        AKL-03  JIG-223111-41340   \n",
      "\n",
      "     Shipping Qty  Unit Price  Sub Total  Discount Rate  Discount Amount  \\\n",
      "703             1    270000.0   270000.0              0                0   \n",
      "704             1    270000.0   270000.0              0                0   \n",
      "\n",
      "     Total Excl. Duty  Assessable Value  IGST     SGST     CGST  Grand Total  \n",
      "703          270000.0          270000.0   0.0  24300.0  24300.0     318600.0  \n",
      "704          270000.0          270000.0   0.0  24300.0  24300.0     318600.0  \n"
     ]
    }
   ],
   "source": [
    "duplicates = DATA2[DATA2.duplicated(keep=\"first\")]\n",
    "print(duplicates)"
   ]
  },
  {
   "cell_type": "code",
   "execution_count": 12,
   "id": "f8126b6c",
   "metadata": {},
   "outputs": [],
   "source": [
    "DATA2.drop_duplicates(keep='last', inplace=True)"
   ]
  },
  {
   "cell_type": "code",
   "execution_count": 13,
   "id": "22e3983f",
   "metadata": {},
   "outputs": [
    {
     "data": {
      "text/plain": [
       "0"
      ]
     },
     "execution_count": 13,
     "metadata": {},
     "output_type": "execute_result"
    }
   ],
   "source": [
    "DATA2.duplicated().sum()"
   ]
  },
  {
   "cell_type": "markdown",
   "id": "7b305d8b",
   "metadata": {},
   "source": [
    "Starting the feature engineering"
   ]
  },
  {
   "cell_type": "markdown",
   "id": "80827f19",
   "metadata": {},
   "source": [
    "1) 1st feature Seasonality features"
   ]
  },
  {
   "cell_type": "code",
   "execution_count": 14,
   "id": "df72b9f8",
   "metadata": {},
   "outputs": [],
   "source": [
    "holiday_s = holidays.India(years = [2023, 2025])\n",
    "holiday_dates = list(holiday_s.keys())"
   ]
  },
  {
   "cell_type": "code",
   "execution_count": 15,
   "id": "05e52b06",
   "metadata": {},
   "outputs": [
    {
     "name": "stdout",
     "output_type": "stream",
     "text": [
      "[datetime.date(2025, 1, 26), datetime.date(2025, 8, 15), datetime.date(2025, 10, 2), datetime.date(2025, 5, 12), datetime.date(2025, 10, 20), datetime.date(2025, 8, 16), datetime.date(2025, 4, 10), datetime.date(2025, 2, 26), datetime.date(2025, 11, 5), datetime.date(2025, 7, 6), datetime.date(2025, 9, 5), datetime.date(2025, 3, 31), datetime.date(2025, 6, 7), datetime.date(2025, 4, 18), datetime.date(2025, 12, 25), datetime.date(2023, 1, 26), datetime.date(2023, 8, 15), datetime.date(2023, 10, 2), datetime.date(2023, 5, 5), datetime.date(2023, 11, 12), datetime.date(2023, 9, 7), datetime.date(2023, 10, 24), datetime.date(2023, 4, 4), datetime.date(2023, 2, 18), datetime.date(2023, 11, 27), datetime.date(2023, 7, 29), datetime.date(2023, 9, 28), datetime.date(2023, 4, 22), datetime.date(2023, 6, 29), datetime.date(2023, 4, 7), datetime.date(2023, 12, 25)]\n"
     ]
    }
   ],
   "source": [
    "print(holiday_dates)"
   ]
  },
  {
   "cell_type": "code",
   "execution_count": 16,
   "id": "b3188084",
   "metadata": {},
   "outputs": [],
   "source": [
    "holiday_dates = pd.to_datetime(holiday_dates)\n",
    "DATA2['is_holiday'] = np.where(DATA2['Invoice Date'].isin(holiday_dates), 1, 0)"
   ]
  },
  {
   "cell_type": "markdown",
   "id": "26ec42b7",
   "metadata": {},
   "source": [
    "2) 2nd feature time-series data"
   ]
  },
  {
   "cell_type": "code",
   "execution_count": 17,
   "id": "91a94f4d",
   "metadata": {},
   "outputs": [],
   "source": [
    "DATA2['month'] = DATA2['Invoice Date'].dt.month\n",
    "DATA2[\"day\"] = DATA2[\"Invoice Date\"].dt.day\n",
    "DATA2[\"year\"] = DATA2[\"Invoice Date\"].dt.year"
   ]
  },
  {
   "cell_type": "code",
   "execution_count": 18,
   "id": "f60c729f",
   "metadata": {},
   "outputs": [
    {
     "data": {
      "text/html": [
       "<div>\n",
       "<style scoped>\n",
       "    .dataframe tbody tr th:only-of-type {\n",
       "        vertical-align: middle;\n",
       "    }\n",
       "\n",
       "    .dataframe tbody tr th {\n",
       "        vertical-align: top;\n",
       "    }\n",
       "\n",
       "    .dataframe thead th {\n",
       "        text-align: right;\n",
       "    }\n",
       "</style>\n",
       "<table border=\"1\" class=\"dataframe\">\n",
       "  <thead>\n",
       "    <tr style=\"text-align: right;\">\n",
       "      <th></th>\n",
       "      <th>count</th>\n",
       "      <th>mean</th>\n",
       "      <th>std</th>\n",
       "      <th>min</th>\n",
       "      <th>25%</th>\n",
       "      <th>50%</th>\n",
       "      <th>75%</th>\n",
       "      <th>max</th>\n",
       "    </tr>\n",
       "  </thead>\n",
       "  <tbody>\n",
       "    <tr>\n",
       "      <th>Shipping Qty</th>\n",
       "      <td>10732.0</td>\n",
       "      <td>514.624581</td>\n",
       "      <td>776.922219</td>\n",
       "      <td>1.00</td>\n",
       "      <td>192.00</td>\n",
       "      <td>312.00</td>\n",
       "      <td>420.00</td>\n",
       "      <td>14300.00</td>\n",
       "    </tr>\n",
       "    <tr>\n",
       "      <th>Unit Price</th>\n",
       "      <td>10732.0</td>\n",
       "      <td>3977.027173</td>\n",
       "      <td>96681.589229</td>\n",
       "      <td>17.34</td>\n",
       "      <td>139.01</td>\n",
       "      <td>204.11</td>\n",
       "      <td>278.64</td>\n",
       "      <td>4000000.00</td>\n",
       "    </tr>\n",
       "    <tr>\n",
       "      <th>Sub Total</th>\n",
       "      <td>10732.0</td>\n",
       "      <td>84080.355557</td>\n",
       "      <td>127464.823596</td>\n",
       "      <td>1000.78</td>\n",
       "      <td>37046.40</td>\n",
       "      <td>65105.45</td>\n",
       "      <td>92995.20</td>\n",
       "      <td>4000000.00</td>\n",
       "    </tr>\n",
       "    <tr>\n",
       "      <th>Discount Rate</th>\n",
       "      <td>10732.0</td>\n",
       "      <td>0.000000</td>\n",
       "      <td>0.000000</td>\n",
       "      <td>0.00</td>\n",
       "      <td>0.00</td>\n",
       "      <td>0.00</td>\n",
       "      <td>0.00</td>\n",
       "      <td>0.00</td>\n",
       "    </tr>\n",
       "    <tr>\n",
       "      <th>Discount Amount</th>\n",
       "      <td>10732.0</td>\n",
       "      <td>0.000000</td>\n",
       "      <td>0.000000</td>\n",
       "      <td>0.00</td>\n",
       "      <td>0.00</td>\n",
       "      <td>0.00</td>\n",
       "      <td>0.00</td>\n",
       "      <td>0.00</td>\n",
       "    </tr>\n",
       "    <tr>\n",
       "      <th>Total Excl. Duty</th>\n",
       "      <td>10732.0</td>\n",
       "      <td>84080.355557</td>\n",
       "      <td>127464.823596</td>\n",
       "      <td>1000.78</td>\n",
       "      <td>37046.40</td>\n",
       "      <td>65105.45</td>\n",
       "      <td>92995.20</td>\n",
       "      <td>4000000.00</td>\n",
       "    </tr>\n",
       "    <tr>\n",
       "      <th>Assessable Value</th>\n",
       "      <td>10732.0</td>\n",
       "      <td>87518.755669</td>\n",
       "      <td>133459.591700</td>\n",
       "      <td>1000.78</td>\n",
       "      <td>37810.72</td>\n",
       "      <td>65823.50</td>\n",
       "      <td>92995.20</td>\n",
       "      <td>4000000.00</td>\n",
       "    </tr>\n",
       "    <tr>\n",
       "      <th>IGST</th>\n",
       "      <td>10732.0</td>\n",
       "      <td>1187.340574</td>\n",
       "      <td>17876.662695</td>\n",
       "      <td>0.00</td>\n",
       "      <td>0.00</td>\n",
       "      <td>0.00</td>\n",
       "      <td>0.00</td>\n",
       "      <td>322541.52</td>\n",
       "    </tr>\n",
       "    <tr>\n",
       "      <th>SGST</th>\n",
       "      <td>10732.0</td>\n",
       "      <td>11462.242860</td>\n",
       "      <td>13339.806633</td>\n",
       "      <td>0.00</td>\n",
       "      <td>5189.18</td>\n",
       "      <td>9175.28</td>\n",
       "      <td>12940.62</td>\n",
       "      <td>360000.00</td>\n",
       "    </tr>\n",
       "    <tr>\n",
       "      <th>CGST</th>\n",
       "      <td>10732.0</td>\n",
       "      <td>11462.242860</td>\n",
       "      <td>13339.806633</td>\n",
       "      <td>0.00</td>\n",
       "      <td>5189.18</td>\n",
       "      <td>9175.28</td>\n",
       "      <td>12940.62</td>\n",
       "      <td>360000.00</td>\n",
       "    </tr>\n",
       "    <tr>\n",
       "      <th>Grand Total</th>\n",
       "      <td>10732.0</td>\n",
       "      <td>108192.181851</td>\n",
       "      <td>157680.236944</td>\n",
       "      <td>1281.00</td>\n",
       "      <td>47800.20</td>\n",
       "      <td>83888.24</td>\n",
       "      <td>119033.86</td>\n",
       "      <td>4720000.00</td>\n",
       "    </tr>\n",
       "    <tr>\n",
       "      <th>is_holiday</th>\n",
       "      <td>10732.0</td>\n",
       "      <td>0.015375</td>\n",
       "      <td>0.123043</td>\n",
       "      <td>0.00</td>\n",
       "      <td>0.00</td>\n",
       "      <td>0.00</td>\n",
       "      <td>0.00</td>\n",
       "      <td>1.00</td>\n",
       "    </tr>\n",
       "    <tr>\n",
       "      <th>month</th>\n",
       "      <td>10732.0</td>\n",
       "      <td>6.035594</td>\n",
       "      <td>3.544864</td>\n",
       "      <td>1.00</td>\n",
       "      <td>3.00</td>\n",
       "      <td>6.00</td>\n",
       "      <td>9.00</td>\n",
       "      <td>12.00</td>\n",
       "    </tr>\n",
       "    <tr>\n",
       "      <th>day</th>\n",
       "      <td>10732.0</td>\n",
       "      <td>15.838427</td>\n",
       "      <td>8.725501</td>\n",
       "      <td>1.00</td>\n",
       "      <td>8.00</td>\n",
       "      <td>16.00</td>\n",
       "      <td>23.00</td>\n",
       "      <td>31.00</td>\n",
       "    </tr>\n",
       "    <tr>\n",
       "      <th>year</th>\n",
       "      <td>10732.0</td>\n",
       "      <td>2023.631290</td>\n",
       "      <td>0.639315</td>\n",
       "      <td>2023.00</td>\n",
       "      <td>2023.00</td>\n",
       "      <td>2024.00</td>\n",
       "      <td>2024.00</td>\n",
       "      <td>2025.00</td>\n",
       "    </tr>\n",
       "  </tbody>\n",
       "</table>\n",
       "</div>"
      ],
      "text/plain": [
       "                    count           mean            std      min       25%  \\\n",
       "Shipping Qty      10732.0     514.624581     776.922219     1.00    192.00   \n",
       "Unit Price        10732.0    3977.027173   96681.589229    17.34    139.01   \n",
       "Sub Total         10732.0   84080.355557  127464.823596  1000.78  37046.40   \n",
       "Discount Rate     10732.0       0.000000       0.000000     0.00      0.00   \n",
       "Discount Amount   10732.0       0.000000       0.000000     0.00      0.00   \n",
       "Total Excl. Duty  10732.0   84080.355557  127464.823596  1000.78  37046.40   \n",
       "Assessable Value  10732.0   87518.755669  133459.591700  1000.78  37810.72   \n",
       "IGST              10732.0    1187.340574   17876.662695     0.00      0.00   \n",
       "SGST              10732.0   11462.242860   13339.806633     0.00   5189.18   \n",
       "CGST              10732.0   11462.242860   13339.806633     0.00   5189.18   \n",
       "Grand Total       10732.0  108192.181851  157680.236944  1281.00  47800.20   \n",
       "is_holiday        10732.0       0.015375       0.123043     0.00      0.00   \n",
       "month             10732.0       6.035594       3.544864     1.00      3.00   \n",
       "day               10732.0      15.838427       8.725501     1.00      8.00   \n",
       "year              10732.0    2023.631290       0.639315  2023.00   2023.00   \n",
       "\n",
       "                       50%        75%         max  \n",
       "Shipping Qty        312.00     420.00    14300.00  \n",
       "Unit Price          204.11     278.64  4000000.00  \n",
       "Sub Total         65105.45   92995.20  4000000.00  \n",
       "Discount Rate         0.00       0.00        0.00  \n",
       "Discount Amount       0.00       0.00        0.00  \n",
       "Total Excl. Duty  65105.45   92995.20  4000000.00  \n",
       "Assessable Value  65823.50   92995.20  4000000.00  \n",
       "IGST                  0.00       0.00   322541.52  \n",
       "SGST               9175.28   12940.62   360000.00  \n",
       "CGST               9175.28   12940.62   360000.00  \n",
       "Grand Total       83888.24  119033.86  4720000.00  \n",
       "is_holiday            0.00       0.00        1.00  \n",
       "month                 6.00       9.00       12.00  \n",
       "day                  16.00      23.00       31.00  \n",
       "year               2024.00    2024.00     2025.00  "
      ]
     },
     "execution_count": 18,
     "metadata": {},
     "output_type": "execute_result"
    }
   ],
   "source": [
    "DATA2.describe().T"
   ]
  },
  {
   "cell_type": "markdown",
   "id": "a8bf6d3f",
   "metadata": {},
   "source": [
    "Removing the discount attributes as the data is irrelevant "
   ]
  },
  {
   "cell_type": "code",
   "execution_count": 19,
   "id": "5ef0e99b",
   "metadata": {},
   "outputs": [],
   "source": [
    "DATA2.drop(['Invoice No', 'Discount Rate', 'Discount Amount'], axis=1, inplace=True)"
   ]
  },
  {
   "cell_type": "code",
   "execution_count": 20,
   "id": "6b2856b7",
   "metadata": {},
   "outputs": [
    {
     "data": {
      "text/html": [
       "<div>\n",
       "<style scoped>\n",
       "    .dataframe tbody tr th:only-of-type {\n",
       "        vertical-align: middle;\n",
       "    }\n",
       "\n",
       "    .dataframe tbody tr th {\n",
       "        vertical-align: top;\n",
       "    }\n",
       "\n",
       "    .dataframe thead th {\n",
       "        text-align: right;\n",
       "    }\n",
       "</style>\n",
       "<table border=\"1\" class=\"dataframe\">\n",
       "  <thead>\n",
       "    <tr style=\"text-align: right;\">\n",
       "      <th></th>\n",
       "      <th>count</th>\n",
       "      <th>mean</th>\n",
       "      <th>std</th>\n",
       "      <th>min</th>\n",
       "      <th>25%</th>\n",
       "      <th>50%</th>\n",
       "      <th>75%</th>\n",
       "      <th>max</th>\n",
       "    </tr>\n",
       "  </thead>\n",
       "  <tbody>\n",
       "    <tr>\n",
       "      <th>Shipping Qty</th>\n",
       "      <td>10732.0</td>\n",
       "      <td>514.624581</td>\n",
       "      <td>776.922219</td>\n",
       "      <td>1.00</td>\n",
       "      <td>192.00</td>\n",
       "      <td>312.00</td>\n",
       "      <td>420.00</td>\n",
       "      <td>14300.00</td>\n",
       "    </tr>\n",
       "    <tr>\n",
       "      <th>Unit Price</th>\n",
       "      <td>10732.0</td>\n",
       "      <td>3977.027173</td>\n",
       "      <td>96681.589229</td>\n",
       "      <td>17.34</td>\n",
       "      <td>139.01</td>\n",
       "      <td>204.11</td>\n",
       "      <td>278.64</td>\n",
       "      <td>4000000.00</td>\n",
       "    </tr>\n",
       "    <tr>\n",
       "      <th>Sub Total</th>\n",
       "      <td>10732.0</td>\n",
       "      <td>84080.355557</td>\n",
       "      <td>127464.823596</td>\n",
       "      <td>1000.78</td>\n",
       "      <td>37046.40</td>\n",
       "      <td>65105.45</td>\n",
       "      <td>92995.20</td>\n",
       "      <td>4000000.00</td>\n",
       "    </tr>\n",
       "    <tr>\n",
       "      <th>Total Excl. Duty</th>\n",
       "      <td>10732.0</td>\n",
       "      <td>84080.355557</td>\n",
       "      <td>127464.823596</td>\n",
       "      <td>1000.78</td>\n",
       "      <td>37046.40</td>\n",
       "      <td>65105.45</td>\n",
       "      <td>92995.20</td>\n",
       "      <td>4000000.00</td>\n",
       "    </tr>\n",
       "    <tr>\n",
       "      <th>Assessable Value</th>\n",
       "      <td>10732.0</td>\n",
       "      <td>87518.755669</td>\n",
       "      <td>133459.591700</td>\n",
       "      <td>1000.78</td>\n",
       "      <td>37810.72</td>\n",
       "      <td>65823.50</td>\n",
       "      <td>92995.20</td>\n",
       "      <td>4000000.00</td>\n",
       "    </tr>\n",
       "    <tr>\n",
       "      <th>IGST</th>\n",
       "      <td>10732.0</td>\n",
       "      <td>1187.340574</td>\n",
       "      <td>17876.662695</td>\n",
       "      <td>0.00</td>\n",
       "      <td>0.00</td>\n",
       "      <td>0.00</td>\n",
       "      <td>0.00</td>\n",
       "      <td>322541.52</td>\n",
       "    </tr>\n",
       "    <tr>\n",
       "      <th>SGST</th>\n",
       "      <td>10732.0</td>\n",
       "      <td>11462.242860</td>\n",
       "      <td>13339.806633</td>\n",
       "      <td>0.00</td>\n",
       "      <td>5189.18</td>\n",
       "      <td>9175.28</td>\n",
       "      <td>12940.62</td>\n",
       "      <td>360000.00</td>\n",
       "    </tr>\n",
       "    <tr>\n",
       "      <th>CGST</th>\n",
       "      <td>10732.0</td>\n",
       "      <td>11462.242860</td>\n",
       "      <td>13339.806633</td>\n",
       "      <td>0.00</td>\n",
       "      <td>5189.18</td>\n",
       "      <td>9175.28</td>\n",
       "      <td>12940.62</td>\n",
       "      <td>360000.00</td>\n",
       "    </tr>\n",
       "    <tr>\n",
       "      <th>Grand Total</th>\n",
       "      <td>10732.0</td>\n",
       "      <td>108192.181851</td>\n",
       "      <td>157680.236944</td>\n",
       "      <td>1281.00</td>\n",
       "      <td>47800.20</td>\n",
       "      <td>83888.24</td>\n",
       "      <td>119033.86</td>\n",
       "      <td>4720000.00</td>\n",
       "    </tr>\n",
       "    <tr>\n",
       "      <th>is_holiday</th>\n",
       "      <td>10732.0</td>\n",
       "      <td>0.015375</td>\n",
       "      <td>0.123043</td>\n",
       "      <td>0.00</td>\n",
       "      <td>0.00</td>\n",
       "      <td>0.00</td>\n",
       "      <td>0.00</td>\n",
       "      <td>1.00</td>\n",
       "    </tr>\n",
       "    <tr>\n",
       "      <th>month</th>\n",
       "      <td>10732.0</td>\n",
       "      <td>6.035594</td>\n",
       "      <td>3.544864</td>\n",
       "      <td>1.00</td>\n",
       "      <td>3.00</td>\n",
       "      <td>6.00</td>\n",
       "      <td>9.00</td>\n",
       "      <td>12.00</td>\n",
       "    </tr>\n",
       "    <tr>\n",
       "      <th>day</th>\n",
       "      <td>10732.0</td>\n",
       "      <td>15.838427</td>\n",
       "      <td>8.725501</td>\n",
       "      <td>1.00</td>\n",
       "      <td>8.00</td>\n",
       "      <td>16.00</td>\n",
       "      <td>23.00</td>\n",
       "      <td>31.00</td>\n",
       "    </tr>\n",
       "    <tr>\n",
       "      <th>year</th>\n",
       "      <td>10732.0</td>\n",
       "      <td>2023.631290</td>\n",
       "      <td>0.639315</td>\n",
       "      <td>2023.00</td>\n",
       "      <td>2023.00</td>\n",
       "      <td>2024.00</td>\n",
       "      <td>2024.00</td>\n",
       "      <td>2025.00</td>\n",
       "    </tr>\n",
       "  </tbody>\n",
       "</table>\n",
       "</div>"
      ],
      "text/plain": [
       "                    count           mean            std      min       25%  \\\n",
       "Shipping Qty      10732.0     514.624581     776.922219     1.00    192.00   \n",
       "Unit Price        10732.0    3977.027173   96681.589229    17.34    139.01   \n",
       "Sub Total         10732.0   84080.355557  127464.823596  1000.78  37046.40   \n",
       "Total Excl. Duty  10732.0   84080.355557  127464.823596  1000.78  37046.40   \n",
       "Assessable Value  10732.0   87518.755669  133459.591700  1000.78  37810.72   \n",
       "IGST              10732.0    1187.340574   17876.662695     0.00      0.00   \n",
       "SGST              10732.0   11462.242860   13339.806633     0.00   5189.18   \n",
       "CGST              10732.0   11462.242860   13339.806633     0.00   5189.18   \n",
       "Grand Total       10732.0  108192.181851  157680.236944  1281.00  47800.20   \n",
       "is_holiday        10732.0       0.015375       0.123043     0.00      0.00   \n",
       "month             10732.0       6.035594       3.544864     1.00      3.00   \n",
       "day               10732.0      15.838427       8.725501     1.00      8.00   \n",
       "year              10732.0    2023.631290       0.639315  2023.00   2023.00   \n",
       "\n",
       "                       50%        75%         max  \n",
       "Shipping Qty        312.00     420.00    14300.00  \n",
       "Unit Price          204.11     278.64  4000000.00  \n",
       "Sub Total         65105.45   92995.20  4000000.00  \n",
       "Total Excl. Duty  65105.45   92995.20  4000000.00  \n",
       "Assessable Value  65823.50   92995.20  4000000.00  \n",
       "IGST                  0.00       0.00   322541.52  \n",
       "SGST               9175.28   12940.62   360000.00  \n",
       "CGST               9175.28   12940.62   360000.00  \n",
       "Grand Total       83888.24  119033.86  4720000.00  \n",
       "is_holiday            0.00       0.00        1.00  \n",
       "month                 6.00       9.00       12.00  \n",
       "day                  16.00      23.00       31.00  \n",
       "year               2024.00    2024.00     2025.00  "
      ]
     },
     "execution_count": 20,
     "metadata": {},
     "output_type": "execute_result"
    }
   ],
   "source": [
    "DATA2.describe().T"
   ]
  },
  {
   "cell_type": "markdown",
   "id": "78b9f82c",
   "metadata": {},
   "source": [
    "3) 3rd feature LAG features\n",
    "\n",
    "visualizing data to calculate the value of lag to be used."
   ]
  },
  {
   "cell_type": "code",
   "execution_count": 21,
   "id": "37610519",
   "metadata": {},
   "outputs": [
    {
     "data": {
      "image/png": "[encoded data removed]",
      "text/plain": [
       "<Figure size 640x480 with 1 Axes>"
      ]
     },
     "metadata": {},
     "output_type": "display_data"
    },
    {
     "data": {
      "image/png": "[encoded data removed]",
      "text/plain": [
       "<Figure size 640x480 with 1 Axes>"
      ]
     },
     "metadata": {},
     "output_type": "display_data"
    }
   ],
   "source": [
    "# Assume 'series' is your pandas Series of demand data\n",
    "plot_acf(DATA2[\"Shipping Qty\"])\n",
    "plt.show()\n",
    "\n",
    "plot_pacf(DATA2[\"Shipping Qty\"])\n",
    "plt.show()"
   ]
  },
  {
   "cell_type": "markdown",
   "metadata": {},
   "source": [
    "As we can see from the above graphs the DATA shows the best lag to be choosen is 1, any value including 2 and above can also be used but it decreases the correlation between the quantity and time series and hence reduces the models accuracy"
   ]
  },
  {
   "cell_type": "code",
   "execution_count": 22,
   "id": "ab129353",
   "metadata": {},
   "outputs": [],
   "source": [
    "DATA2[\"lag_features\"] = DATA2[\"Shipping Qty\"].shift(1)"
   ]
  },
  {
   "cell_type": "code",
   "execution_count": 23,
   "id": "48c3ebc6",
   "metadata": {},
   "outputs": [
    {
     "data": {
      "text/html": [
       "<div>\n",
       "<style scoped>\n",
       "    .dataframe tbody tr th:only-of-type {\n",
       "        vertical-align: middle;\n",
       "    }\n",
       "\n",
       "    .dataframe tbody tr th {\n",
       "        vertical-align: top;\n",
       "    }\n",
       "\n",
       "    .dataframe thead th {\n",
       "        text-align: right;\n",
       "    }\n",
       "</style>\n",
       "<table border=\"1\" class=\"dataframe\">\n",
       "  <thead>\n",
       "    <tr style=\"text-align: right;\">\n",
       "      <th></th>\n",
       "      <th>count</th>\n",
       "      <th>mean</th>\n",
       "      <th>std</th>\n",
       "      <th>min</th>\n",
       "      <th>25%</th>\n",
       "      <th>50%</th>\n",
       "      <th>75%</th>\n",
       "      <th>max</th>\n",
       "    </tr>\n",
       "  </thead>\n",
       "  <tbody>\n",
       "    <tr>\n",
       "      <th>Shipping Qty</th>\n",
       "      <td>10732.0</td>\n",
       "      <td>514.624581</td>\n",
       "      <td>776.922219</td>\n",
       "      <td>1.00</td>\n",
       "      <td>192.00</td>\n",
       "      <td>312.00</td>\n",
       "      <td>420.00</td>\n",
       "      <td>14300.00</td>\n",
       "    </tr>\n",
       "    <tr>\n",
       "      <th>Unit Price</th>\n",
       "      <td>10732.0</td>\n",
       "      <td>3977.027173</td>\n",
       "      <td>96681.589229</td>\n",
       "      <td>17.34</td>\n",
       "      <td>139.01</td>\n",
       "      <td>204.11</td>\n",
       "      <td>278.64</td>\n",
       "      <td>4000000.00</td>\n",
       "    </tr>\n",
       "    <tr>\n",
       "      <th>Sub Total</th>\n",
       "      <td>10732.0</td>\n",
       "      <td>84080.355557</td>\n",
       "      <td>127464.823596</td>\n",
       "      <td>1000.78</td>\n",
       "      <td>37046.40</td>\n",
       "      <td>65105.45</td>\n",
       "      <td>92995.20</td>\n",
       "      <td>4000000.00</td>\n",
       "    </tr>\n",
       "    <tr>\n",
       "      <th>Total Excl. Duty</th>\n",
       "      <td>10732.0</td>\n",
       "      <td>84080.355557</td>\n",
       "      <td>127464.823596</td>\n",
       "      <td>1000.78</td>\n",
       "      <td>37046.40</td>\n",
       "      <td>65105.45</td>\n",
       "      <td>92995.20</td>\n",
       "      <td>4000000.00</td>\n",
       "    </tr>\n",
       "    <tr>\n",
       "      <th>Assessable Value</th>\n",
       "      <td>10732.0</td>\n",
       "      <td>87518.755669</td>\n",
       "      <td>133459.591700</td>\n",
       "      <td>1000.78</td>\n",
       "      <td>37810.72</td>\n",
       "      <td>65823.50</td>\n",
       "      <td>92995.20</td>\n",
       "      <td>4000000.00</td>\n",
       "    </tr>\n",
       "    <tr>\n",
       "      <th>IGST</th>\n",
       "      <td>10732.0</td>\n",
       "      <td>1187.340574</td>\n",
       "      <td>17876.662695</td>\n",
       "      <td>0.00</td>\n",
       "      <td>0.00</td>\n",
       "      <td>0.00</td>\n",
       "      <td>0.00</td>\n",
       "      <td>322541.52</td>\n",
       "    </tr>\n",
       "    <tr>\n",
       "      <th>SGST</th>\n",
       "      <td>10732.0</td>\n",
       "      <td>11462.242860</td>\n",
       "      <td>13339.806633</td>\n",
       "      <td>0.00</td>\n",
       "      <td>5189.18</td>\n",
       "      <td>9175.28</td>\n",
       "      <td>12940.62</td>\n",
       "      <td>360000.00</td>\n",
       "    </tr>\n",
       "    <tr>\n",
       "      <th>CGST</th>\n",
       "      <td>10732.0</td>\n",
       "      <td>11462.242860</td>\n",
       "      <td>13339.806633</td>\n",
       "      <td>0.00</td>\n",
       "      <td>5189.18</td>\n",
       "      <td>9175.28</td>\n",
       "      <td>12940.62</td>\n",
       "      <td>360000.00</td>\n",
       "    </tr>\n",
       "    <tr>\n",
       "      <th>Grand Total</th>\n",
       "      <td>10732.0</td>\n",
       "      <td>108192.181851</td>\n",
       "      <td>157680.236944</td>\n",
       "      <td>1281.00</td>\n",
       "      <td>47800.20</td>\n",
       "      <td>83888.24</td>\n",
       "      <td>119033.86</td>\n",
       "      <td>4720000.00</td>\n",
       "    </tr>\n",
       "    <tr>\n",
       "      <th>is_holiday</th>\n",
       "      <td>10732.0</td>\n",
       "      <td>0.015375</td>\n",
       "      <td>0.123043</td>\n",
       "      <td>0.00</td>\n",
       "      <td>0.00</td>\n",
       "      <td>0.00</td>\n",
       "      <td>0.00</td>\n",
       "      <td>1.00</td>\n",
       "    </tr>\n",
       "    <tr>\n",
       "      <th>month</th>\n",
       "      <td>10732.0</td>\n",
       "      <td>6.035594</td>\n",
       "      <td>3.544864</td>\n",
       "      <td>1.00</td>\n",
       "      <td>3.00</td>\n",
       "      <td>6.00</td>\n",
       "      <td>9.00</td>\n",
       "      <td>12.00</td>\n",
       "    </tr>\n",
       "    <tr>\n",
       "      <th>day</th>\n",
       "      <td>10732.0</td>\n",
       "      <td>15.838427</td>\n",
       "      <td>8.725501</td>\n",
       "      <td>1.00</td>\n",
       "      <td>8.00</td>\n",
       "      <td>16.00</td>\n",
       "      <td>23.00</td>\n",
       "      <td>31.00</td>\n",
       "    </tr>\n",
       "    <tr>\n",
       "      <th>year</th>\n",
       "      <td>10732.0</td>\n",
       "      <td>2023.631290</td>\n",
       "      <td>0.639315</td>\n",
       "      <td>2023.00</td>\n",
       "      <td>2023.00</td>\n",
       "      <td>2024.00</td>\n",
       "      <td>2024.00</td>\n",
       "      <td>2025.00</td>\n",
       "    </tr>\n",
       "    <tr>\n",
       "      <th>lag_features</th>\n",
       "      <td>10731.0</td>\n",
       "      <td>514.630789</td>\n",
       "      <td>776.958155</td>\n",
       "      <td>1.00</td>\n",
       "      <td>192.00</td>\n",
       "      <td>312.00</td>\n",
       "      <td>420.00</td>\n",
       "      <td>14300.00</td>\n",
       "    </tr>\n",
       "  </tbody>\n",
       "</table>\n",
       "</div>"
      ],
      "text/plain": [
       "                    count           mean            std      min       25%  \\\n",
       "Shipping Qty      10732.0     514.624581     776.922219     1.00    192.00   \n",
       "Unit Price        10732.0    3977.027173   96681.589229    17.34    139.01   \n",
       "Sub Total         10732.0   84080.355557  127464.823596  1000.78  37046.40   \n",
       "Total Excl. Duty  10732.0   84080.355557  127464.823596  1000.78  37046.40   \n",
       "Assessable Value  10732.0   87518.755669  133459.591700  1000.78  37810.72   \n",
       "IGST              10732.0    1187.340574   17876.662695     0.00      0.00   \n",
       "SGST              10732.0   11462.242860   13339.806633     0.00   5189.18   \n",
       "CGST              10732.0   11462.242860   13339.806633     0.00   5189.18   \n",
       "Grand Total       10732.0  108192.181851  157680.236944  1281.00  47800.20   \n",
       "is_holiday        10732.0       0.015375       0.123043     0.00      0.00   \n",
       "month             10732.0       6.035594       3.544864     1.00      3.00   \n",
       "day               10732.0      15.838427       8.725501     1.00      8.00   \n",
       "year              10732.0    2023.631290       0.639315  2023.00   2023.00   \n",
       "lag_features      10731.0     514.630789     776.958155     1.00    192.00   \n",
       "\n",
       "                       50%        75%         max  \n",
       "Shipping Qty        312.00     420.00    14300.00  \n",
       "Unit Price          204.11     278.64  4000000.00  \n",
       "Sub Total         65105.45   92995.20  4000000.00  \n",
       "Total Excl. Duty  65105.45   92995.20  4000000.00  \n",
       "Assessable Value  65823.50   92995.20  4000000.00  \n",
       "IGST                  0.00       0.00   322541.52  \n",
       "SGST               9175.28   12940.62   360000.00  \n",
       "CGST               9175.28   12940.62   360000.00  \n",
       "Grand Total       83888.24  119033.86  4720000.00  \n",
       "is_holiday            0.00       0.00        1.00  \n",
       "month                 6.00       9.00       12.00  \n",
       "day                  16.00      23.00       31.00  \n",
       "year               2024.00    2024.00     2025.00  \n",
       "lag_features        312.00     420.00    14300.00  "
      ]
     },
     "execution_count": 23,
     "metadata": {},
     "output_type": "execute_result"
    }
   ],
   "source": [
    "DATA2.describe().T"
   ]
  },
  {
   "cell_type": "code",
   "execution_count": 24,
   "id": "f7f9a74b",
   "metadata": {},
   "outputs": [
    {
     "data": {
      "text/html": [
       "<div>\n",
       "<style scoped>\n",
       "    .dataframe tbody tr th:only-of-type {\n",
       "        vertical-align: middle;\n",
       "    }\n",
       "\n",
       "    .dataframe tbody tr th {\n",
       "        vertical-align: top;\n",
       "    }\n",
       "\n",
       "    .dataframe thead th {\n",
       "        text-align: right;\n",
       "    }\n",
       "</style>\n",
       "<table border=\"1\" class=\"dataframe\">\n",
       "  <thead>\n",
       "    <tr style=\"text-align: right;\">\n",
       "      <th></th>\n",
       "      <th>Invoice Date</th>\n",
       "      <th>Customer Code</th>\n",
       "      <th>Item No</th>\n",
       "      <th>Shipping Qty</th>\n",
       "      <th>Unit Price</th>\n",
       "      <th>Sub Total</th>\n",
       "      <th>Total Excl. Duty</th>\n",
       "      <th>Assessable Value</th>\n",
       "      <th>IGST</th>\n",
       "      <th>SGST</th>\n",
       "      <th>CGST</th>\n",
       "      <th>Grand Total</th>\n",
       "      <th>is_holiday</th>\n",
       "      <th>month</th>\n",
       "      <th>day</th>\n",
       "      <th>year</th>\n",
       "      <th>lag_features</th>\n",
       "    </tr>\n",
       "  </thead>\n",
       "  <tbody>\n",
       "    <tr>\n",
       "      <th>0</th>\n",
       "      <td>2023-01-02</td>\n",
       "      <td>TIEI-02</td>\n",
       "      <td>33575-0K080</td>\n",
       "      <td>120</td>\n",
       "      <td>535.98</td>\n",
       "      <td>64317.60</td>\n",
       "      <td>64317.60</td>\n",
       "      <td>64317.60</td>\n",
       "      <td>0.0</td>\n",
       "      <td>9004.46</td>\n",
       "      <td>9004.46</td>\n",
       "      <td>82326.52</td>\n",
       "      <td>0</td>\n",
       "      <td>1</td>\n",
       "      <td>2</td>\n",
       "      <td>2023</td>\n",
       "      <td>NaN</td>\n",
       "    </tr>\n",
       "    <tr>\n",
       "      <th>1</th>\n",
       "      <td>2023-01-02</td>\n",
       "      <td>TIEI-02</td>\n",
       "      <td>15677-0E02000</td>\n",
       "      <td>136</td>\n",
       "      <td>282.49</td>\n",
       "      <td>38418.64</td>\n",
       "      <td>38418.64</td>\n",
       "      <td>38418.64</td>\n",
       "      <td>0.0</td>\n",
       "      <td>5378.61</td>\n",
       "      <td>5378.61</td>\n",
       "      <td>49175.86</td>\n",
       "      <td>0</td>\n",
       "      <td>1</td>\n",
       "      <td>2</td>\n",
       "      <td>2023</td>\n",
       "      <td>120.0</td>\n",
       "    </tr>\n",
       "    <tr>\n",
       "      <th>2</th>\n",
       "      <td>2023-01-02</td>\n",
       "      <td>TIEI-02</td>\n",
       "      <td>16321-0E02000</td>\n",
       "      <td>140</td>\n",
       "      <td>280.10</td>\n",
       "      <td>39214.00</td>\n",
       "      <td>39214.00</td>\n",
       "      <td>39214.00</td>\n",
       "      <td>0.0</td>\n",
       "      <td>5489.96</td>\n",
       "      <td>5489.96</td>\n",
       "      <td>50193.92</td>\n",
       "      <td>0</td>\n",
       "      <td>1</td>\n",
       "      <td>2</td>\n",
       "      <td>2023</td>\n",
       "      <td>136.0</td>\n",
       "    </tr>\n",
       "    <tr>\n",
       "      <th>3</th>\n",
       "      <td>2023-01-02</td>\n",
       "      <td>TIEI-02</td>\n",
       "      <td>25624-0E02000</td>\n",
       "      <td>144</td>\n",
       "      <td>104.10</td>\n",
       "      <td>14990.40</td>\n",
       "      <td>14990.40</td>\n",
       "      <td>14990.40</td>\n",
       "      <td>0.0</td>\n",
       "      <td>2098.66</td>\n",
       "      <td>2098.66</td>\n",
       "      <td>19187.72</td>\n",
       "      <td>0</td>\n",
       "      <td>1</td>\n",
       "      <td>2</td>\n",
       "      <td>2023</td>\n",
       "      <td>140.0</td>\n",
       "    </tr>\n",
       "    <tr>\n",
       "      <th>4</th>\n",
       "      <td>2023-01-02</td>\n",
       "      <td>TIEI-02</td>\n",
       "      <td>11151-0E02000</td>\n",
       "      <td>34</td>\n",
       "      <td>137.79</td>\n",
       "      <td>4684.86</td>\n",
       "      <td>4684.86</td>\n",
       "      <td>4854.86</td>\n",
       "      <td>0.0</td>\n",
       "      <td>679.68</td>\n",
       "      <td>679.68</td>\n",
       "      <td>6044.22</td>\n",
       "      <td>0</td>\n",
       "      <td>1</td>\n",
       "      <td>2</td>\n",
       "      <td>2023</td>\n",
       "      <td>144.0</td>\n",
       "    </tr>\n",
       "  </tbody>\n",
       "</table>\n",
       "</div>"
      ],
      "text/plain": [
       "  Invoice Date Customer Code        Item No  Shipping Qty  Unit Price  \\\n",
       "0   2023-01-02       TIEI-02    33575-0K080           120      535.98   \n",
       "1   2023-01-02       TIEI-02  15677-0E02000           136      282.49   \n",
       "2   2023-01-02       TIEI-02  16321-0E02000           140      280.10   \n",
       "3   2023-01-02       TIEI-02  25624-0E02000           144      104.10   \n",
       "4   2023-01-02       TIEI-02  11151-0E02000            34      137.79   \n",
       "\n",
       "   Sub Total  Total Excl. Duty  Assessable Value  IGST     SGST     CGST  \\\n",
       "0   64317.60          64317.60          64317.60   0.0  9004.46  9004.46   \n",
       "1   38418.64          38418.64          38418.64   0.0  5378.61  5378.61   \n",
       "2   39214.00          39214.00          39214.00   0.0  5489.96  5489.96   \n",
       "3   14990.40          14990.40          14990.40   0.0  2098.66  2098.66   \n",
       "4    4684.86           4684.86           4854.86   0.0   679.68   679.68   \n",
       "\n",
       "   Grand Total  is_holiday  month  day  year  lag_features  \n",
       "0     82326.52           0      1    2  2023           NaN  \n",
       "1     49175.86           0      1    2  2023         120.0  \n",
       "2     50193.92           0      1    2  2023         136.0  \n",
       "3     19187.72           0      1    2  2023         140.0  \n",
       "4      6044.22           0      1    2  2023         144.0  "
      ]
     },
     "execution_count": 24,
     "metadata": {},
     "output_type": "execute_result"
    }
   ],
   "source": [
    "DATA2.head()"
   ]
  },
  {
   "cell_type": "code",
   "execution_count": 25,
   "id": "1464bfdc",
   "metadata": {},
   "outputs": [
    {
     "data": {
      "text/plain": [
       "Invoice Date        0\n",
       "Customer Code       0\n",
       "Item No             0\n",
       "Shipping Qty        0\n",
       "Unit Price          0\n",
       "Sub Total           0\n",
       "Total Excl. Duty    0\n",
       "Assessable Value    0\n",
       "IGST                0\n",
       "SGST                0\n",
       "CGST                0\n",
       "Grand Total         0\n",
       "is_holiday          0\n",
       "month               0\n",
       "day                 0\n",
       "year                0\n",
       "lag_features        1\n",
       "dtype: int64"
      ]
     },
     "execution_count": 25,
     "metadata": {},
     "output_type": "execute_result"
    }
   ],
   "source": [
    "DATA2.isnull().sum()"
   ]
  },
  {
   "cell_type": "code",
   "execution_count": 26,
   "id": "1ebc6ee8",
   "metadata": {},
   "outputs": [
    {
     "data": {
      "text/plain": [
       "514.6307893020222"
      ]
     },
     "execution_count": 26,
     "metadata": {},
     "output_type": "execute_result"
    }
   ],
   "source": [
    "# Calculate the mean of the column, ignoring NaNs\n",
    "lag_mean = DATA2['lag_features'].mean()\n",
    "lag_mean\n"
   ]
  },
  {
   "cell_type": "code",
   "execution_count": 27,
   "id": "7e371828",
   "metadata": {},
   "outputs": [],
   "source": [
    "# Replace NaNs with the mean\n",
    "DATA2['lag_features'] = DATA2['lag_features'].fillna(lag_mean)"
   ]
  },
  {
   "cell_type": "code",
   "execution_count": 28,
   "id": "e9b45f1d",
   "metadata": {},
   "outputs": [
    {
     "data": {
      "text/plain": [
       "Invoice Date        0\n",
       "Customer Code       0\n",
       "Item No             0\n",
       "Shipping Qty        0\n",
       "Unit Price          0\n",
       "Sub Total           0\n",
       "Total Excl. Duty    0\n",
       "Assessable Value    0\n",
       "IGST                0\n",
       "SGST                0\n",
       "CGST                0\n",
       "Grand Total         0\n",
       "is_holiday          0\n",
       "month               0\n",
       "day                 0\n",
       "year                0\n",
       "lag_features        0\n",
       "dtype: int64"
      ]
     },
     "execution_count": 28,
     "metadata": {},
     "output_type": "execute_result"
    }
   ],
   "source": [
    "DATA2.isnull().sum()"
   ]
  },
  {
   "cell_type": "markdown",
   "id": "a4dcd59f",
   "metadata": {},
   "source": [
    "4) 4th feature Rolling Average\n",
    "\n",
    "we have taken the rolling averages of the past 3 months cuz that is the most relevant according to our data."
   ]
  },
  {
   "cell_type": "code",
   "execution_count": 29,
   "id": "67e96b6f",
   "metadata": {},
   "outputs": [],
   "source": [
    "DATA2['rolling_avg_3'] = DATA2['Shipping Qty'].rolling(window=3).mean()  # 3-period average"
   ]
  },
  {
   "cell_type": "code",
   "execution_count": 30,
   "id": "74d701d6",
   "metadata": {},
   "outputs": [
    {
     "data": {
      "text/html": [
       "<div>\n",
       "<style scoped>\n",
       "    .dataframe tbody tr th:only-of-type {\n",
       "        vertical-align: middle;\n",
       "    }\n",
       "\n",
       "    .dataframe tbody tr th {\n",
       "        vertical-align: top;\n",
       "    }\n",
       "\n",
       "    .dataframe thead th {\n",
       "        text-align: right;\n",
       "    }\n",
       "</style>\n",
       "<table border=\"1\" class=\"dataframe\">\n",
       "  <thead>\n",
       "    <tr style=\"text-align: right;\">\n",
       "      <th></th>\n",
       "      <th>count</th>\n",
       "      <th>mean</th>\n",
       "      <th>std</th>\n",
       "      <th>min</th>\n",
       "      <th>25%</th>\n",
       "      <th>50%</th>\n",
       "      <th>75%</th>\n",
       "      <th>max</th>\n",
       "    </tr>\n",
       "  </thead>\n",
       "  <tbody>\n",
       "    <tr>\n",
       "      <th>Shipping Qty</th>\n",
       "      <td>10732.0</td>\n",
       "      <td>514.624581</td>\n",
       "      <td>776.922219</td>\n",
       "      <td>1.00</td>\n",
       "      <td>192.000000</td>\n",
       "      <td>312.00</td>\n",
       "      <td>420.00</td>\n",
       "      <td>1.430000e+04</td>\n",
       "    </tr>\n",
       "    <tr>\n",
       "      <th>Unit Price</th>\n",
       "      <td>10732.0</td>\n",
       "      <td>3977.027173</td>\n",
       "      <td>96681.589229</td>\n",
       "      <td>17.34</td>\n",
       "      <td>139.010000</td>\n",
       "      <td>204.11</td>\n",
       "      <td>278.64</td>\n",
       "      <td>4.000000e+06</td>\n",
       "    </tr>\n",
       "    <tr>\n",
       "      <th>Sub Total</th>\n",
       "      <td>10732.0</td>\n",
       "      <td>84080.355557</td>\n",
       "      <td>127464.823596</td>\n",
       "      <td>1000.78</td>\n",
       "      <td>37046.400000</td>\n",
       "      <td>65105.45</td>\n",
       "      <td>92995.20</td>\n",
       "      <td>4.000000e+06</td>\n",
       "    </tr>\n",
       "    <tr>\n",
       "      <th>Total Excl. Duty</th>\n",
       "      <td>10732.0</td>\n",
       "      <td>84080.355557</td>\n",
       "      <td>127464.823596</td>\n",
       "      <td>1000.78</td>\n",
       "      <td>37046.400000</td>\n",
       "      <td>65105.45</td>\n",
       "      <td>92995.20</td>\n",
       "      <td>4.000000e+06</td>\n",
       "    </tr>\n",
       "    <tr>\n",
       "      <th>Assessable Value</th>\n",
       "      <td>10732.0</td>\n",
       "      <td>87518.755669</td>\n",
       "      <td>133459.591700</td>\n",
       "      <td>1000.78</td>\n",
       "      <td>37810.720000</td>\n",
       "      <td>65823.50</td>\n",
       "      <td>92995.20</td>\n",
       "      <td>4.000000e+06</td>\n",
       "    </tr>\n",
       "    <tr>\n",
       "      <th>IGST</th>\n",
       "      <td>10732.0</td>\n",
       "      <td>1187.340574</td>\n",
       "      <td>17876.662695</td>\n",
       "      <td>0.00</td>\n",
       "      <td>0.000000</td>\n",
       "      <td>0.00</td>\n",
       "      <td>0.00</td>\n",
       "      <td>3.225415e+05</td>\n",
       "    </tr>\n",
       "    <tr>\n",
       "      <th>SGST</th>\n",
       "      <td>10732.0</td>\n",
       "      <td>11462.242860</td>\n",
       "      <td>13339.806633</td>\n",
       "      <td>0.00</td>\n",
       "      <td>5189.180000</td>\n",
       "      <td>9175.28</td>\n",
       "      <td>12940.62</td>\n",
       "      <td>3.600000e+05</td>\n",
       "    </tr>\n",
       "    <tr>\n",
       "      <th>CGST</th>\n",
       "      <td>10732.0</td>\n",
       "      <td>11462.242860</td>\n",
       "      <td>13339.806633</td>\n",
       "      <td>0.00</td>\n",
       "      <td>5189.180000</td>\n",
       "      <td>9175.28</td>\n",
       "      <td>12940.62</td>\n",
       "      <td>3.600000e+05</td>\n",
       "    </tr>\n",
       "    <tr>\n",
       "      <th>Grand Total</th>\n",
       "      <td>10732.0</td>\n",
       "      <td>108192.181851</td>\n",
       "      <td>157680.236944</td>\n",
       "      <td>1281.00</td>\n",
       "      <td>47800.200000</td>\n",
       "      <td>83888.24</td>\n",
       "      <td>119033.86</td>\n",
       "      <td>4.720000e+06</td>\n",
       "    </tr>\n",
       "    <tr>\n",
       "      <th>is_holiday</th>\n",
       "      <td>10732.0</td>\n",
       "      <td>0.015375</td>\n",
       "      <td>0.123043</td>\n",
       "      <td>0.00</td>\n",
       "      <td>0.000000</td>\n",
       "      <td>0.00</td>\n",
       "      <td>0.00</td>\n",
       "      <td>1.000000e+00</td>\n",
       "    </tr>\n",
       "    <tr>\n",
       "      <th>month</th>\n",
       "      <td>10732.0</td>\n",
       "      <td>6.035594</td>\n",
       "      <td>3.544864</td>\n",
       "      <td>1.00</td>\n",
       "      <td>3.000000</td>\n",
       "      <td>6.00</td>\n",
       "      <td>9.00</td>\n",
       "      <td>1.200000e+01</td>\n",
       "    </tr>\n",
       "    <tr>\n",
       "      <th>day</th>\n",
       "      <td>10732.0</td>\n",
       "      <td>15.838427</td>\n",
       "      <td>8.725501</td>\n",
       "      <td>1.00</td>\n",
       "      <td>8.000000</td>\n",
       "      <td>16.00</td>\n",
       "      <td>23.00</td>\n",
       "      <td>3.100000e+01</td>\n",
       "    </tr>\n",
       "    <tr>\n",
       "      <th>year</th>\n",
       "      <td>10732.0</td>\n",
       "      <td>2023.631290</td>\n",
       "      <td>0.639315</td>\n",
       "      <td>2023.00</td>\n",
       "      <td>2023.000000</td>\n",
       "      <td>2024.00</td>\n",
       "      <td>2024.00</td>\n",
       "      <td>2.025000e+03</td>\n",
       "    </tr>\n",
       "    <tr>\n",
       "      <th>lag_features</th>\n",
       "      <td>10732.0</td>\n",
       "      <td>514.630789</td>\n",
       "      <td>776.921952</td>\n",
       "      <td>1.00</td>\n",
       "      <td>192.000000</td>\n",
       "      <td>312.00</td>\n",
       "      <td>420.00</td>\n",
       "      <td>1.430000e+04</td>\n",
       "    </tr>\n",
       "    <tr>\n",
       "      <th>rolling_avg_3</th>\n",
       "      <td>10730.0</td>\n",
       "      <td>514.675023</td>\n",
       "      <td>458.853292</td>\n",
       "      <td>1.00</td>\n",
       "      <td>233.333333</td>\n",
       "      <td>318.00</td>\n",
       "      <td>744.00</td>\n",
       "      <td>5.668667e+03</td>\n",
       "    </tr>\n",
       "  </tbody>\n",
       "</table>\n",
       "</div>"
      ],
      "text/plain": [
       "                    count           mean            std      min  \\\n",
       "Shipping Qty      10732.0     514.624581     776.922219     1.00   \n",
       "Unit Price        10732.0    3977.027173   96681.589229    17.34   \n",
       "Sub Total         10732.0   84080.355557  127464.823596  1000.78   \n",
       "Total Excl. Duty  10732.0   84080.355557  127464.823596  1000.78   \n",
       "Assessable Value  10732.0   87518.755669  133459.591700  1000.78   \n",
       "IGST              10732.0    1187.340574   17876.662695     0.00   \n",
       "SGST              10732.0   11462.242860   13339.806633     0.00   \n",
       "CGST              10732.0   11462.242860   13339.806633     0.00   \n",
       "Grand Total       10732.0  108192.181851  157680.236944  1281.00   \n",
       "is_holiday        10732.0       0.015375       0.123043     0.00   \n",
       "month             10732.0       6.035594       3.544864     1.00   \n",
       "day               10732.0      15.838427       8.725501     1.00   \n",
       "year              10732.0    2023.631290       0.639315  2023.00   \n",
       "lag_features      10732.0     514.630789     776.921952     1.00   \n",
       "rolling_avg_3     10730.0     514.675023     458.853292     1.00   \n",
       "\n",
       "                           25%       50%        75%           max  \n",
       "Shipping Qty        192.000000    312.00     420.00  1.430000e+04  \n",
       "Unit Price          139.010000    204.11     278.64  4.000000e+06  \n",
       "Sub Total         37046.400000  65105.45   92995.20  4.000000e+06  \n",
       "Total Excl. Duty  37046.400000  65105.45   92995.20  4.000000e+06  \n",
       "Assessable Value  37810.720000  65823.50   92995.20  4.000000e+06  \n",
       "IGST                  0.000000      0.00       0.00  3.225415e+05  \n",
       "SGST               5189.180000   9175.28   12940.62  3.600000e+05  \n",
       "CGST               5189.180000   9175.28   12940.62  3.600000e+05  \n",
       "Grand Total       47800.200000  83888.24  119033.86  4.720000e+06  \n",
       "is_holiday            0.000000      0.00       0.00  1.000000e+00  \n",
       "month                 3.000000      6.00       9.00  1.200000e+01  \n",
       "day                   8.000000     16.00      23.00  3.100000e+01  \n",
       "year               2023.000000   2024.00    2024.00  2.025000e+03  \n",
       "lag_features        192.000000    312.00     420.00  1.430000e+04  \n",
       "rolling_avg_3       233.333333    318.00     744.00  5.668667e+03  "
      ]
     },
     "execution_count": 30,
     "metadata": {},
     "output_type": "execute_result"
    }
   ],
   "source": [
    "DATA2.describe().T"
   ]
  },
  {
   "cell_type": "code",
   "execution_count": 31,
   "id": "ecaca639",
   "metadata": {},
   "outputs": [
    {
     "data": {
      "text/plain": [
       "Invoice Date        0\n",
       "Customer Code       0\n",
       "Item No             0\n",
       "Shipping Qty        0\n",
       "Unit Price          0\n",
       "Sub Total           0\n",
       "Total Excl. Duty    0\n",
       "Assessable Value    0\n",
       "IGST                0\n",
       "SGST                0\n",
       "CGST                0\n",
       "Grand Total         0\n",
       "is_holiday          0\n",
       "month               0\n",
       "day                 0\n",
       "year                0\n",
       "lag_features        0\n",
       "rolling_avg_3       2\n",
       "dtype: int64"
      ]
     },
     "execution_count": 31,
     "metadata": {},
     "output_type": "execute_result"
    }
   ],
   "source": [
    "DATA2.isnull().sum()"
   ]
  },
  {
   "cell_type": "code",
   "execution_count": 32,
   "id": "31235f74",
   "metadata": {},
   "outputs": [
    {
     "data": {
      "text/plain": [
       "514.6750232991612"
      ]
     },
     "execution_count": 32,
     "metadata": {},
     "output_type": "execute_result"
    }
   ],
   "source": [
    "roll_avg_mean = DATA2['rolling_avg_3'].mean()\n",
    "roll_avg_mean"
   ]
  },
  {
   "cell_type": "code",
   "execution_count": 33,
   "id": "5930f66c",
   "metadata": {},
   "outputs": [
    {
     "data": {
      "text/plain": [
       "Invoice Date        0\n",
       "Customer Code       0\n",
       "Item No             0\n",
       "Shipping Qty        0\n",
       "Unit Price          0\n",
       "Sub Total           0\n",
       "Total Excl. Duty    0\n",
       "Assessable Value    0\n",
       "IGST                0\n",
       "SGST                0\n",
       "CGST                0\n",
       "Grand Total         0\n",
       "is_holiday          0\n",
       "month               0\n",
       "day                 0\n",
       "year                0\n",
       "lag_features        0\n",
       "rolling_avg_3       0\n",
       "dtype: int64"
      ]
     },
     "execution_count": 33,
     "metadata": {},
     "output_type": "execute_result"
    }
   ],
   "source": [
    "DATA2['rolling_avg_3'] = DATA2[\"rolling_avg_3\"].fillna(roll_avg_mean)\n",
    "DATA2.isnull().sum()"
   ]
  },
  {
   "cell_type": "code",
   "execution_count": 34,
   "id": "22906e5e",
   "metadata": {},
   "outputs": [
    {
     "data": {
      "text/html": [
       "<div>\n",
       "<style scoped>\n",
       "    .dataframe tbody tr th:only-of-type {\n",
       "        vertical-align: middle;\n",
       "    }\n",
       "\n",
       "    .dataframe tbody tr th {\n",
       "        vertical-align: top;\n",
       "    }\n",
       "\n",
       "    .dataframe thead th {\n",
       "        text-align: right;\n",
       "    }\n",
       "</style>\n",
       "<table border=\"1\" class=\"dataframe\">\n",
       "  <thead>\n",
       "    <tr style=\"text-align: right;\">\n",
       "      <th></th>\n",
       "      <th>Invoice Date</th>\n",
       "      <th>Customer Code</th>\n",
       "      <th>Item No</th>\n",
       "      <th>Shipping Qty</th>\n",
       "      <th>Unit Price</th>\n",
       "      <th>Sub Total</th>\n",
       "      <th>Total Excl. Duty</th>\n",
       "      <th>Assessable Value</th>\n",
       "      <th>IGST</th>\n",
       "      <th>SGST</th>\n",
       "      <th>CGST</th>\n",
       "      <th>Grand Total</th>\n",
       "      <th>is_holiday</th>\n",
       "      <th>month</th>\n",
       "      <th>day</th>\n",
       "      <th>year</th>\n",
       "      <th>lag_features</th>\n",
       "      <th>rolling_avg_3</th>\n",
       "    </tr>\n",
       "  </thead>\n",
       "  <tbody>\n",
       "    <tr>\n",
       "      <th>0</th>\n",
       "      <td>2023-01-02</td>\n",
       "      <td>TIEI-02</td>\n",
       "      <td>33575-0K080</td>\n",
       "      <td>120</td>\n",
       "      <td>535.98</td>\n",
       "      <td>64317.60</td>\n",
       "      <td>64317.60</td>\n",
       "      <td>64317.60</td>\n",
       "      <td>0.0</td>\n",
       "      <td>9004.46</td>\n",
       "      <td>9004.46</td>\n",
       "      <td>82326.52</td>\n",
       "      <td>0</td>\n",
       "      <td>1</td>\n",
       "      <td>2</td>\n",
       "      <td>2023</td>\n",
       "      <td>514.630789</td>\n",
       "      <td>514.675023</td>\n",
       "    </tr>\n",
       "    <tr>\n",
       "      <th>1</th>\n",
       "      <td>2023-01-02</td>\n",
       "      <td>TIEI-02</td>\n",
       "      <td>15677-0E02000</td>\n",
       "      <td>136</td>\n",
       "      <td>282.49</td>\n",
       "      <td>38418.64</td>\n",
       "      <td>38418.64</td>\n",
       "      <td>38418.64</td>\n",
       "      <td>0.0</td>\n",
       "      <td>5378.61</td>\n",
       "      <td>5378.61</td>\n",
       "      <td>49175.86</td>\n",
       "      <td>0</td>\n",
       "      <td>1</td>\n",
       "      <td>2</td>\n",
       "      <td>2023</td>\n",
       "      <td>120.000000</td>\n",
       "      <td>514.675023</td>\n",
       "    </tr>\n",
       "    <tr>\n",
       "      <th>2</th>\n",
       "      <td>2023-01-02</td>\n",
       "      <td>TIEI-02</td>\n",
       "      <td>16321-0E02000</td>\n",
       "      <td>140</td>\n",
       "      <td>280.10</td>\n",
       "      <td>39214.00</td>\n",
       "      <td>39214.00</td>\n",
       "      <td>39214.00</td>\n",
       "      <td>0.0</td>\n",
       "      <td>5489.96</td>\n",
       "      <td>5489.96</td>\n",
       "      <td>50193.92</td>\n",
       "      <td>0</td>\n",
       "      <td>1</td>\n",
       "      <td>2</td>\n",
       "      <td>2023</td>\n",
       "      <td>136.000000</td>\n",
       "      <td>132.000000</td>\n",
       "    </tr>\n",
       "    <tr>\n",
       "      <th>3</th>\n",
       "      <td>2023-01-02</td>\n",
       "      <td>TIEI-02</td>\n",
       "      <td>25624-0E02000</td>\n",
       "      <td>144</td>\n",
       "      <td>104.10</td>\n",
       "      <td>14990.40</td>\n",
       "      <td>14990.40</td>\n",
       "      <td>14990.40</td>\n",
       "      <td>0.0</td>\n",
       "      <td>2098.66</td>\n",
       "      <td>2098.66</td>\n",
       "      <td>19187.72</td>\n",
       "      <td>0</td>\n",
       "      <td>1</td>\n",
       "      <td>2</td>\n",
       "      <td>2023</td>\n",
       "      <td>140.000000</td>\n",
       "      <td>140.000000</td>\n",
       "    </tr>\n",
       "    <tr>\n",
       "      <th>4</th>\n",
       "      <td>2023-01-02</td>\n",
       "      <td>TIEI-02</td>\n",
       "      <td>11151-0E02000</td>\n",
       "      <td>34</td>\n",
       "      <td>137.79</td>\n",
       "      <td>4684.86</td>\n",
       "      <td>4684.86</td>\n",
       "      <td>4854.86</td>\n",
       "      <td>0.0</td>\n",
       "      <td>679.68</td>\n",
       "      <td>679.68</td>\n",
       "      <td>6044.22</td>\n",
       "      <td>0</td>\n",
       "      <td>1</td>\n",
       "      <td>2</td>\n",
       "      <td>2023</td>\n",
       "      <td>144.000000</td>\n",
       "      <td>106.000000</td>\n",
       "    </tr>\n",
       "    <tr>\n",
       "      <th>...</th>\n",
       "      <td>...</td>\n",
       "      <td>...</td>\n",
       "      <td>...</td>\n",
       "      <td>...</td>\n",
       "      <td>...</td>\n",
       "      <td>...</td>\n",
       "      <td>...</td>\n",
       "      <td>...</td>\n",
       "      <td>...</td>\n",
       "      <td>...</td>\n",
       "      <td>...</td>\n",
       "      <td>...</td>\n",
       "      <td>...</td>\n",
       "      <td>...</td>\n",
       "      <td>...</td>\n",
       "      <td>...</td>\n",
       "      <td>...</td>\n",
       "      <td>...</td>\n",
       "    </tr>\n",
       "    <tr>\n",
       "      <th>10719</th>\n",
       "      <td>2025-03-10</td>\n",
       "      <td>AKL-03</td>\n",
       "      <td>223115-41360</td>\n",
       "      <td>420</td>\n",
       "      <td>151.09</td>\n",
       "      <td>63457.80</td>\n",
       "      <td>63457.80</td>\n",
       "      <td>63457.80</td>\n",
       "      <td>0.0</td>\n",
       "      <td>8884.09</td>\n",
       "      <td>8884.09</td>\n",
       "      <td>81225.98</td>\n",
       "      <td>0</td>\n",
       "      <td>3</td>\n",
       "      <td>10</td>\n",
       "      <td>2025</td>\n",
       "      <td>420.000000</td>\n",
       "      <td>376.000000</td>\n",
       "    </tr>\n",
       "    <tr>\n",
       "      <th>10720</th>\n",
       "      <td>2025-03-11</td>\n",
       "      <td>TKM-01</td>\n",
       "      <td>23825-F201000</td>\n",
       "      <td>16</td>\n",
       "      <td>147.07</td>\n",
       "      <td>2353.12</td>\n",
       "      <td>2353.12</td>\n",
       "      <td>2353.12</td>\n",
       "      <td>0.0</td>\n",
       "      <td>329.44</td>\n",
       "      <td>329.44</td>\n",
       "      <td>3012.00</td>\n",
       "      <td>0</td>\n",
       "      <td>3</td>\n",
       "      <td>11</td>\n",
       "      <td>2025</td>\n",
       "      <td>420.000000</td>\n",
       "      <td>285.333333</td>\n",
       "    </tr>\n",
       "    <tr>\n",
       "      <th>10721</th>\n",
       "      <td>2025-03-11</td>\n",
       "      <td>TIEI-02</td>\n",
       "      <td>33575-0K080</td>\n",
       "      <td>120</td>\n",
       "      <td>535.98</td>\n",
       "      <td>64317.60</td>\n",
       "      <td>64317.60</td>\n",
       "      <td>64317.60</td>\n",
       "      <td>0.0</td>\n",
       "      <td>9004.46</td>\n",
       "      <td>9004.46</td>\n",
       "      <td>82326.52</td>\n",
       "      <td>0</td>\n",
       "      <td>3</td>\n",
       "      <td>11</td>\n",
       "      <td>2025</td>\n",
       "      <td>16.000000</td>\n",
       "      <td>185.333333</td>\n",
       "    </tr>\n",
       "    <tr>\n",
       "      <th>10722</th>\n",
       "      <td>2025-03-11</td>\n",
       "      <td>TIEI-02</td>\n",
       "      <td>15677-0E02000</td>\n",
       "      <td>300</td>\n",
       "      <td>282.50</td>\n",
       "      <td>84750.00</td>\n",
       "      <td>84750.00</td>\n",
       "      <td>84750.00</td>\n",
       "      <td>0.0</td>\n",
       "      <td>11865.00</td>\n",
       "      <td>11865.00</td>\n",
       "      <td>108480.00</td>\n",
       "      <td>0</td>\n",
       "      <td>3</td>\n",
       "      <td>11</td>\n",
       "      <td>2025</td>\n",
       "      <td>120.000000</td>\n",
       "      <td>145.333333</td>\n",
       "    </tr>\n",
       "    <tr>\n",
       "      <th>10723</th>\n",
       "      <td>2025-03-11</td>\n",
       "      <td>TIEI-02</td>\n",
       "      <td>16321-0E02000</td>\n",
       "      <td>300</td>\n",
       "      <td>280.10</td>\n",
       "      <td>84030.00</td>\n",
       "      <td>84030.00</td>\n",
       "      <td>84030.00</td>\n",
       "      <td>0.0</td>\n",
       "      <td>11764.20</td>\n",
       "      <td>11764.20</td>\n",
       "      <td>107558.40</td>\n",
       "      <td>0</td>\n",
       "      <td>3</td>\n",
       "      <td>11</td>\n",
       "      <td>2025</td>\n",
       "      <td>300.000000</td>\n",
       "      <td>240.000000</td>\n",
       "    </tr>\n",
       "  </tbody>\n",
       "</table>\n",
       "<p>10722 rows × 18 columns</p>\n",
       "</div>"
      ],
      "text/plain": [
       "      Invoice Date Customer Code        Item No  Shipping Qty  Unit Price  \\\n",
       "0       2023-01-02       TIEI-02    33575-0K080           120      535.98   \n",
       "1       2023-01-02       TIEI-02  15677-0E02000           136      282.49   \n",
       "2       2023-01-02       TIEI-02  16321-0E02000           140      280.10   \n",
       "3       2023-01-02       TIEI-02  25624-0E02000           144      104.10   \n",
       "4       2023-01-02       TIEI-02  11151-0E02000            34      137.79   \n",
       "...            ...           ...            ...           ...         ...   \n",
       "10719   2025-03-10        AKL-03   223115-41360           420      151.09   \n",
       "10720   2025-03-11        TKM-01  23825-F201000            16      147.07   \n",
       "10721   2025-03-11       TIEI-02    33575-0K080           120      535.98   \n",
       "10722   2025-03-11       TIEI-02  15677-0E02000           300      282.50   \n",
       "10723   2025-03-11       TIEI-02  16321-0E02000           300      280.10   \n",
       "\n",
       "       Sub Total  Total Excl. Duty  Assessable Value  IGST      SGST  \\\n",
       "0       64317.60          64317.60          64317.60   0.0   9004.46   \n",
       "1       38418.64          38418.64          38418.64   0.0   5378.61   \n",
       "2       39214.00          39214.00          39214.00   0.0   5489.96   \n",
       "3       14990.40          14990.40          14990.40   0.0   2098.66   \n",
       "4        4684.86           4684.86           4854.86   0.0    679.68   \n",
       "...          ...               ...               ...   ...       ...   \n",
       "10719   63457.80          63457.80          63457.80   0.0   8884.09   \n",
       "10720    2353.12           2353.12           2353.12   0.0    329.44   \n",
       "10721   64317.60          64317.60          64317.60   0.0   9004.46   \n",
       "10722   84750.00          84750.00          84750.00   0.0  11865.00   \n",
       "10723   84030.00          84030.00          84030.00   0.0  11764.20   \n",
       "\n",
       "           CGST  Grand Total  is_holiday  month  day  year  lag_features  \\\n",
       "0       9004.46     82326.52           0      1    2  2023    514.630789   \n",
       "1       5378.61     49175.86           0      1    2  2023    120.000000   \n",
       "2       5489.96     50193.92           0      1    2  2023    136.000000   \n",
       "3       2098.66     19187.72           0      1    2  2023    140.000000   \n",
       "4        679.68      6044.22           0      1    2  2023    144.000000   \n",
       "...         ...          ...         ...    ...  ...   ...           ...   \n",
       "10719   8884.09     81225.98           0      3   10  2025    420.000000   \n",
       "10720    329.44      3012.00           0      3   11  2025    420.000000   \n",
       "10721   9004.46     82326.52           0      3   11  2025     16.000000   \n",
       "10722  11865.00    108480.00           0      3   11  2025    120.000000   \n",
       "10723  11764.20    107558.40           0      3   11  2025    300.000000   \n",
       "\n",
       "       rolling_avg_3  \n",
       "0         514.675023  \n",
       "1         514.675023  \n",
       "2         132.000000  \n",
       "3         140.000000  \n",
       "4         106.000000  \n",
       "...              ...  \n",
       "10719     376.000000  \n",
       "10720     285.333333  \n",
       "10721     185.333333  \n",
       "10722     145.333333  \n",
       "10723     240.000000  \n",
       "\n",
       "[10722 rows x 18 columns]"
      ]
     },
     "execution_count": 34,
     "metadata": {},
     "output_type": "execute_result"
    }
   ],
   "source": [
    "DATA2.head(-10)"
   ]
  },
  {
   "cell_type": "code",
   "execution_count": 35,
   "id": "5dbadd5c",
   "metadata": {},
   "outputs": [],
   "source": [
    "#DATA2.to_excel(\"cleaned_dataset2.xlsx\", index=False)"
   ]
  },
  {
   "cell_type": "markdown",
   "id": "67b4f35e",
   "metadata": {},
   "source": [
    "the DATA is properly preprocessed, if the data is prepared or designed as above, it is also recommended to add the error percenatges of each months forecastings to each of the invoice dates, this would improve the models performance."
   ]
  },
  {
   "cell_type": "markdown",
   "id": "6ce6a556",
   "metadata": {},
   "source": [
    "preparing the data for testing and training"
   ]
  },
  {
   "cell_type": "markdown",
   "id": "594be902",
   "metadata": {},
   "source": [
    "1) Normalization/Scaling"
   ]
  },
  {
   "cell_type": "markdown",
   "id": "28aed9c1",
   "metadata": {},
   "source": [
    "LSTM networks are sensitive to the scale of input data. Large differences in feature scales can hinder learning."
   ]
  },
  {
   "cell_type": "markdown",
   "id": "e4efc43c",
   "metadata": {},
   "source": [
    "Use normalization (e.g., MinMaxScaler) or standardization (e.g., StandardScaler) to scale all input features to a similar range, typically  or with zero mean and unit variance."
   ]
  },
  {
   "cell_type": "code",
   "execution_count": 36,
   "id": "1ae17fc0",
   "metadata": {},
   "outputs": [
    {
     "name": "stdout",
     "output_type": "stream",
     "text": [
      "15\n"
     ]
    }
   ],
   "source": [
    "numeric_cols = DATA2.select_dtypes(include=['number'])\n",
    "print(len(numeric_cols.columns))\n",
    "# Apply MinMaxScaler\n",
    "scaler = MinMaxScaler()\n",
    "scaled_data = scaler.fit_transform(numeric_cols)\n",
    "\n",
    "# If you want it back as a DataFrame:\n",
    "scaled_data = pd.DataFrame(scaled_data, columns=numeric_cols.columns)\n",
    "final_data = pd.concat([DATA2.select_dtypes(exclude=['number']), scaled_data], axis=1)\n",
    "final_data.drop(columns = ['Invoice Date'], inplace=True)"
   ]
  },
  {
   "cell_type": "code",
   "execution_count": 37,
   "id": "6b85ec21",
   "metadata": {},
   "outputs": [],
   "source": [
    "final_data = pd.get_dummies(final_data, columns=['Item No', 'Customer Code'], dtype=int)"
   ]
  },
  {
   "cell_type": "code",
   "execution_count": 38,
   "id": "a047b9fc",
   "metadata": {},
   "outputs": [
    {
     "data": {
      "text/html": [
       "<div>\n",
       "<style scoped>\n",
       "    .dataframe tbody tr th:only-of-type {\n",
       "        vertical-align: middle;\n",
       "    }\n",
       "\n",
       "    .dataframe tbody tr th {\n",
       "        vertical-align: top;\n",
       "    }\n",
       "\n",
       "    .dataframe thead th {\n",
       "        text-align: right;\n",
       "    }\n",
       "</style>\n",
       "<table border=\"1\" class=\"dataframe\">\n",
       "  <thead>\n",
       "    <tr style=\"text-align: right;\">\n",
       "      <th></th>\n",
       "      <th>Shipping Qty</th>\n",
       "      <th>Unit Price</th>\n",
       "      <th>Sub Total</th>\n",
       "      <th>Total Excl. Duty</th>\n",
       "      <th>Assessable Value</th>\n",
       "      <th>IGST</th>\n",
       "      <th>SGST</th>\n",
       "      <th>CGST</th>\n",
       "      <th>Grand Total</th>\n",
       "      <th>is_holiday</th>\n",
       "      <th>...</th>\n",
       "      <th>Item No_JIG-16575-VT05000</th>\n",
       "      <th>Item No_JIG-223111-41340</th>\n",
       "      <th>Item No_JIG-223115-11970</th>\n",
       "      <th>Item No_JIG-223115-11980</th>\n",
       "      <th>Item No_JIG-223115-41360</th>\n",
       "      <th>Item No_JIG-23825-F201000</th>\n",
       "      <th>Customer Code_AAI-04</th>\n",
       "      <th>Customer Code_AKL-03</th>\n",
       "      <th>Customer Code_TIEI-02</th>\n",
       "      <th>Customer Code_TKM-01</th>\n",
       "    </tr>\n",
       "  </thead>\n",
       "  <tbody>\n",
       "    <tr>\n",
       "      <th>0</th>\n",
       "      <td>0.008322</td>\n",
       "      <td>1.296606e-04</td>\n",
       "      <td>0.015833</td>\n",
       "      <td>0.015833</td>\n",
       "      <td>0.015833</td>\n",
       "      <td>0.0</td>\n",
       "      <td>0.025012</td>\n",
       "      <td>0.025012</td>\n",
       "      <td>0.017175</td>\n",
       "      <td>0.0</td>\n",
       "      <td>...</td>\n",
       "      <td>0</td>\n",
       "      <td>0</td>\n",
       "      <td>0</td>\n",
       "      <td>0</td>\n",
       "      <td>0</td>\n",
       "      <td>0</td>\n",
       "      <td>0</td>\n",
       "      <td>0</td>\n",
       "      <td>1</td>\n",
       "      <td>0</td>\n",
       "    </tr>\n",
       "    <tr>\n",
       "      <th>1</th>\n",
       "      <td>0.009441</td>\n",
       "      <td>6.628779e-05</td>\n",
       "      <td>0.009357</td>\n",
       "      <td>0.009357</td>\n",
       "      <td>0.009357</td>\n",
       "      <td>0.0</td>\n",
       "      <td>0.014941</td>\n",
       "      <td>0.014941</td>\n",
       "      <td>0.010150</td>\n",
       "      <td>0.0</td>\n",
       "      <td>...</td>\n",
       "      <td>0</td>\n",
       "      <td>0</td>\n",
       "      <td>0</td>\n",
       "      <td>0</td>\n",
       "      <td>0</td>\n",
       "      <td>0</td>\n",
       "      <td>0</td>\n",
       "      <td>0</td>\n",
       "      <td>1</td>\n",
       "      <td>0</td>\n",
       "    </tr>\n",
       "    <tr>\n",
       "      <th>2</th>\n",
       "      <td>0.009721</td>\n",
       "      <td>6.569028e-05</td>\n",
       "      <td>0.009556</td>\n",
       "      <td>0.009556</td>\n",
       "      <td>0.009556</td>\n",
       "      <td>0.0</td>\n",
       "      <td>0.015250</td>\n",
       "      <td>0.015250</td>\n",
       "      <td>0.010366</td>\n",
       "      <td>0.0</td>\n",
       "      <td>...</td>\n",
       "      <td>0</td>\n",
       "      <td>0</td>\n",
       "      <td>0</td>\n",
       "      <td>0</td>\n",
       "      <td>0</td>\n",
       "      <td>0</td>\n",
       "      <td>0</td>\n",
       "      <td>0</td>\n",
       "      <td>1</td>\n",
       "      <td>0</td>\n",
       "    </tr>\n",
       "    <tr>\n",
       "      <th>3</th>\n",
       "      <td>0.010001</td>\n",
       "      <td>2.169009e-05</td>\n",
       "      <td>0.003498</td>\n",
       "      <td>0.003498</td>\n",
       "      <td>0.003498</td>\n",
       "      <td>0.0</td>\n",
       "      <td>0.005830</td>\n",
       "      <td>0.005830</td>\n",
       "      <td>0.003795</td>\n",
       "      <td>0.0</td>\n",
       "      <td>...</td>\n",
       "      <td>0</td>\n",
       "      <td>0</td>\n",
       "      <td>0</td>\n",
       "      <td>0</td>\n",
       "      <td>0</td>\n",
       "      <td>0</td>\n",
       "      <td>0</td>\n",
       "      <td>0</td>\n",
       "      <td>1</td>\n",
       "      <td>0</td>\n",
       "    </tr>\n",
       "    <tr>\n",
       "      <th>4</th>\n",
       "      <td>0.002308</td>\n",
       "      <td>3.011263e-05</td>\n",
       "      <td>0.000921</td>\n",
       "      <td>0.000921</td>\n",
       "      <td>0.000964</td>\n",
       "      <td>0.0</td>\n",
       "      <td>0.001888</td>\n",
       "      <td>0.001888</td>\n",
       "      <td>0.001009</td>\n",
       "      <td>0.0</td>\n",
       "      <td>...</td>\n",
       "      <td>0</td>\n",
       "      <td>0</td>\n",
       "      <td>0</td>\n",
       "      <td>0</td>\n",
       "      <td>0</td>\n",
       "      <td>0</td>\n",
       "      <td>0</td>\n",
       "      <td>0</td>\n",
       "      <td>1</td>\n",
       "      <td>0</td>\n",
       "    </tr>\n",
       "    <tr>\n",
       "      <th>...</th>\n",
       "      <td>...</td>\n",
       "      <td>...</td>\n",
       "      <td>...</td>\n",
       "      <td>...</td>\n",
       "      <td>...</td>\n",
       "      <td>...</td>\n",
       "      <td>...</td>\n",
       "      <td>...</td>\n",
       "      <td>...</td>\n",
       "      <td>...</td>\n",
       "      <td>...</td>\n",
       "      <td>...</td>\n",
       "      <td>...</td>\n",
       "      <td>...</td>\n",
       "      <td>...</td>\n",
       "      <td>...</td>\n",
       "      <td>...</td>\n",
       "      <td>...</td>\n",
       "      <td>...</td>\n",
       "      <td>...</td>\n",
       "      <td>...</td>\n",
       "    </tr>\n",
       "    <tr>\n",
       "      <th>10721</th>\n",
       "      <td>0.020911</td>\n",
       "      <td>6.569028e-05</td>\n",
       "      <td>0.020762</td>\n",
       "      <td>0.020762</td>\n",
       "      <td>0.020762</td>\n",
       "      <td>0.0</td>\n",
       "      <td>0.032678</td>\n",
       "      <td>0.032678</td>\n",
       "      <td>0.022523</td>\n",
       "      <td>0.0</td>\n",
       "      <td>...</td>\n",
       "      <td>0</td>\n",
       "      <td>0</td>\n",
       "      <td>0</td>\n",
       "      <td>0</td>\n",
       "      <td>0</td>\n",
       "      <td>0</td>\n",
       "      <td>0</td>\n",
       "      <td>0</td>\n",
       "      <td>1</td>\n",
       "      <td>0</td>\n",
       "    </tr>\n",
       "    <tr>\n",
       "      <th>10722</th>\n",
       "      <td>0.020911</td>\n",
       "      <td>2.169009e-05</td>\n",
       "      <td>0.007559</td>\n",
       "      <td>0.007559</td>\n",
       "      <td>0.007559</td>\n",
       "      <td>0.0</td>\n",
       "      <td>0.012145</td>\n",
       "      <td>0.012145</td>\n",
       "      <td>0.008200</td>\n",
       "      <td>0.0</td>\n",
       "      <td>...</td>\n",
       "      <td>0</td>\n",
       "      <td>0</td>\n",
       "      <td>0</td>\n",
       "      <td>0</td>\n",
       "      <td>0</td>\n",
       "      <td>0</td>\n",
       "      <td>0</td>\n",
       "      <td>0</td>\n",
       "      <td>1</td>\n",
       "      <td>0</td>\n",
       "    </tr>\n",
       "    <tr>\n",
       "      <th>10723</th>\n",
       "      <td>0.030841</td>\n",
       "      <td>3.128264e-05</td>\n",
       "      <td>0.015497</td>\n",
       "      <td>0.015497</td>\n",
       "      <td>0.015497</td>\n",
       "      <td>0.0</td>\n",
       "      <td>0.024489</td>\n",
       "      <td>0.024489</td>\n",
       "      <td>0.016810</td>\n",
       "      <td>0.0</td>\n",
       "      <td>...</td>\n",
       "      <td>0</td>\n",
       "      <td>0</td>\n",
       "      <td>0</td>\n",
       "      <td>0</td>\n",
       "      <td>0</td>\n",
       "      <td>0</td>\n",
       "      <td>0</td>\n",
       "      <td>0</td>\n",
       "      <td>1</td>\n",
       "      <td>0</td>\n",
       "    </tr>\n",
       "    <tr>\n",
       "      <th>10724</th>\n",
       "      <td>0.246101</td>\n",
       "      <td>3.750016e-07</td>\n",
       "      <td>0.016333</td>\n",
       "      <td>0.016333</td>\n",
       "      <td>0.016333</td>\n",
       "      <td>0.0</td>\n",
       "      <td>0.025790</td>\n",
       "      <td>0.025790</td>\n",
       "      <td>0.017718</td>\n",
       "      <td>0.0</td>\n",
       "      <td>...</td>\n",
       "      <td>0</td>\n",
       "      <td>0</td>\n",
       "      <td>0</td>\n",
       "      <td>0</td>\n",
       "      <td>0</td>\n",
       "      <td>0</td>\n",
       "      <td>0</td>\n",
       "      <td>0</td>\n",
       "      <td>1</td>\n",
       "      <td>0</td>\n",
       "    </tr>\n",
       "    <tr>\n",
       "      <th>10725</th>\n",
       "      <td>0.030142</td>\n",
       "      <td>1.082005e-05</td>\n",
       "      <td>0.006298</td>\n",
       "      <td>0.006298</td>\n",
       "      <td>0.006622</td>\n",
       "      <td>0.0</td>\n",
       "      <td>0.010688</td>\n",
       "      <td>0.010688</td>\n",
       "      <td>0.006909</td>\n",
       "      <td>0.0</td>\n",
       "      <td>...</td>\n",
       "      <td>0</td>\n",
       "      <td>0</td>\n",
       "      <td>0</td>\n",
       "      <td>0</td>\n",
       "      <td>0</td>\n",
       "      <td>0</td>\n",
       "      <td>0</td>\n",
       "      <td>0</td>\n",
       "      <td>1</td>\n",
       "      <td>0</td>\n",
       "    </tr>\n",
       "  </tbody>\n",
       "</table>\n",
       "<p>10724 rows × 63 columns</p>\n",
       "</div>"
      ],
      "text/plain": [
       "       Shipping Qty    Unit Price  Sub Total  Total Excl. Duty  \\\n",
       "0          0.008322  1.296606e-04   0.015833          0.015833   \n",
       "1          0.009441  6.628779e-05   0.009357          0.009357   \n",
       "2          0.009721  6.569028e-05   0.009556          0.009556   \n",
       "3          0.010001  2.169009e-05   0.003498          0.003498   \n",
       "4          0.002308  3.011263e-05   0.000921          0.000921   \n",
       "...             ...           ...        ...               ...   \n",
       "10721      0.020911  6.569028e-05   0.020762          0.020762   \n",
       "10722      0.020911  2.169009e-05   0.007559          0.007559   \n",
       "10723      0.030841  3.128264e-05   0.015497          0.015497   \n",
       "10724      0.246101  3.750016e-07   0.016333          0.016333   \n",
       "10725      0.030142  1.082005e-05   0.006298          0.006298   \n",
       "\n",
       "       Assessable Value  IGST      SGST      CGST  Grand Total  is_holiday  \\\n",
       "0              0.015833   0.0  0.025012  0.025012     0.017175         0.0   \n",
       "1              0.009357   0.0  0.014941  0.014941     0.010150         0.0   \n",
       "2              0.009556   0.0  0.015250  0.015250     0.010366         0.0   \n",
       "3              0.003498   0.0  0.005830  0.005830     0.003795         0.0   \n",
       "4              0.000964   0.0  0.001888  0.001888     0.001009         0.0   \n",
       "...                 ...   ...       ...       ...          ...         ...   \n",
       "10721          0.020762   0.0  0.032678  0.032678     0.022523         0.0   \n",
       "10722          0.007559   0.0  0.012145  0.012145     0.008200         0.0   \n",
       "10723          0.015497   0.0  0.024489  0.024489     0.016810         0.0   \n",
       "10724          0.016333   0.0  0.025790  0.025790     0.017718         0.0   \n",
       "10725          0.006622   0.0  0.010688  0.010688     0.006909         0.0   \n",
       "\n",
       "       ...  Item No_JIG-16575-VT05000  Item No_JIG-223111-41340  \\\n",
       "0      ...                          0                         0   \n",
       "1      ...                          0                         0   \n",
       "2      ...                          0                         0   \n",
       "3      ...                          0                         0   \n",
       "4      ...                          0                         0   \n",
       "...    ...                        ...                       ...   \n",
       "10721  ...                          0                         0   \n",
       "10722  ...                          0                         0   \n",
       "10723  ...                          0                         0   \n",
       "10724  ...                          0                         0   \n",
       "10725  ...                          0                         0   \n",
       "\n",
       "       Item No_JIG-223115-11970  Item No_JIG-223115-11980  \\\n",
       "0                             0                         0   \n",
       "1                             0                         0   \n",
       "2                             0                         0   \n",
       "3                             0                         0   \n",
       "4                             0                         0   \n",
       "...                         ...                       ...   \n",
       "10721                         0                         0   \n",
       "10722                         0                         0   \n",
       "10723                         0                         0   \n",
       "10724                         0                         0   \n",
       "10725                         0                         0   \n",
       "\n",
       "       Item No_JIG-223115-41360  Item No_JIG-23825-F201000  \\\n",
       "0                             0                          0   \n",
       "1                             0                          0   \n",
       "2                             0                          0   \n",
       "3                             0                          0   \n",
       "4                             0                          0   \n",
       "...                         ...                        ...   \n",
       "10721                         0                          0   \n",
       "10722                         0                          0   \n",
       "10723                         0                          0   \n",
       "10724                         0                          0   \n",
       "10725                         0                          0   \n",
       "\n",
       "       Customer Code_AAI-04  Customer Code_AKL-03  Customer Code_TIEI-02  \\\n",
       "0                         0                     0                      1   \n",
       "1                         0                     0                      1   \n",
       "2                         0                     0                      1   \n",
       "3                         0                     0                      1   \n",
       "4                         0                     0                      1   \n",
       "...                     ...                   ...                    ...   \n",
       "10721                     0                     0                      1   \n",
       "10722                     0                     0                      1   \n",
       "10723                     0                     0                      1   \n",
       "10724                     0                     0                      1   \n",
       "10725                     0                     0                      1   \n",
       "\n",
       "       Customer Code_TKM-01  \n",
       "0                         0  \n",
       "1                         0  \n",
       "2                         0  \n",
       "3                         0  \n",
       "4                         0  \n",
       "...                     ...  \n",
       "10721                     0  \n",
       "10722                     0  \n",
       "10723                     0  \n",
       "10724                     0  \n",
       "10725                     0  \n",
       "\n",
       "[10724 rows x 63 columns]"
      ]
     },
     "execution_count": 38,
     "metadata": {},
     "output_type": "execute_result"
    }
   ],
   "source": [
    "final_data.head(-10)"
   ]
  },
  {
   "cell_type": "markdown",
   "id": "dc896e4d",
   "metadata": {},
   "source": [
    "2) Sequence genartion(windowing)"
   ]
  },
  {
   "cell_type": "markdown",
   "id": "155a79f7",
   "metadata": {},
   "source": [
    "LSTMs expect input data in the form of sequences (windows) of past observations to predict future values."
   ]
  },
  {
   "cell_type": "code",
   "execution_count": 39,
   "id": "4881e40c",
   "metadata": {},
   "outputs": [],
   "source": [
    "def create_sequences(data, look_back=3, target_col=0):\n",
    "    X, y = [], []\n",
    "    for i in range(len(data) - look_back):\n",
    "        X.append(data[i:i+look_back])\n",
    "        y.append(data[i+look_back, target_col])\n",
    "        \n",
    "    return np.array(X), np.array(y)\n"
   ]
  },
  {
   "cell_type": "code",
   "execution_count": 40,
   "id": "33dc7fcc",
   "metadata": {},
   "outputs": [
    {
     "data": {
      "text/plain": [
       "(10731, 3, 63)"
      ]
     },
     "execution_count": 40,
     "metadata": {},
     "output_type": "execute_result"
    }
   ],
   "source": [
    "X, y = create_sequences(final_data.to_numpy(), look_back=3, target_col=0)\n",
    "X.shape"
   ]
  },
  {
   "cell_type": "code",
   "execution_count": 41,
   "id": "55f618de",
   "metadata": {},
   "outputs": [
    {
     "data": {
      "text/plain": [
       "75"
      ]
     },
     "execution_count": 41,
     "metadata": {},
     "output_type": "execute_result"
    }
   ],
   "source": [
    "np.isnan(X).sum()"
   ]
  },
  {
   "cell_type": "code",
   "execution_count": 42,
   "id": "bf95e121",
   "metadata": {},
   "outputs": [
    {
     "data": {
      "text/plain": [
       "2"
      ]
     },
     "execution_count": 42,
     "metadata": {},
     "output_type": "execute_result"
    }
   ],
   "source": [
    "np.isnan(y).sum()"
   ]
  },
  {
   "cell_type": "code",
   "execution_count": 43,
   "id": "f1a993de",
   "metadata": {},
   "outputs": [
    {
     "data": {
      "text/plain": [
       "0"
      ]
     },
     "execution_count": 43,
     "metadata": {},
     "output_type": "execute_result"
    }
   ],
   "source": [
    "mask_X = ~np.isnan(X).any(axis=(1,2))  # True where X row has no NaN\n",
    "mask_y = ~np.isnan(y)                  # True where y is not NaN\n",
    "mask = mask_X & mask_y                 # Only keep where both are valid\n",
    "\n",
    "# Apply mask to both X and y\n",
    "X = X[mask]\n",
    "y = y[mask]\n",
    "\n",
    "np.isnan(X).sum()\n",
    "np.isnan(y).sum()"
   ]
  },
  {
   "cell_type": "markdown",
   "id": "14e9784f",
   "metadata": {},
   "source": [
    "3) Splitting training and testing data"
   ]
  },
  {
   "cell_type": "markdown",
   "id": "5f2ef083",
   "metadata": {},
   "source": [
    "The popular train_test_split function from scikit-learn is not suitable for time series data because it splits the data randomly by default."
   ]
  },
  {
   "cell_type": "code",
   "execution_count": 44,
   "id": "99fb69b5",
   "metadata": {},
   "outputs": [],
   "source": [
    "n = len(X)\n",
    "train_end = int(n * 0.6)\n",
    "val_end = int(n * 0.8)  # train + val"
   ]
  },
  {
   "cell_type": "markdown",
   "id": "2fee604b",
   "metadata": {},
   "source": [
    "splitting the data accordingly, 80%, 60%, 20% for training, validation and testing respectively"
   ]
  },
  {
   "cell_type": "code",
   "execution_count": 45,
   "id": "5391b1a3",
   "metadata": {},
   "outputs": [],
   "source": [
    "X_train = X[:train_end]\n",
    "y_train = y[:train_end]\n",
    "\n",
    "X_val = X[train_end:val_end]\n",
    "y_val = y[train_end:val_end]\n",
    "\n",
    "X_test = X[val_end:]\n",
    "y_test = y[val_end:]"
   ]
  },
  {
   "cell_type": "markdown",
   "id": "f9238fde",
   "metadata": {},
   "source": [
    "Model traing"
   ]
  },
  {
   "cell_type": "markdown",
   "id": "3fb1e58c",
   "metadata": {},
   "source": [
    "We'll be training and comparing various types of models(common statistical models, machine learning moidls and deep learning models)"
   ]
  },
  {
   "cell_type": "markdown",
   "id": "52f3c162",
   "metadata": {},
   "source": [
    "1) first will be the common models which we r going for ARIMA/SARIMA"
   ]
  },
  {
   "cell_type": "code",
   "execution_count": 46,
   "id": "308e43f1",
   "metadata": {},
   "outputs": [],
   "source": [
    "'''arima_model = ARIMA(y_train).fit()\n",
    "arima_pred = arima_model.predict(start=len(y_train), end=len(y_train)+len(y_test)-1)\n",
    "\n",
    "# SARIMA (if seasonality is present)\n",
    "sarima_model = SARIMAX(y_train).fit()\n",
    "sarima_pred = sarima_model.predict(start=len(y_train), end=len(y_train)+len(y_test)-1)'''\n",
    "\n",
    "# For ARIMA (non-seasonal)\n",
    "arima_model = auto_arima(y_train)\n",
    "\n",
    "# For SARIMA (seasonal)\n",
    "sarima_model = auto_arima(y_train, seasonal=True, m=12)  # m=seasonal period (e.g., 12 for monthly data)"
   ]
  },
  {
   "cell_type": "code",
   "execution_count": 47,
   "id": "e11958cc",
   "metadata": {},
   "outputs": [],
   "source": [
    "n_periods = len(y_test)\n",
    "arima_pred = arima_model.predict(n_periods=n_periods)\n",
    "sarima_pred = sarima_model.predict(n_periods=n_periods)"
   ]
  },
  {
   "cell_type": "markdown",
   "id": "b2e5d5eb",
   "metadata": {},
   "source": [
    "2) Decision trees (Machine Learning model)"
   ]
  },
  {
   "cell_type": "code",
   "execution_count": 48,
   "id": "9ec52720",
   "metadata": {},
   "outputs": [],
   "source": [
    "# Example: If X_train.shape is (n_samples, n_features, 1)\n",
    "dt_X_train = X_train.reshape(X_train.shape[0], -1)\n",
    "dt_X_test = X_test.reshape(X_test.shape[0], -1)\n",
    "\n",
    "dt_model = DecisionTreeRegressor()\n",
    "dt_model.fit(dt_X_train, y_train)\n",
    "dt_pred = dt_model.predict(dt_X_test)"
   ]
  },
  {
   "cell_type": "markdown",
   "id": "d9f444e0",
   "metadata": {},
   "source": [
    "3) Random forest (Machine learning model)"
   ]
  },
  {
   "cell_type": "code",
   "execution_count": 49,
   "id": "fe92faa6",
   "metadata": {},
   "outputs": [],
   "source": [
    "rf_model = RandomForestRegressor(n_estimators=100)\n",
    "rf_model.fit(dt_X_train, y_train)\n",
    "rf_pred = rf_model.predict(dt_X_test)"
   ]
  },
  {
   "cell_type": "markdown",
   "id": "f9105e4c",
   "metadata": {},
   "source": [
    "4) GRU model (Deep learning model)"
   ]
  },
  {
   "cell_type": "code",
   "execution_count": 50,
   "id": "f9fb1c00",
   "metadata": {},
   "outputs": [
    {
     "name": "stderr",
     "output_type": "stream",
     "text": [
      "c:\\Users\\HP\\AppData\\Local\\Programs\\Python\\Python310\\lib\\site-packages\\keras\\src\\layers\\rnn\\rnn.py:204: UserWarning: Do not pass an `input_shape`/`input_dim` argument to a layer. When using Sequential models, prefer using an `Input(shape)` object as the first layer in the model instead.\n",
      "  super().__init__(**kwargs)\n"
     ]
    }
   ],
   "source": [
    "gru_model = Sequential()\n",
    "gru_model.add(GRU(64, activation='tanh', return_sequences=True, input_shape=(3, 63)))\n",
    "gru_model.add(Dropout(0.2))\n",
    "gru_model.add(GRU(32, activation='tanh', return_sequences=True))\n",
    "gru_model.add(Dropout(0.2))\n",
    "gru_model.add(GRU(16, activation='tanh'))  # Last GRU layer: return_sequences=False (default)\n",
    "gru_model.add(Dropout(0.2))\n",
    "gru_model.add(Dense(1))\n",
    "\n",
    "gru_model.compile(optimizer='adam', loss='mse')"
   ]
  },
  {
   "cell_type": "code",
   "execution_count": 51,
   "id": "0c6a8627",
   "metadata": {},
   "outputs": [
    {
     "data": {
      "text/plain": [
       "(6436,)"
      ]
     },
     "execution_count": 51,
     "metadata": {},
     "output_type": "execute_result"
    }
   ],
   "source": [
    "y_train.shape"
   ]
  },
  {
   "cell_type": "code",
   "execution_count": 52,
   "id": "96777f6f",
   "metadata": {},
   "outputs": [
    {
     "name": "stdout",
     "output_type": "stream",
     "text": [
      "Epoch 1/100\n",
      "\u001b[1m202/202\u001b[0m \u001b[32m━━━━━━━━━━━━━━━━━━━━\u001b[0m\u001b[37m\u001b[0m \u001b[1m8s\u001b[0m 10ms/step - loss: 0.0036 - val_loss: 0.0024\n",
      "Epoch 2/100\n",
      "\u001b[1m202/202\u001b[0m \u001b[32m━━━━━━━━━━━━━━━━━━━━\u001b[0m\u001b[37m\u001b[0m \u001b[1m2s\u001b[0m 9ms/step - loss: 0.0019 - val_loss: 0.0020\n",
      "Epoch 3/100\n",
      "\u001b[1m202/202\u001b[0m \u001b[32m━━━━━━━━━━━━━━━━━━━━\u001b[0m\u001b[37m\u001b[0m \u001b[1m1s\u001b[0m 7ms/step - loss: 0.0016 - val_loss: 0.0017\n",
      "Epoch 4/100\n",
      "\u001b[1m202/202\u001b[0m \u001b[32m━━━━━━━━━━━━━━━━━━━━\u001b[0m\u001b[37m\u001b[0m \u001b[1m1s\u001b[0m 7ms/step - loss: 0.0016 - val_loss: 0.0017\n",
      "Epoch 5/100\n",
      "\u001b[1m202/202\u001b[0m \u001b[32m━━━━━━━━━━━━━━━━━━━━\u001b[0m\u001b[37m\u001b[0m \u001b[1m2s\u001b[0m 7ms/step - loss: 0.0015 - val_loss: 0.0021\n",
      "Epoch 6/100\n",
      "\u001b[1m202/202\u001b[0m \u001b[32m━━━━━━━━━━━━━━━━━━━━\u001b[0m\u001b[37m\u001b[0m \u001b[1m2s\u001b[0m 10ms/step - loss: 0.0014 - val_loss: 0.0017\n",
      "Epoch 7/100\n",
      "\u001b[1m202/202\u001b[0m \u001b[32m━━━━━━━━━━━━━━━━━━━━\u001b[0m\u001b[37m\u001b[0m \u001b[1m1s\u001b[0m 7ms/step - loss: 0.0013 - val_loss: 0.0016\n",
      "Epoch 8/100\n",
      "\u001b[1m202/202\u001b[0m \u001b[32m━━━━━━━━━━━━━━━━━━━━\u001b[0m\u001b[37m\u001b[0m \u001b[1m2s\u001b[0m 10ms/step - loss: 0.0014 - val_loss: 0.0020\n",
      "Epoch 9/100\n",
      "\u001b[1m202/202\u001b[0m \u001b[32m━━━━━━━━━━━━━━━━━━━━\u001b[0m\u001b[37m\u001b[0m \u001b[1m2s\u001b[0m 8ms/step - loss: 0.0014 - val_loss: 0.0017\n",
      "Epoch 10/100\n",
      "\u001b[1m202/202\u001b[0m \u001b[32m━━━━━━━━━━━━━━━━━━━━\u001b[0m\u001b[37m\u001b[0m \u001b[1m2s\u001b[0m 10ms/step - loss: 0.0012 - val_loss: 0.0016\n",
      "Epoch 11/100\n",
      "\u001b[1m202/202\u001b[0m \u001b[32m━━━━━━━━━━━━━━━━━━━━\u001b[0m\u001b[37m\u001b[0m \u001b[1m2s\u001b[0m 8ms/step - loss: 0.0015 - val_loss: 0.0015\n",
      "Epoch 12/100\n",
      "\u001b[1m202/202\u001b[0m \u001b[32m━━━━━━━━━━━━━━━━━━━━\u001b[0m\u001b[37m\u001b[0m \u001b[1m2s\u001b[0m 7ms/step - loss: 0.0014 - val_loss: 0.0015\n",
      "Epoch 13/100\n",
      "\u001b[1m202/202\u001b[0m \u001b[32m━━━━━━━━━━━━━━━━━━━━\u001b[0m\u001b[37m\u001b[0m \u001b[1m2s\u001b[0m 8ms/step - loss: 0.0013 - val_loss: 0.0015\n",
      "Epoch 14/100\n",
      "\u001b[1m202/202\u001b[0m \u001b[32m━━━━━━━━━━━━━━━━━━━━\u001b[0m\u001b[37m\u001b[0m \u001b[1m2s\u001b[0m 8ms/step - loss: 0.0012 - val_loss: 0.0016\n",
      "Epoch 15/100\n",
      "\u001b[1m202/202\u001b[0m \u001b[32m━━━━━━━━━━━━━━━━━━━━\u001b[0m\u001b[37m\u001b[0m \u001b[1m2s\u001b[0m 10ms/step - loss: 0.0014 - val_loss: 0.0013\n",
      "Epoch 16/100\n",
      "\u001b[1m202/202\u001b[0m \u001b[32m━━━━━━━━━━━━━━━━━━━━\u001b[0m\u001b[37m\u001b[0m \u001b[1m2s\u001b[0m 9ms/step - loss: 0.0012 - val_loss: 0.0016\n",
      "Epoch 17/100\n",
      "\u001b[1m202/202\u001b[0m \u001b[32m━━━━━━━━━━━━━━━━━━━━\u001b[0m\u001b[37m\u001b[0m \u001b[1m2s\u001b[0m 8ms/step - loss: 0.0012 - val_loss: 0.0014\n",
      "Epoch 18/100\n",
      "\u001b[1m202/202\u001b[0m \u001b[32m━━━━━━━━━━━━━━━━━━━━\u001b[0m\u001b[37m\u001b[0m \u001b[1m1s\u001b[0m 7ms/step - loss: 0.0013 - val_loss: 0.0017\n",
      "Epoch 19/100\n",
      "\u001b[1m202/202\u001b[0m \u001b[32m━━━━━━━━━━━━━━━━━━━━\u001b[0m\u001b[37m\u001b[0m \u001b[1m2s\u001b[0m 8ms/step - loss: 0.0012 - val_loss: 0.0014\n",
      "Epoch 20/100\n",
      "\u001b[1m202/202\u001b[0m \u001b[32m━━━━━━━━━━━━━━━━━━━━\u001b[0m\u001b[37m\u001b[0m \u001b[1m2s\u001b[0m 12ms/step - loss: 0.0011 - val_loss: 0.0015\n",
      "Epoch 21/100\n",
      "\u001b[1m202/202\u001b[0m \u001b[32m━━━━━━━━━━━━━━━━━━━━\u001b[0m\u001b[37m\u001b[0m \u001b[1m1s\u001b[0m 7ms/step - loss: 0.0011 - val_loss: 0.0014\n",
      "Epoch 22/100\n",
      "\u001b[1m202/202\u001b[0m \u001b[32m━━━━━━━━━━━━━━━━━━━━\u001b[0m\u001b[37m\u001b[0m \u001b[1m2s\u001b[0m 8ms/step - loss: 0.0013 - val_loss: 0.0015\n",
      "Epoch 23/100\n",
      "\u001b[1m202/202\u001b[0m \u001b[32m━━━━━━━━━━━━━━━━━━━━\u001b[0m\u001b[37m\u001b[0m \u001b[1m2s\u001b[0m 11ms/step - loss: 0.0014 - val_loss: 0.0013\n",
      "Epoch 24/100\n",
      "\u001b[1m202/202\u001b[0m \u001b[32m━━━━━━━━━━━━━━━━━━━━\u001b[0m\u001b[37m\u001b[0m \u001b[1m1s\u001b[0m 7ms/step - loss: 0.0013 - val_loss: 0.0014\n",
      "Epoch 25/100\n",
      "\u001b[1m202/202\u001b[0m \u001b[32m━━━━━━━━━━━━━━━━━━━━\u001b[0m\u001b[37m\u001b[0m \u001b[1m1s\u001b[0m 7ms/step - loss: 0.0013 - val_loss: 0.0014\n",
      "Epoch 26/100\n",
      "\u001b[1m202/202\u001b[0m \u001b[32m━━━━━━━━━━━━━━━━━━━━\u001b[0m\u001b[37m\u001b[0m \u001b[1m1s\u001b[0m 7ms/step - loss: 0.0012 - val_loss: 0.0013\n",
      "Epoch 27/100\n",
      "\u001b[1m202/202\u001b[0m \u001b[32m━━━━━━━━━━━━━━━━━━━━\u001b[0m\u001b[37m\u001b[0m \u001b[1m1s\u001b[0m 7ms/step - loss: 0.0013 - val_loss: 0.0013\n",
      "Epoch 28/100\n",
      "\u001b[1m202/202\u001b[0m \u001b[32m━━━━━━━━━━━━━━━━━━━━\u001b[0m\u001b[37m\u001b[0m \u001b[1m1s\u001b[0m 7ms/step - loss: 0.0012 - val_loss: 0.0013\n",
      "Epoch 29/100\n",
      "\u001b[1m202/202\u001b[0m \u001b[32m━━━━━━━━━━━━━━━━━━━━\u001b[0m\u001b[37m\u001b[0m \u001b[1m2s\u001b[0m 9ms/step - loss: 0.0012 - val_loss: 0.0014\n",
      "Epoch 30/100\n",
      "\u001b[1m202/202\u001b[0m \u001b[32m━━━━━━━━━━━━━━━━━━━━\u001b[0m\u001b[37m\u001b[0m \u001b[1m2s\u001b[0m 11ms/step - loss: 0.0013 - val_loss: 0.0014\n",
      "Epoch 31/100\n",
      "\u001b[1m202/202\u001b[0m \u001b[32m━━━━━━━━━━━━━━━━━━━━\u001b[0m\u001b[37m\u001b[0m \u001b[1m2s\u001b[0m 9ms/step - loss: 0.0011 - val_loss: 0.0016\n",
      "Epoch 32/100\n",
      "\u001b[1m202/202\u001b[0m \u001b[32m━━━━━━━━━━━━━━━━━━━━\u001b[0m\u001b[37m\u001b[0m \u001b[1m2s\u001b[0m 8ms/step - loss: 0.0012 - val_loss: 0.0013\n",
      "Epoch 33/100\n",
      "\u001b[1m202/202\u001b[0m \u001b[32m━━━━━━━━━━━━━━━━━━━━\u001b[0m\u001b[37m\u001b[0m \u001b[1m2s\u001b[0m 8ms/step - loss: 0.0012 - val_loss: 0.0016\n",
      "Epoch 34/100\n",
      "\u001b[1m202/202\u001b[0m \u001b[32m━━━━━━━━━━━━━━━━━━━━\u001b[0m\u001b[37m\u001b[0m \u001b[1m1s\u001b[0m 7ms/step - loss: 0.0012 - val_loss: 0.0012\n",
      "Epoch 35/100\n",
      "\u001b[1m202/202\u001b[0m \u001b[32m━━━━━━━━━━━━━━━━━━━━\u001b[0m\u001b[37m\u001b[0m \u001b[1m2s\u001b[0m 7ms/step - loss: 0.0010 - val_loss: 0.0013\n",
      "Epoch 36/100\n",
      "\u001b[1m202/202\u001b[0m \u001b[32m━━━━━━━━━━━━━━━━━━━━\u001b[0m\u001b[37m\u001b[0m \u001b[1m1s\u001b[0m 7ms/step - loss: 0.0013 - val_loss: 0.0013\n",
      "Epoch 37/100\n",
      "\u001b[1m202/202\u001b[0m \u001b[32m━━━━━━━━━━━━━━━━━━━━\u001b[0m\u001b[37m\u001b[0m \u001b[1m1s\u001b[0m 7ms/step - loss: 0.0010 - val_loss: 0.0017\n",
      "Epoch 38/100\n",
      "\u001b[1m202/202\u001b[0m \u001b[32m━━━━━━━━━━━━━━━━━━━━\u001b[0m\u001b[37m\u001b[0m \u001b[1m1s\u001b[0m 7ms/step - loss: 0.0011 - val_loss: 0.0013\n",
      "Epoch 39/100\n",
      "\u001b[1m202/202\u001b[0m \u001b[32m━━━━━━━━━━━━━━━━━━━━\u001b[0m\u001b[37m\u001b[0m \u001b[1m1s\u001b[0m 7ms/step - loss: 0.0011 - val_loss: 0.0014\n",
      "Epoch 40/100\n",
      "\u001b[1m202/202\u001b[0m \u001b[32m━━━━━━━━━━━━━━━━━━━━\u001b[0m\u001b[37m\u001b[0m \u001b[1m2s\u001b[0m 8ms/step - loss: 9.4990e-04 - val_loss: 0.0020\n",
      "Epoch 41/100\n",
      "\u001b[1m202/202\u001b[0m \u001b[32m━━━━━━━━━━━━━━━━━━━━\u001b[0m\u001b[37m\u001b[0m \u001b[1m2s\u001b[0m 11ms/step - loss: 0.0012 - val_loss: 0.0015\n",
      "Epoch 42/100\n",
      "\u001b[1m202/202\u001b[0m \u001b[32m━━━━━━━━━━━━━━━━━━━━\u001b[0m\u001b[37m\u001b[0m \u001b[1m2s\u001b[0m 7ms/step - loss: 0.0011 - val_loss: 0.0014\n",
      "Epoch 43/100\n",
      "\u001b[1m202/202\u001b[0m \u001b[32m━━━━━━━━━━━━━━━━━━━━\u001b[0m\u001b[37m\u001b[0m \u001b[1m2s\u001b[0m 8ms/step - loss: 0.0010 - val_loss: 0.0020\n",
      "Epoch 44/100\n",
      "\u001b[1m202/202\u001b[0m \u001b[32m━━━━━━━━━━━━━━━━━━━━\u001b[0m\u001b[37m\u001b[0m \u001b[1m2s\u001b[0m 10ms/step - loss: 0.0010 - val_loss: 0.0014\n",
      "Epoch 45/100\n",
      "\u001b[1m202/202\u001b[0m \u001b[32m━━━━━━━━━━━━━━━━━━━━\u001b[0m\u001b[37m\u001b[0m \u001b[1m1s\u001b[0m 7ms/step - loss: 0.0010 - val_loss: 0.0020\n",
      "Epoch 46/100\n",
      "\u001b[1m202/202\u001b[0m \u001b[32m━━━━━━━━━━━━━━━━━━━━\u001b[0m\u001b[37m\u001b[0m \u001b[1m1s\u001b[0m 7ms/step - loss: 9.9834e-04 - val_loss: 0.0018\n",
      "Epoch 47/100\n",
      "\u001b[1m202/202\u001b[0m \u001b[32m━━━━━━━━━━━━━━━━━━━━\u001b[0m\u001b[37m\u001b[0m \u001b[1m2s\u001b[0m 7ms/step - loss: 0.0011 - val_loss: 0.0023\n",
      "Epoch 48/100\n",
      "\u001b[1m202/202\u001b[0m \u001b[32m━━━━━━━━━━━━━━━━━━━━\u001b[0m\u001b[37m\u001b[0m \u001b[1m2s\u001b[0m 11ms/step - loss: 9.9929e-04 - val_loss: 0.0019\n",
      "Epoch 49/100\n",
      "\u001b[1m202/202\u001b[0m \u001b[32m━━━━━━━━━━━━━━━━━━━━\u001b[0m\u001b[37m\u001b[0m \u001b[1m1s\u001b[0m 7ms/step - loss: 8.7529e-04 - val_loss: 0.0019\n",
      "Epoch 50/100\n",
      "\u001b[1m202/202\u001b[0m \u001b[32m━━━━━━━━━━━━━━━━━━━━\u001b[0m\u001b[37m\u001b[0m \u001b[1m2s\u001b[0m 10ms/step - loss: 9.2572e-04 - val_loss: 0.0014\n",
      "Epoch 51/100\n",
      "\u001b[1m202/202\u001b[0m \u001b[32m━━━━━━━━━━━━━━━━━━━━\u001b[0m\u001b[37m\u001b[0m \u001b[1m1s\u001b[0m 6ms/step - loss: 8.9690e-04 - val_loss: 0.0019\n",
      "Epoch 52/100\n",
      "\u001b[1m202/202\u001b[0m \u001b[32m━━━━━━━━━━━━━━━━━━━━\u001b[0m\u001b[37m\u001b[0m \u001b[1m2s\u001b[0m 11ms/step - loss: 9.4510e-04 - val_loss: 0.0015\n",
      "Epoch 53/100\n",
      "\u001b[1m202/202\u001b[0m \u001b[32m━━━━━━━━━━━━━━━━━━━━\u001b[0m\u001b[37m\u001b[0m \u001b[1m1s\u001b[0m 6ms/step - loss: 9.3796e-04 - val_loss: 0.0021\n",
      "Epoch 54/100\n",
      "\u001b[1m202/202\u001b[0m \u001b[32m━━━━━━━━━━━━━━━━━━━━\u001b[0m\u001b[37m\u001b[0m \u001b[1m1s\u001b[0m 7ms/step - loss: 9.9002e-04 - val_loss: 0.0016\n",
      "Epoch 55/100\n",
      "\u001b[1m202/202\u001b[0m \u001b[32m━━━━━━━━━━━━━━━━━━━━\u001b[0m\u001b[37m\u001b[0m \u001b[1m1s\u001b[0m 7ms/step - loss: 0.0011 - val_loss: 0.0016\n",
      "Epoch 56/100\n",
      "\u001b[1m202/202\u001b[0m \u001b[32m━━━━━━━━━━━━━━━━━━━━\u001b[0m\u001b[37m\u001b[0m \u001b[1m1s\u001b[0m 7ms/step - loss: 0.0011 - val_loss: 0.0017\n",
      "Epoch 57/100\n",
      "\u001b[1m202/202\u001b[0m \u001b[32m━━━━━━━━━━━━━━━━━━━━\u001b[0m\u001b[37m\u001b[0m \u001b[1m1s\u001b[0m 7ms/step - loss: 0.0011 - val_loss: 0.0016\n",
      "Epoch 58/100\n",
      "\u001b[1m202/202\u001b[0m \u001b[32m━━━━━━━━━━━━━━━━━━━━\u001b[0m\u001b[37m\u001b[0m \u001b[1m1s\u001b[0m 7ms/step - loss: 0.0011 - val_loss: 0.0013\n",
      "Epoch 59/100\n",
      "\u001b[1m202/202\u001b[0m \u001b[32m━━━━━━━━━━━━━━━━━━━━\u001b[0m\u001b[37m\u001b[0m \u001b[1m1s\u001b[0m 7ms/step - loss: 7.9556e-04 - val_loss: 0.0013\n",
      "Epoch 60/100\n",
      "\u001b[1m202/202\u001b[0m \u001b[32m━━━━━━━━━━━━━━━━━━━━\u001b[0m\u001b[37m\u001b[0m \u001b[1m1s\u001b[0m 7ms/step - loss: 9.5737e-04 - val_loss: 0.0018\n",
      "Epoch 61/100\n",
      "\u001b[1m202/202\u001b[0m \u001b[32m━━━━━━━━━━━━━━━━━━━━\u001b[0m\u001b[37m\u001b[0m \u001b[1m1s\u001b[0m 7ms/step - loss: 9.8086e-04 - val_loss: 0.0015\n",
      "Epoch 62/100\n",
      "\u001b[1m202/202\u001b[0m \u001b[32m━━━━━━━━━━━━━━━━━━━━\u001b[0m\u001b[37m\u001b[0m \u001b[1m2s\u001b[0m 10ms/step - loss: 8.3415e-04 - val_loss: 0.0015\n",
      "Epoch 63/100\n",
      "\u001b[1m202/202\u001b[0m \u001b[32m━━━━━━━━━━━━━━━━━━━━\u001b[0m\u001b[37m\u001b[0m \u001b[1m1s\u001b[0m 7ms/step - loss: 9.8481e-04 - val_loss: 0.0016\n",
      "Epoch 64/100\n",
      "\u001b[1m202/202\u001b[0m \u001b[32m━━━━━━━━━━━━━━━━━━━━\u001b[0m\u001b[37m\u001b[0m \u001b[1m2s\u001b[0m 8ms/step - loss: 8.6632e-04 - val_loss: 0.0014\n",
      "Epoch 65/100\n",
      "\u001b[1m202/202\u001b[0m \u001b[32m━━━━━━━━━━━━━━━━━━━━\u001b[0m\u001b[37m\u001b[0m \u001b[1m2s\u001b[0m 11ms/step - loss: 8.6165e-04 - val_loss: 0.0015\n",
      "Epoch 66/100\n",
      "\u001b[1m202/202\u001b[0m \u001b[32m━━━━━━━━━━━━━━━━━━━━\u001b[0m\u001b[37m\u001b[0m \u001b[1m2s\u001b[0m 8ms/step - loss: 9.0080e-04 - val_loss: 0.0013\n",
      "Epoch 67/100\n",
      "\u001b[1m202/202\u001b[0m \u001b[32m━━━━━━━━━━━━━━━━━━━━\u001b[0m\u001b[37m\u001b[0m \u001b[1m2s\u001b[0m 8ms/step - loss: 8.4882e-04 - val_loss: 0.0016\n",
      "Epoch 68/100\n",
      "\u001b[1m202/202\u001b[0m \u001b[32m━━━━━━━━━━━━━━━━━━━━\u001b[0m\u001b[37m\u001b[0m \u001b[1m3s\u001b[0m 12ms/step - loss: 8.3772e-04 - val_loss: 0.0014\n",
      "Epoch 69/100\n",
      "\u001b[1m202/202\u001b[0m \u001b[32m━━━━━━━━━━━━━━━━━━━━\u001b[0m\u001b[37m\u001b[0m \u001b[1m2s\u001b[0m 8ms/step - loss: 9.5478e-04 - val_loss: 0.0015\n",
      "Epoch 70/100\n",
      "\u001b[1m202/202\u001b[0m \u001b[32m━━━━━━━━━━━━━━━━━━━━\u001b[0m\u001b[37m\u001b[0m \u001b[1m2s\u001b[0m 8ms/step - loss: 8.9173e-04 - val_loss: 0.0017\n",
      "Epoch 71/100\n",
      "\u001b[1m202/202\u001b[0m \u001b[32m━━━━━━━━━━━━━━━━━━━━\u001b[0m\u001b[37m\u001b[0m \u001b[1m2s\u001b[0m 8ms/step - loss: 7.8935e-04 - val_loss: 0.0014\n",
      "Epoch 72/100\n",
      "\u001b[1m202/202\u001b[0m \u001b[32m━━━━━━━━━━━━━━━━━━━━\u001b[0m\u001b[37m\u001b[0m \u001b[1m2s\u001b[0m 8ms/step - loss: 8.9803e-04 - val_loss: 0.0016\n",
      "Epoch 73/100\n",
      "\u001b[1m202/202\u001b[0m \u001b[32m━━━━━━━━━━━━━━━━━━━━\u001b[0m\u001b[37m\u001b[0m \u001b[1m2s\u001b[0m 8ms/step - loss: 9.6073e-04 - val_loss: 0.0014\n",
      "Epoch 74/100\n",
      "\u001b[1m202/202\u001b[0m \u001b[32m━━━━━━━━━━━━━━━━━━━━\u001b[0m\u001b[37m\u001b[0m \u001b[1m2s\u001b[0m 8ms/step - loss: 7.5257e-04 - val_loss: 0.0013\n",
      "Epoch 75/100\n",
      "\u001b[1m202/202\u001b[0m \u001b[32m━━━━━━━━━━━━━━━━━━━━\u001b[0m\u001b[37m\u001b[0m \u001b[1m2s\u001b[0m 8ms/step - loss: 8.2408e-04 - val_loss: 0.0017\n",
      "Epoch 76/100\n",
      "\u001b[1m202/202\u001b[0m \u001b[32m━━━━━━━━━━━━━━━━━━━━\u001b[0m\u001b[37m\u001b[0m \u001b[1m2s\u001b[0m 8ms/step - loss: 7.8738e-04 - val_loss: 0.0017\n",
      "Epoch 77/100\n",
      "\u001b[1m202/202\u001b[0m \u001b[32m━━━━━━━━━━━━━━━━━━━━\u001b[0m\u001b[37m\u001b[0m \u001b[1m2s\u001b[0m 8ms/step - loss: 8.0018e-04 - val_loss: 0.0014\n",
      "Epoch 78/100\n",
      "\u001b[1m202/202\u001b[0m \u001b[32m━━━━━━━━━━━━━━━━━━━━\u001b[0m\u001b[37m\u001b[0m \u001b[1m2s\u001b[0m 10ms/step - loss: 7.5898e-04 - val_loss: 0.0014\n",
      "Epoch 79/100\n",
      "\u001b[1m202/202\u001b[0m \u001b[32m━━━━━━━━━━━━━━━━━━━━\u001b[0m\u001b[37m\u001b[0m \u001b[1m2s\u001b[0m 8ms/step - loss: 7.1508e-04 - val_loss: 0.0013\n",
      "Epoch 80/100\n",
      "\u001b[1m202/202\u001b[0m \u001b[32m━━━━━━━━━━━━━━━━━━━━\u001b[0m\u001b[37m\u001b[0m \u001b[1m2s\u001b[0m 7ms/step - loss: 8.0124e-04 - val_loss: 0.0014\n",
      "Epoch 81/100\n",
      "\u001b[1m202/202\u001b[0m \u001b[32m━━━━━━━━━━━━━━━━━━━━\u001b[0m\u001b[37m\u001b[0m \u001b[1m2s\u001b[0m 8ms/step - loss: 8.0418e-04 - val_loss: 0.0015\n",
      "Epoch 82/100\n",
      "\u001b[1m202/202\u001b[0m \u001b[32m━━━━━━━━━━━━━━━━━━━━\u001b[0m\u001b[37m\u001b[0m \u001b[1m2s\u001b[0m 10ms/step - loss: 8.9847e-04 - val_loss: 0.0013\n",
      "Epoch 83/100\n",
      "\u001b[1m202/202\u001b[0m \u001b[32m━━━━━━━━━━━━━━━━━━━━\u001b[0m\u001b[37m\u001b[0m \u001b[1m2s\u001b[0m 9ms/step - loss: 7.9279e-04 - val_loss: 0.0017\n",
      "Epoch 84/100\n",
      "\u001b[1m202/202\u001b[0m \u001b[32m━━━━━━━━━━━━━━━━━━━━\u001b[0m\u001b[37m\u001b[0m \u001b[1m2s\u001b[0m 10ms/step - loss: 9.6079e-04 - val_loss: 0.0016\n",
      "Epoch 85/100\n",
      "\u001b[1m202/202\u001b[0m \u001b[32m━━━━━━━━━━━━━━━━━━━━\u001b[0m\u001b[37m\u001b[0m \u001b[1m2s\u001b[0m 8ms/step - loss: 8.9120e-04 - val_loss: 0.0018\n",
      "Epoch 86/100\n",
      "\u001b[1m202/202\u001b[0m \u001b[32m━━━━━━━━━━━━━━━━━━━━\u001b[0m\u001b[37m\u001b[0m \u001b[1m2s\u001b[0m 12ms/step - loss: 7.2727e-04 - val_loss: 0.0014\n",
      "Epoch 87/100\n",
      "\u001b[1m202/202\u001b[0m \u001b[32m━━━━━━━━━━━━━━━━━━━━\u001b[0m\u001b[37m\u001b[0m \u001b[1m2s\u001b[0m 10ms/step - loss: 7.7671e-04 - val_loss: 0.0023\n",
      "Epoch 88/100\n",
      "\u001b[1m202/202\u001b[0m \u001b[32m━━━━━━━━━━━━━━━━━━━━\u001b[0m\u001b[37m\u001b[0m \u001b[1m2s\u001b[0m 11ms/step - loss: 7.9346e-04 - val_loss: 0.0015\n",
      "Epoch 89/100\n",
      "\u001b[1m202/202\u001b[0m \u001b[32m━━━━━━━━━━━━━━━━━━━━\u001b[0m\u001b[37m\u001b[0m \u001b[1m2s\u001b[0m 11ms/step - loss: 7.2669e-04 - val_loss: 0.0012\n",
      "Epoch 90/100\n",
      "\u001b[1m202/202\u001b[0m \u001b[32m━━━━━━━━━━━━━━━━━━━━\u001b[0m\u001b[37m\u001b[0m \u001b[1m2s\u001b[0m 9ms/step - loss: 7.2724e-04 - val_loss: 0.0013\n",
      "Epoch 91/100\n",
      "\u001b[1m202/202\u001b[0m \u001b[32m━━━━━━━━━━━━━━━━━━━━\u001b[0m\u001b[37m\u001b[0m \u001b[1m2s\u001b[0m 8ms/step - loss: 7.7520e-04 - val_loss: 0.0012\n",
      "Epoch 92/100\n",
      "\u001b[1m202/202\u001b[0m \u001b[32m━━━━━━━━━━━━━━━━━━━━\u001b[0m\u001b[37m\u001b[0m \u001b[1m2s\u001b[0m 10ms/step - loss: 7.9772e-04 - val_loss: 0.0012\n",
      "Epoch 93/100\n",
      "\u001b[1m202/202\u001b[0m \u001b[32m━━━━━━━━━━━━━━━━━━━━\u001b[0m\u001b[37m\u001b[0m \u001b[1m2s\u001b[0m 8ms/step - loss: 6.6925e-04 - val_loss: 0.0013\n",
      "Epoch 94/100\n",
      "\u001b[1m202/202\u001b[0m \u001b[32m━━━━━━━━━━━━━━━━━━━━\u001b[0m\u001b[37m\u001b[0m \u001b[1m2s\u001b[0m 8ms/step - loss: 8.0879e-04 - val_loss: 0.0012\n",
      "Epoch 95/100\n",
      "\u001b[1m202/202\u001b[0m \u001b[32m━━━━━━━━━━━━━━━━━━━━\u001b[0m\u001b[37m\u001b[0m \u001b[1m2s\u001b[0m 8ms/step - loss: 7.5478e-04 - val_loss: 0.0013\n",
      "Epoch 96/100\n",
      "\u001b[1m202/202\u001b[0m \u001b[32m━━━━━━━━━━━━━━━━━━━━\u001b[0m\u001b[37m\u001b[0m \u001b[1m2s\u001b[0m 7ms/step - loss: 8.9793e-04 - val_loss: 0.0018\n",
      "Epoch 97/100\n",
      "\u001b[1m202/202\u001b[0m \u001b[32m━━━━━━━━━━━━━━━━━━━━\u001b[0m\u001b[37m\u001b[0m \u001b[1m2s\u001b[0m 8ms/step - loss: 7.5621e-04 - val_loss: 0.0012\n",
      "Epoch 98/100\n",
      "\u001b[1m202/202\u001b[0m \u001b[32m━━━━━━━━━━━━━━━━━━━━\u001b[0m\u001b[37m\u001b[0m \u001b[1m2s\u001b[0m 10ms/step - loss: 7.6918e-04 - val_loss: 0.0011\n",
      "Epoch 99/100\n",
      "\u001b[1m202/202\u001b[0m \u001b[32m━━━━━━━━━━━━━━━━━━━━\u001b[0m\u001b[37m\u001b[0m \u001b[1m2s\u001b[0m 11ms/step - loss: 7.6025e-04 - val_loss: 0.0016\n",
      "Epoch 100/100\n",
      "\u001b[1m202/202\u001b[0m \u001b[32m━━━━━━━━━━━━━━━━━━━━\u001b[0m\u001b[37m\u001b[0m \u001b[1m2s\u001b[0m 9ms/step - loss: 9.2557e-04 - val_loss: 0.0015\n",
      "\u001b[1m68/68\u001b[0m \u001b[32m━━━━━━━━━━━━━━━━━━━━\u001b[0m\u001b[37m\u001b[0m \u001b[1m1s\u001b[0m 9ms/step\n"
     ]
    }
   ],
   "source": [
    "'''y_train = y_train.reshape(-1, 1)\n",
    "y_val = y_val.reshape(-1, 1)\n",
    "'''\n",
    "# Fit the model\n",
    "gru_history = gru_model.fit(\n",
    "    X_train, y_train,\n",
    "    epochs=100,\n",
    "    batch_size=32,\n",
    "    validation_data=(X_val, y_val),\n",
    "    verbose=1\n",
    ")\n",
    "\n",
    "# Predict on test set\n",
    "gru_pred = gru_model.predict(X_test)"
   ]
  },
  {
   "cell_type": "markdown",
   "id": "df37f9b9",
   "metadata": {},
   "source": [
    "5) LSTM model (deep learning model)"
   ]
  },
  {
   "cell_type": "code",
   "execution_count": 53,
   "id": "f5e6659b",
   "metadata": {},
   "outputs": [],
   "source": [
    "lstm_model = Sequential()\n",
    "lstm_model.add(LSTM(64, activation='tanh', return_sequences=True, input_shape=(3, 63)))\n",
    "lstm_model.add(Dropout(0.2))\n",
    "lstm_model.add(LSTM(32, activation='tanh', return_sequences=True))\n",
    "lstm_model.add(Dropout(0.2))\n",
    "lstm_model.add(LSTM(16, activation='tanh'))  # Last LSTM layer: return_sequences=False (default)\n",
    "lstm_model.add(Dropout(0.2))\n",
    "lstm_model.add(Dense(1))  # num_targets = 1 for univariate, >1 for multi-output\n",
    "\n",
    "lstm_model.compile(optimizer='adam', loss='mse')"
   ]
  },
  {
   "cell_type": "code",
   "execution_count": 54,
   "id": "9b4c75f1",
   "metadata": {},
   "outputs": [
    {
     "name": "stdout",
     "output_type": "stream",
     "text": [
      "Epoch 1/100\n",
      "\u001b[1m202/202\u001b[0m \u001b[32m━━━━━━━━━━━━━━━━━━━━\u001b[0m\u001b[37m\u001b[0m \u001b[1m8s\u001b[0m 12ms/step - loss: 0.0025 - val_loss: 0.0022\n",
      "Epoch 2/100\n",
      "\u001b[1m202/202\u001b[0m \u001b[32m━━━━━━━━━━━━━━━━━━━━\u001b[0m\u001b[37m\u001b[0m \u001b[1m1s\u001b[0m 6ms/step - loss: 0.0017 - val_loss: 0.0019\n",
      "Epoch 3/100\n",
      "\u001b[1m202/202\u001b[0m \u001b[32m━━━━━━━━━━━━━━━━━━━━\u001b[0m\u001b[37m\u001b[0m \u001b[1m1s\u001b[0m 6ms/step - loss: 0.0017 - val_loss: 0.0021\n",
      "Epoch 4/100\n",
      "\u001b[1m202/202\u001b[0m \u001b[32m━━━━━━━━━━━━━━━━━━━━\u001b[0m\u001b[37m\u001b[0m \u001b[1m1s\u001b[0m 6ms/step - loss: 0.0017 - val_loss: 0.0015\n",
      "Epoch 5/100\n",
      "\u001b[1m202/202\u001b[0m \u001b[32m━━━━━━━━━━━━━━━━━━━━\u001b[0m\u001b[37m\u001b[0m \u001b[1m1s\u001b[0m 7ms/step - loss: 0.0014 - val_loss: 0.0016\n",
      "Epoch 6/100\n",
      "\u001b[1m202/202\u001b[0m \u001b[32m━━━━━━━━━━━━━━━━━━━━\u001b[0m\u001b[37m\u001b[0m \u001b[1m2s\u001b[0m 11ms/step - loss: 0.0016 - val_loss: 0.0018\n",
      "Epoch 7/100\n",
      "\u001b[1m202/202\u001b[0m \u001b[32m━━━━━━━━━━━━━━━━━━━━\u001b[0m\u001b[37m\u001b[0m \u001b[1m2s\u001b[0m 7ms/step - loss: 0.0013 - val_loss: 0.0016\n",
      "Epoch 8/100\n",
      "\u001b[1m202/202\u001b[0m \u001b[32m━━━━━━━━━━━━━━━━━━━━\u001b[0m\u001b[37m\u001b[0m \u001b[1m1s\u001b[0m 7ms/step - loss: 0.0014 - val_loss: 0.0017\n",
      "Epoch 9/100\n",
      "\u001b[1m202/202\u001b[0m \u001b[32m━━━━━━━━━━━━━━━━━━━━\u001b[0m\u001b[37m\u001b[0m \u001b[1m1s\u001b[0m 6ms/step - loss: 0.0015 - val_loss: 0.0015\n",
      "Epoch 10/100\n",
      "\u001b[1m202/202\u001b[0m \u001b[32m━━━━━━━━━━━━━━━━━━━━\u001b[0m\u001b[37m\u001b[0m \u001b[1m1s\u001b[0m 6ms/step - loss: 0.0012 - val_loss: 0.0013\n",
      "Epoch 11/100\n",
      "\u001b[1m202/202\u001b[0m \u001b[32m━━━━━━━━━━━━━━━━━━━━\u001b[0m\u001b[37m\u001b[0m \u001b[1m1s\u001b[0m 6ms/step - loss: 0.0011 - val_loss: 0.0014\n",
      "Epoch 12/100\n",
      "\u001b[1m202/202\u001b[0m \u001b[32m━━━━━━━━━━━━━━━━━━━━\u001b[0m\u001b[37m\u001b[0m \u001b[1m1s\u001b[0m 6ms/step - loss: 0.0012 - val_loss: 0.0013\n",
      "Epoch 13/100\n",
      "\u001b[1m202/202\u001b[0m \u001b[32m━━━━━━━━━━━━━━━━━━━━\u001b[0m\u001b[37m\u001b[0m \u001b[1m1s\u001b[0m 6ms/step - loss: 0.0013 - val_loss: 0.0014\n",
      "Epoch 14/100\n",
      "\u001b[1m202/202\u001b[0m \u001b[32m━━━━━━━━━━━━━━━━━━━━\u001b[0m\u001b[37m\u001b[0m \u001b[1m2s\u001b[0m 10ms/step - loss: 0.0012 - val_loss: 0.0016\n",
      "Epoch 15/100\n",
      "\u001b[1m202/202\u001b[0m \u001b[32m━━━━━━━━━━━━━━━━━━━━\u001b[0m\u001b[37m\u001b[0m \u001b[1m2s\u001b[0m 7ms/step - loss: 0.0011 - val_loss: 0.0014\n",
      "Epoch 16/100\n",
      "\u001b[1m202/202\u001b[0m \u001b[32m━━━━━━━━━━━━━━━━━━━━\u001b[0m\u001b[37m\u001b[0m \u001b[1m1s\u001b[0m 7ms/step - loss: 0.0011 - val_loss: 0.0015\n",
      "Epoch 17/100\n",
      "\u001b[1m202/202\u001b[0m \u001b[32m━━━━━━━━━━━━━━━━━━━━\u001b[0m\u001b[37m\u001b[0m \u001b[1m1s\u001b[0m 6ms/step - loss: 0.0012 - val_loss: 0.0016\n",
      "Epoch 18/100\n",
      "\u001b[1m202/202\u001b[0m \u001b[32m━━━━━━━━━━━━━━━━━━━━\u001b[0m\u001b[37m\u001b[0m \u001b[1m1s\u001b[0m 6ms/step - loss: 0.0012 - val_loss: 0.0015\n",
      "Epoch 19/100\n",
      "\u001b[1m202/202\u001b[0m \u001b[32m━━━━━━━━━━━━━━━━━━━━\u001b[0m\u001b[37m\u001b[0m \u001b[1m2s\u001b[0m 10ms/step - loss: 0.0012 - val_loss: 0.0014\n",
      "Epoch 20/100\n",
      "\u001b[1m202/202\u001b[0m \u001b[32m━━━━━━━━━━━━━━━━━━━━\u001b[0m\u001b[37m\u001b[0m \u001b[1m1s\u001b[0m 6ms/step - loss: 0.0013 - val_loss: 0.0015\n",
      "Epoch 21/100\n",
      "\u001b[1m202/202\u001b[0m \u001b[32m━━━━━━━━━━━━━━━━━━━━\u001b[0m\u001b[37m\u001b[0m \u001b[1m1s\u001b[0m 6ms/step - loss: 9.8091e-04 - val_loss: 0.0015\n",
      "Epoch 22/100\n",
      "\u001b[1m202/202\u001b[0m \u001b[32m━━━━━━━━━━━━━━━━━━━━\u001b[0m\u001b[37m\u001b[0m \u001b[1m1s\u001b[0m 6ms/step - loss: 0.0011 - val_loss: 0.0015\n",
      "Epoch 23/100\n",
      "\u001b[1m202/202\u001b[0m \u001b[32m━━━━━━━━━━━━━━━━━━━━\u001b[0m\u001b[37m\u001b[0m \u001b[1m1s\u001b[0m 6ms/step - loss: 0.0010 - val_loss: 0.0018\n",
      "Epoch 24/100\n",
      "\u001b[1m202/202\u001b[0m \u001b[32m━━━━━━━━━━━━━━━━━━━━\u001b[0m\u001b[37m\u001b[0m \u001b[1m2s\u001b[0m 8ms/step - loss: 0.0014 - val_loss: 0.0018\n",
      "Epoch 25/100\n",
      "\u001b[1m202/202\u001b[0m \u001b[32m━━━━━━━━━━━━━━━━━━━━\u001b[0m\u001b[37m\u001b[0m \u001b[1m1s\u001b[0m 7ms/step - loss: 0.0012 - val_loss: 0.0021\n",
      "Epoch 26/100\n",
      "\u001b[1m202/202\u001b[0m \u001b[32m━━━━━━━━━━━━━━━━━━━━\u001b[0m\u001b[37m\u001b[0m \u001b[1m2s\u001b[0m 7ms/step - loss: 0.0011 - val_loss: 0.0016\n",
      "Epoch 27/100\n",
      "\u001b[1m202/202\u001b[0m \u001b[32m━━━━━━━━━━━━━━━━━━━━\u001b[0m\u001b[37m\u001b[0m \u001b[1m1s\u001b[0m 7ms/step - loss: 0.0010 - val_loss: 0.0016\n",
      "Epoch 28/100\n",
      "\u001b[1m202/202\u001b[0m \u001b[32m━━━━━━━━━━━━━━━━━━━━\u001b[0m\u001b[37m\u001b[0m \u001b[1m1s\u001b[0m 6ms/step - loss: 0.0011 - val_loss: 0.0017\n",
      "Epoch 29/100\n",
      "\u001b[1m202/202\u001b[0m \u001b[32m━━━━━━━━━━━━━━━━━━━━\u001b[0m\u001b[37m\u001b[0m \u001b[1m1s\u001b[0m 6ms/step - loss: 0.0011 - val_loss: 0.0017\n",
      "Epoch 30/100\n",
      "\u001b[1m202/202\u001b[0m \u001b[32m━━━━━━━━━━━━━━━━━━━━\u001b[0m\u001b[37m\u001b[0m \u001b[1m2s\u001b[0m 8ms/step - loss: 9.8920e-04 - val_loss: 0.0018\n",
      "Epoch 31/100\n",
      "\u001b[1m202/202\u001b[0m \u001b[32m━━━━━━━━━━━━━━━━━━━━\u001b[0m\u001b[37m\u001b[0m \u001b[1m2s\u001b[0m 10ms/step - loss: 0.0011 - val_loss: 0.0020\n",
      "Epoch 32/100\n",
      "\u001b[1m202/202\u001b[0m \u001b[32m━━━━━━━━━━━━━━━━━━━━\u001b[0m\u001b[37m\u001b[0m \u001b[1m1s\u001b[0m 6ms/step - loss: 8.8543e-04 - val_loss: 0.0021\n",
      "Epoch 33/100\n",
      "\u001b[1m202/202\u001b[0m \u001b[32m━━━━━━━━━━━━━━━━━━━━\u001b[0m\u001b[37m\u001b[0m \u001b[1m1s\u001b[0m 6ms/step - loss: 0.0011 - val_loss: 0.0018\n",
      "Epoch 34/100\n",
      "\u001b[1m202/202\u001b[0m \u001b[32m━━━━━━━━━━━━━━━━━━━━\u001b[0m\u001b[37m\u001b[0m \u001b[1m2s\u001b[0m 9ms/step - loss: 0.0010 - val_loss: 0.0022\n",
      "Epoch 35/100\n",
      "\u001b[1m202/202\u001b[0m \u001b[32m━━━━━━━━━━━━━━━━━━━━\u001b[0m\u001b[37m\u001b[0m \u001b[1m1s\u001b[0m 7ms/step - loss: 0.0011 - val_loss: 0.0021\n",
      "Epoch 36/100\n",
      "\u001b[1m202/202\u001b[0m \u001b[32m━━━━━━━━━━━━━━━━━━━━\u001b[0m\u001b[37m\u001b[0m \u001b[1m2s\u001b[0m 9ms/step - loss: 0.0010 - val_loss: 0.0018\n",
      "Epoch 37/100\n",
      "\u001b[1m202/202\u001b[0m \u001b[32m━━━━━━━━━━━━━━━━━━━━\u001b[0m\u001b[37m\u001b[0m \u001b[1m2s\u001b[0m 9ms/step - loss: 9.9253e-04 - val_loss: 0.0019\n",
      "Epoch 38/100\n",
      "\u001b[1m202/202\u001b[0m \u001b[32m━━━━━━━━━━━━━━━━━━━━\u001b[0m\u001b[37m\u001b[0m \u001b[1m2s\u001b[0m 8ms/step - loss: 8.9592e-04 - val_loss: 0.0016\n",
      "Epoch 39/100\n",
      "\u001b[1m202/202\u001b[0m \u001b[32m━━━━━━━━━━━━━━━━━━━━\u001b[0m\u001b[37m\u001b[0m \u001b[1m2s\u001b[0m 9ms/step - loss: 0.0010 - val_loss: 0.0019\n",
      "Epoch 40/100\n",
      "\u001b[1m202/202\u001b[0m \u001b[32m━━━━━━━━━━━━━━━━━━━━\u001b[0m\u001b[37m\u001b[0m \u001b[1m2s\u001b[0m 9ms/step - loss: 0.0011 - val_loss: 0.0016\n",
      "Epoch 41/100\n",
      "\u001b[1m202/202\u001b[0m \u001b[32m━━━━━━━━━━━━━━━━━━━━\u001b[0m\u001b[37m\u001b[0m \u001b[1m2s\u001b[0m 10ms/step - loss: 8.9169e-04 - val_loss: 0.0018\n",
      "Epoch 42/100\n",
      "\u001b[1m202/202\u001b[0m \u001b[32m━━━━━━━━━━━━━━━━━━━━\u001b[0m\u001b[37m\u001b[0m \u001b[1m1s\u001b[0m 6ms/step - loss: 9.6668e-04 - val_loss: 0.0021\n",
      "Epoch 43/100\n",
      "\u001b[1m202/202\u001b[0m \u001b[32m━━━━━━━━━━━━━━━━━━━━\u001b[0m\u001b[37m\u001b[0m \u001b[1m2s\u001b[0m 10ms/step - loss: 0.0013 - val_loss: 0.0020\n",
      "Epoch 44/100\n",
      "\u001b[1m202/202\u001b[0m \u001b[32m━━━━━━━━━━━━━━━━━━━━\u001b[0m\u001b[37m\u001b[0m \u001b[1m2s\u001b[0m 7ms/step - loss: 9.5867e-04 - val_loss: 0.0021\n",
      "Epoch 45/100\n",
      "\u001b[1m202/202\u001b[0m \u001b[32m━━━━━━━━━━━━━━━━━━━━\u001b[0m\u001b[37m\u001b[0m \u001b[1m1s\u001b[0m 7ms/step - loss: 8.5693e-04 - val_loss: 0.0018\n",
      "Epoch 46/100\n",
      "\u001b[1m202/202\u001b[0m \u001b[32m━━━━━━━━━━━━━━━━━━━━\u001b[0m\u001b[37m\u001b[0m \u001b[1m2s\u001b[0m 10ms/step - loss: 0.0010 - val_loss: 0.0019\n",
      "Epoch 47/100\n",
      "\u001b[1m202/202\u001b[0m \u001b[32m━━━━━━━━━━━━━━━━━━━━\u001b[0m\u001b[37m\u001b[0m \u001b[1m2s\u001b[0m 8ms/step - loss: 7.6481e-04 - val_loss: 0.0021\n",
      "Epoch 48/100\n",
      "\u001b[1m202/202\u001b[0m \u001b[32m━━━━━━━━━━━━━━━━━━━━\u001b[0m\u001b[37m\u001b[0m \u001b[1m2s\u001b[0m 7ms/step - loss: 8.4848e-04 - val_loss: 0.0016\n",
      "Epoch 49/100\n",
      "\u001b[1m202/202\u001b[0m \u001b[32m━━━━━━━━━━━━━━━━━━━━\u001b[0m\u001b[37m\u001b[0m \u001b[1m1s\u001b[0m 7ms/step - loss: 9.0401e-04 - val_loss: 0.0019\n",
      "Epoch 50/100\n",
      "\u001b[1m202/202\u001b[0m \u001b[32m━━━━━━━━━━━━━━━━━━━━\u001b[0m\u001b[37m\u001b[0m \u001b[1m2s\u001b[0m 10ms/step - loss: 0.0010 - val_loss: 0.0017\n",
      "Epoch 51/100\n",
      "\u001b[1m202/202\u001b[0m \u001b[32m━━━━━━━━━━━━━━━━━━━━\u001b[0m\u001b[37m\u001b[0m \u001b[1m2s\u001b[0m 9ms/step - loss: 0.0010 - val_loss: 0.0016\n",
      "Epoch 52/100\n",
      "\u001b[1m202/202\u001b[0m \u001b[32m━━━━━━━━━━━━━━━━━━━━\u001b[0m\u001b[37m\u001b[0m \u001b[1m2s\u001b[0m 8ms/step - loss: 8.2920e-04 - val_loss: 0.0020\n",
      "Epoch 53/100\n",
      "\u001b[1m202/202\u001b[0m \u001b[32m━━━━━━━━━━━━━━━━━━━━\u001b[0m\u001b[37m\u001b[0m \u001b[1m2s\u001b[0m 9ms/step - loss: 8.8074e-04 - val_loss: 0.0016\n",
      "Epoch 54/100\n",
      "\u001b[1m202/202\u001b[0m \u001b[32m━━━━━━━━━━━━━━━━━━━━\u001b[0m\u001b[37m\u001b[0m \u001b[1m1s\u001b[0m 7ms/step - loss: 9.0266e-04 - val_loss: 0.0019\n",
      "Epoch 55/100\n",
      "\u001b[1m202/202\u001b[0m \u001b[32m━━━━━━━━━━━━━━━━━━━━\u001b[0m\u001b[37m\u001b[0m \u001b[1m2s\u001b[0m 10ms/step - loss: 0.0010 - val_loss: 0.0018\n",
      "Epoch 56/100\n",
      "\u001b[1m202/202\u001b[0m \u001b[32m━━━━━━━━━━━━━━━━━━━━\u001b[0m\u001b[37m\u001b[0m \u001b[1m2s\u001b[0m 8ms/step - loss: 8.5213e-04 - val_loss: 0.0021\n",
      "Epoch 57/100\n",
      "\u001b[1m202/202\u001b[0m \u001b[32m━━━━━━━━━━━━━━━━━━━━\u001b[0m\u001b[37m\u001b[0m \u001b[1m1s\u001b[0m 7ms/step - loss: 8.0936e-04 - val_loss: 0.0017\n",
      "Epoch 58/100\n",
      "\u001b[1m202/202\u001b[0m \u001b[32m━━━━━━━━━━━━━━━━━━━━\u001b[0m\u001b[37m\u001b[0m \u001b[1m2s\u001b[0m 11ms/step - loss: 8.6037e-04 - val_loss: 0.0017\n",
      "Epoch 59/100\n",
      "\u001b[1m202/202\u001b[0m \u001b[32m━━━━━━━━━━━━━━━━━━━━\u001b[0m\u001b[37m\u001b[0m \u001b[1m1s\u001b[0m 6ms/step - loss: 8.7580e-04 - val_loss: 0.0023\n",
      "Epoch 60/100\n",
      "\u001b[1m202/202\u001b[0m \u001b[32m━━━━━━━━━━━━━━━━━━━━\u001b[0m\u001b[37m\u001b[0m \u001b[1m2s\u001b[0m 8ms/step - loss: 0.0010 - val_loss: 0.0018\n",
      "Epoch 61/100\n",
      "\u001b[1m202/202\u001b[0m \u001b[32m━━━━━━━━━━━━━━━━━━━━\u001b[0m\u001b[37m\u001b[0m \u001b[1m2s\u001b[0m 10ms/step - loss: 9.5700e-04 - val_loss: 0.0016\n",
      "Epoch 62/100\n",
      "\u001b[1m202/202\u001b[0m \u001b[32m━━━━━━━━━━━━━━━━━━━━\u001b[0m\u001b[37m\u001b[0m \u001b[1m1s\u001b[0m 6ms/step - loss: 8.1869e-04 - val_loss: 0.0018\n",
      "Epoch 63/100\n",
      "\u001b[1m202/202\u001b[0m \u001b[32m━━━━━━━━━━━━━━━━━━━━\u001b[0m\u001b[37m\u001b[0m \u001b[1m1s\u001b[0m 6ms/step - loss: 8.1147e-04 - val_loss: 0.0016\n",
      "Epoch 64/100\n",
      "\u001b[1m202/202\u001b[0m \u001b[32m━━━━━━━━━━━━━━━━━━━━\u001b[0m\u001b[37m\u001b[0m \u001b[1m2s\u001b[0m 7ms/step - loss: 8.4223e-04 - val_loss: 0.0018\n",
      "Epoch 65/100\n",
      "\u001b[1m202/202\u001b[0m \u001b[32m━━━━━━━━━━━━━━━━━━━━\u001b[0m\u001b[37m\u001b[0m \u001b[1m2s\u001b[0m 8ms/step - loss: 8.2351e-04 - val_loss: 0.0017\n",
      "Epoch 66/100\n",
      "\u001b[1m202/202\u001b[0m \u001b[32m━━━━━━━━━━━━━━━━━━━━\u001b[0m\u001b[37m\u001b[0m \u001b[1m1s\u001b[0m 7ms/step - loss: 8.9315e-04 - val_loss: 0.0018\n",
      "Epoch 67/100\n",
      "\u001b[1m202/202\u001b[0m \u001b[32m━━━━━━━━━━━━━━━━━━━━\u001b[0m\u001b[37m\u001b[0m \u001b[1m1s\u001b[0m 7ms/step - loss: 9.2858e-04 - val_loss: 0.0018\n",
      "Epoch 68/100\n",
      "\u001b[1m202/202\u001b[0m \u001b[32m━━━━━━━━━━━━━━━━━━━━\u001b[0m\u001b[37m\u001b[0m \u001b[1m1s\u001b[0m 6ms/step - loss: 7.3478e-04 - val_loss: 0.0017\n",
      "Epoch 69/100\n",
      "\u001b[1m202/202\u001b[0m \u001b[32m━━━━━━━━━━━━━━━━━━━━\u001b[0m\u001b[37m\u001b[0m \u001b[1m1s\u001b[0m 6ms/step - loss: 8.9760e-04 - val_loss: 0.0017\n",
      "Epoch 70/100\n",
      "\u001b[1m202/202\u001b[0m \u001b[32m━━━━━━━━━━━━━━━━━━━━\u001b[0m\u001b[37m\u001b[0m \u001b[1m1s\u001b[0m 6ms/step - loss: 7.6191e-04 - val_loss: 0.0016\n",
      "Epoch 71/100\n",
      "\u001b[1m202/202\u001b[0m \u001b[32m━━━━━━━━━━━━━━━━━━━━\u001b[0m\u001b[37m\u001b[0m \u001b[1m2s\u001b[0m 10ms/step - loss: 7.1599e-04 - val_loss: 0.0015\n",
      "Epoch 72/100\n",
      "\u001b[1m202/202\u001b[0m \u001b[32m━━━━━━━━━━━━━━━━━━━━\u001b[0m\u001b[37m\u001b[0m \u001b[1m1s\u001b[0m 6ms/step - loss: 8.7827e-04 - val_loss: 0.0016\n",
      "Epoch 73/100\n",
      "\u001b[1m202/202\u001b[0m \u001b[32m━━━━━━━━━━━━━━━━━━━━\u001b[0m\u001b[37m\u001b[0m \u001b[1m1s\u001b[0m 6ms/step - loss: 7.2016e-04 - val_loss: 0.0018\n",
      "Epoch 74/100\n",
      "\u001b[1m202/202\u001b[0m \u001b[32m━━━━━━━━━━━━━━━━━━━━\u001b[0m\u001b[37m\u001b[0m \u001b[1m2s\u001b[0m 10ms/step - loss: 7.8819e-04 - val_loss: 0.0018\n",
      "Epoch 75/100\n",
      "\u001b[1m202/202\u001b[0m \u001b[32m━━━━━━━━━━━━━━━━━━━━\u001b[0m\u001b[37m\u001b[0m \u001b[1m1s\u001b[0m 7ms/step - loss: 8.0949e-04 - val_loss: 0.0020\n",
      "Epoch 76/100\n",
      "\u001b[1m202/202\u001b[0m \u001b[32m━━━━━━━━━━━━━━━━━━━━\u001b[0m\u001b[37m\u001b[0m \u001b[1m1s\u001b[0m 7ms/step - loss: 9.3443e-04 - val_loss: 0.0017\n",
      "Epoch 77/100\n",
      "\u001b[1m202/202\u001b[0m \u001b[32m━━━━━━━━━━━━━━━━━━━━\u001b[0m\u001b[37m\u001b[0m \u001b[1m1s\u001b[0m 6ms/step - loss: 8.5914e-04 - val_loss: 0.0016\n",
      "Epoch 78/100\n",
      "\u001b[1m202/202\u001b[0m \u001b[32m━━━━━━━━━━━━━━━━━━━━\u001b[0m\u001b[37m\u001b[0m \u001b[1m2s\u001b[0m 10ms/step - loss: 7.7757e-04 - val_loss: 0.0014\n",
      "Epoch 79/100\n",
      "\u001b[1m202/202\u001b[0m \u001b[32m━━━━━━━━━━━━━━━━━━━━\u001b[0m\u001b[37m\u001b[0m \u001b[1m1s\u001b[0m 6ms/step - loss: 8.0037e-04 - val_loss: 0.0017\n",
      "Epoch 80/100\n",
      "\u001b[1m202/202\u001b[0m \u001b[32m━━━━━━━━━━━━━━━━━━━━\u001b[0m\u001b[37m\u001b[0m \u001b[1m1s\u001b[0m 6ms/step - loss: 8.6488e-04 - val_loss: 0.0016\n",
      "Epoch 81/100\n",
      "\u001b[1m202/202\u001b[0m \u001b[32m━━━━━━━━━━━━━━━━━━━━\u001b[0m\u001b[37m\u001b[0m \u001b[1m2s\u001b[0m 11ms/step - loss: 8.5941e-04 - val_loss: 0.0015\n",
      "Epoch 82/100\n",
      "\u001b[1m202/202\u001b[0m \u001b[32m━━━━━━━━━━━━━━━━━━━━\u001b[0m\u001b[37m\u001b[0m \u001b[1m1s\u001b[0m 6ms/step - loss: 7.2884e-04 - val_loss: 0.0017\n",
      "Epoch 83/100\n",
      "\u001b[1m202/202\u001b[0m \u001b[32m━━━━━━━━━━━━━━━━━━━━\u001b[0m\u001b[37m\u001b[0m \u001b[1m1s\u001b[0m 7ms/step - loss: 7.1602e-04 - val_loss: 0.0016\n",
      "Epoch 84/100\n",
      "\u001b[1m202/202\u001b[0m \u001b[32m━━━━━━━━━━━━━━━━━━━━\u001b[0m\u001b[37m\u001b[0m \u001b[1m2s\u001b[0m 10ms/step - loss: 7.6622e-04 - val_loss: 0.0015\n",
      "Epoch 85/100\n",
      "\u001b[1m202/202\u001b[0m \u001b[32m━━━━━━━━━━━━━━━━━━━━\u001b[0m\u001b[37m\u001b[0m \u001b[1m1s\u001b[0m 6ms/step - loss: 6.8315e-04 - val_loss: 0.0015\n",
      "Epoch 86/100\n",
      "\u001b[1m202/202\u001b[0m \u001b[32m━━━━━━━━━━━━━━━━━━━━\u001b[0m\u001b[37m\u001b[0m \u001b[1m1s\u001b[0m 6ms/step - loss: 7.9716e-04 - val_loss: 0.0015\n",
      "Epoch 87/100\n",
      "\u001b[1m202/202\u001b[0m \u001b[32m━━━━━━━━━━━━━━━━━━━━\u001b[0m\u001b[37m\u001b[0m \u001b[1m1s\u001b[0m 6ms/step - loss: 7.6327e-04 - val_loss: 0.0016\n",
      "Epoch 88/100\n",
      "\u001b[1m202/202\u001b[0m \u001b[32m━━━━━━━━━━━━━━━━━━━━\u001b[0m\u001b[37m\u001b[0m \u001b[1m1s\u001b[0m 6ms/step - loss: 6.9055e-04 - val_loss: 0.0016\n",
      "Epoch 89/100\n",
      "\u001b[1m202/202\u001b[0m \u001b[32m━━━━━━━━━━━━━━━━━━━━\u001b[0m\u001b[37m\u001b[0m \u001b[1m1s\u001b[0m 6ms/step - loss: 8.1878e-04 - val_loss: 0.0014\n",
      "Epoch 90/100\n",
      "\u001b[1m202/202\u001b[0m \u001b[32m━━━━━━━━━━━━━━━━━━━━\u001b[0m\u001b[37m\u001b[0m \u001b[1m2s\u001b[0m 10ms/step - loss: 6.8505e-04 - val_loss: 0.0016\n",
      "Epoch 91/100\n",
      "\u001b[1m202/202\u001b[0m \u001b[32m━━━━━━━━━━━━━━━━━━━━\u001b[0m\u001b[37m\u001b[0m \u001b[1m1s\u001b[0m 7ms/step - loss: 8.5170e-04 - val_loss: 0.0016\n",
      "Epoch 92/100\n",
      "\u001b[1m202/202\u001b[0m \u001b[32m━━━━━━━━━━━━━━━━━━━━\u001b[0m\u001b[37m\u001b[0m \u001b[1m2s\u001b[0m 10ms/step - loss: 7.0962e-04 - val_loss: 0.0014\n",
      "Epoch 93/100\n",
      "\u001b[1m202/202\u001b[0m \u001b[32m━━━━━━━━━━━━━━━━━━━━\u001b[0m\u001b[37m\u001b[0m \u001b[1m1s\u001b[0m 6ms/step - loss: 7.7424e-04 - val_loss: 0.0020\n",
      "Epoch 94/100\n",
      "\u001b[1m202/202\u001b[0m \u001b[32m━━━━━━━━━━━━━━━━━━━━\u001b[0m\u001b[37m\u001b[0m \u001b[1m2s\u001b[0m 8ms/step - loss: 6.8082e-04 - val_loss: 0.0018\n",
      "Epoch 95/100\n",
      "\u001b[1m202/202\u001b[0m \u001b[32m━━━━━━━━━━━━━━━━━━━━\u001b[0m\u001b[37m\u001b[0m \u001b[1m2s\u001b[0m 10ms/step - loss: 7.2455e-04 - val_loss: 0.0020\n",
      "Epoch 96/100\n",
      "\u001b[1m202/202\u001b[0m \u001b[32m━━━━━━━━━━━━━━━━━━━━\u001b[0m\u001b[37m\u001b[0m \u001b[1m1s\u001b[0m 6ms/step - loss: 7.8826e-04 - val_loss: 0.0016\n",
      "Epoch 97/100\n",
      "\u001b[1m202/202\u001b[0m \u001b[32m━━━━━━━━━━━━━━━━━━━━\u001b[0m\u001b[37m\u001b[0m \u001b[1m1s\u001b[0m 6ms/step - loss: 7.6208e-04 - val_loss: 0.0018\n",
      "Epoch 98/100\n",
      "\u001b[1m202/202\u001b[0m \u001b[32m━━━━━━━━━━━━━━━━━━━━\u001b[0m\u001b[37m\u001b[0m \u001b[1m1s\u001b[0m 6ms/step - loss: 8.2288e-04 - val_loss: 0.0016\n",
      "Epoch 99/100\n",
      "\u001b[1m202/202\u001b[0m \u001b[32m━━━━━━━━━━━━━━━━━━━━\u001b[0m\u001b[37m\u001b[0m \u001b[1m2s\u001b[0m 8ms/step - loss: 7.1421e-04 - val_loss: 0.0013\n",
      "Epoch 100/100\n",
      "\u001b[1m202/202\u001b[0m \u001b[32m━━━━━━━━━━━━━━━━━━━━\u001b[0m\u001b[37m\u001b[0m \u001b[1m2s\u001b[0m 8ms/step - loss: 7.1668e-04 - val_loss: 0.0023\n",
      "\u001b[1m68/68\u001b[0m \u001b[32m━━━━━━━━━━━━━━━━━━━━\u001b[0m\u001b[37m\u001b[0m \u001b[1m1s\u001b[0m 14ms/step\n"
     ]
    }
   ],
   "source": [
    "lstm_history = lstm_model.fit(\n",
    "    X_train, y_train,\n",
    "    epochs=100,\n",
    "    batch_size=32,\n",
    "    validation_data=(X_val, y_val),\n",
    "    verbose=1\n",
    ")\n",
    "\n",
    "# Predict on test set\n",
    "lstm_pred = lstm_model.predict(X_test)"
   ]
  },
  {
   "cell_type": "markdown",
   "id": "3e0ac999",
   "metadata": {},
   "source": [
    "Now we compare the accuracy and other validation metrics for te models we made\n"
   ]
  },
  {
   "cell_type": "code",
   "execution_count": 55,
   "id": "9fb0644a",
   "metadata": {},
   "outputs": [
    {
     "data": {
      "image/png": "[encoded data removed]",
      "text/plain": [
       "<Figure size 640x480 with 1 Axes>"
      ]
     },
     "metadata": {},
     "output_type": "display_data"
    }
   ],
   "source": [
    "plt.plot(gru_history.history['loss'], label='Train Loss')\n",
    "plt.plot(gru_history.history['val_loss'], label='Validation Loss')\n",
    "plt.legend()\n",
    "plt.show()"
   ]
  },
  {
   "cell_type": "code",
   "execution_count": 56,
   "id": "2414df8e",
   "metadata": {},
   "outputs": [
    {
     "data": {
      "image/png": "[encoded data removed]",
      "text/plain": [
       "<Figure size 640x480 with 1 Axes>"
      ]
     },
     "metadata": {},
     "output_type": "display_data"
    }
   ],
   "source": [
    "plt.plot(lstm_history.history['loss'], label='Train Loss')\n",
    "plt.plot(lstm_history.history['val_loss'], label='Validation Loss')\n",
    "plt.legend()\n",
    "plt.show()"
   ]
  },
  {
   "cell_type": "code",
   "execution_count": 57,
   "id": "2e885fc9",
   "metadata": {},
   "outputs": [
    {
     "name": "stdout",
     "output_type": "stream",
     "text": [
      "Model: ARIMA\n",
      "MAE: 0.03\n",
      "RMSE: 0.06\n",
      "MAPE: 209.53\n",
      "\n",
      "Model: SARIMA\n",
      "MAE: 0.03\n",
      "RMSE: 0.06\n",
      "MAPE: 329.54\n",
      "\n",
      "Model: DecisionTree\n",
      "MAE: 0.02\n",
      "RMSE: 0.05\n",
      "MAPE: 137.76\n",
      "\n",
      "Model: RandomForest\n",
      "MAE: 0.02\n",
      "RMSE: 0.05\n",
      "MAPE: 168.98\n",
      "\n",
      "Model: GRU\n",
      "MAE: 0.02\n",
      "RMSE: 0.05\n",
      "MAPE: 163.80\n",
      "\n",
      "Model: LSTM\n",
      "MAE: 0.02\n",
      "RMSE: 0.05\n",
      "MAPE: 135.23\n",
      "\n"
     ]
    }
   ],
   "source": [
    "def evaluate(y_true, y_pred):\n",
    "    y_true = np.array(y_true).reshape(-1)\n",
    "    y_pred = np.array(y_pred).reshape(-1)\n",
    "\n",
    "    # Mask: remove NaN and zero y_true for MAPE\n",
    "    mask = (~np.isnan(y_true)) & (~np.isnan(y_pred)) & (y_true != 0)\n",
    "    y_true_clean = y_true[mask]\n",
    "    y_pred_clean = y_pred[mask]\n",
    "    mae = mean_absolute_error(y_true_clean, y_pred_clean)\n",
    "    rmse = root_mean_squared_error(y_true_clean, y_pred_clean)\n",
    "    mape = np.mean(np.abs((y_true_clean - y_pred_clean) / y_true_clean)) * 100\n",
    "    return {'MAE': mae, 'RMSE': rmse, 'MAPE': mape}\n",
    "\n",
    "\n",
    "results = {\n",
    "    'ARIMA': evaluate(y_test, arima_pred),\n",
    "    'SARIMA': evaluate(y_test, sarima_pred),\n",
    "    'DecisionTree': evaluate(y_test, dt_pred),\n",
    "    'RandomForest': evaluate(y_test, rf_pred),\n",
    "    'GRU': evaluate(y_test, gru_pred),\n",
    "    'LSTM': evaluate(y_test, lstm_pred),\n",
    "}\n",
    "\n",
    "for model, metrics in results.items():\n",
    "    print(f\"Model: {model}\")\n",
    "    print(f\"MAE: {metrics['MAE']:.2f}\")\n",
    "    print(f\"RMSE: {metrics['RMSE']:.2f}\")\n",
    "    print(f\"MAPE: {metrics['MAPE']:.2f}\")\n",
    "    print()"
   ]
  },
  {
   "cell_type": "markdown",
   "id": "82ab1dfd",
   "metadata": {},
   "source": [
    "1. MAE (Mean Absolute Error)\n",
    "Measures the average absolute difference between predicted and actual values.\n",
    "\n",
    "Lower MAE = Better.\n",
    "\n",
    "2. RMSE (Root Mean Squared Error)\n",
    "Measures the square root of the average squared differences between predicted and actual values.\n",
    "\n",
    "Penalizes larger errors more than MAE.\n",
    "\n",
    "Lower RMSE = Better.\n",
    "\n",
    "3. MAPE (Mean Absolute Percentage Error)\n",
    "Measures the average absolute percentage difference between predicted and actual values.\n",
    "\n",
    "Useful for understanding error as a percentage.\n",
    "\n",
    "Lower MAPE = Better."
   ]
  },
  {
   "cell_type": "markdown",
   "id": "5a8c11f1",
   "metadata": {},
   "source": [
    "Comparative Analysis Based on our Results"
   ]
  },
  {
   "cell_type": "markdown",
   "id": "1d981336",
   "metadata": {},
   "source": [
    "Observations:\n",
    "MAE and RMSE:\n",
    "All models except ARIMA and SARIMA have lower MAE and RMSE (0.02 and 0.05 or 0.04), indicating better performance.\n",
    "\n",
    "MAPE:\n",
    "DecisionTree has the lowest MAPE (132.45), followed by GRU (168.89) and RandomForest (169.01). ARIMA and SARIMA have much higher MAPE, indicating worse relative error.\n",
    "\n"
   ]
  },
  {
   "cell_type": "markdown",
   "id": "a7e418ed",
   "metadata": {},
   "source": [
    "How to Choose the Best Model\n",
    "Primary metric: If your application cares most about absolute error, use MAE. If large errors are especially bad, use RMSE. If you want a percentage-based error, use MAPE.\n",
    "\n",
    "In your results:\n",
    "\n",
    "DecisionTree has the lowest MAPE, MAE, and RMSE among all models, suggesting it is the best performer for your data.\n",
    "\n",
    "GRU and RandomForest are close behind.\n",
    "\n",
    "ARIMA and SARIMA perform significantly worse on MAPE, indicating they are less suitable for your data."
   ]
  },
  {
   "cell_type": "markdown",
   "id": "2fd434c2",
   "metadata": {},
   "source": [
    "Project conclusion\n"
   ]
  },
  {
   "cell_type": "code",
   "execution_count": 58,
   "id": "b4bbb884",
   "metadata": {},
   "outputs": [],
   "source": [
    "def invert_scaler(truPre, scaler, target_col=0):\n",
    "    dummy = np.zeros((len(truPre), 15))\n",
    "    dummy[:, target_col] = truPre.flatten()\n",
    "    inverted = scaler.inverse_transform(dummy)\n",
    "    truPre_original = inverted[:, target_col]\n",
    "    return truPre_original\n"
   ]
  },
  {
   "cell_type": "code",
   "execution_count": 59,
   "id": "eac9ec5e",
   "metadata": {},
   "outputs": [],
   "source": [
    "y_test_original = invert_scaler(y_test, scaler)\n",
    "arima_pred_original = invert_scaler(arima_pred, scaler)\n",
    "sarima_pred_original = invert_scaler(sarima_pred, scaler)\n",
    "dt_pred_original = invert_scaler(dt_pred, scaler)\n",
    "rf_pred_original = invert_scaler(rf_pred, scaler)\n",
    "gru_pred_original = invert_scaler(gru_pred, scaler)\n",
    "lstm_pred_original = invert_scaler(lstm_pred, scaler)"
   ]
  },
  {
   "cell_type": "code",
   "execution_count": 60,
   "id": "6d5dcff5",
   "metadata": {},
   "outputs": [
    {
     "name": "stdout",
     "output_type": "stream",
     "text": [
      "[ 336.  544. 4400. ...  300.  192.  448.]\n",
      "[494.64160865 405.04428976 501.53984769 ... 108.4606449  108.26413192\n",
      " 108.06761894]\n"
     ]
    }
   ],
   "source": [
    "print(y_test_original)\n",
    "print(arima_pred_original)"
   ]
  },
  {
   "cell_type": "code",
   "execution_count": 61,
   "id": "9e953adb",
   "metadata": {},
   "outputs": [
    {
     "name": "stdout",
     "output_type": "stream",
     "text": [
      "[ 336.  544. 4400. ...  300.  192.  448.]\n",
      "[504.78095098 450.6820269  326.89824593 ... 456.26175388 456.21197707\n",
      " 456.16220025]\n"
     ]
    }
   ],
   "source": [
    "print(y_test_original)\n",
    "print(sarima_pred_original)"
   ]
  },
  {
   "cell_type": "code",
   "execution_count": 62,
   "id": "4c4525d6",
   "metadata": {},
   "outputs": [
    {
     "name": "stdout",
     "output_type": "stream",
     "text": [
      "[ 336.  544. 4400. ...  300.  192.  448.]\n",
      "[ 336.  374. 4180. ...  258.  164. 1920.]\n"
     ]
    }
   ],
   "source": [
    "print(y_test_original)\n",
    "print(dt_pred_original)"
   ]
  },
  {
   "cell_type": "code",
   "execution_count": 63,
   "id": "2d28df0e",
   "metadata": {},
   "outputs": [
    {
     "name": "stdout",
     "output_type": "stream",
     "text": [
      "[ 336.  544. 4400. ...  300.  192.  448.]\n",
      "[ 328.95  376.71 4017.28 ...  293.99  207.48  555.05]\n"
     ]
    }
   ],
   "source": [
    "print(y_test_original)\n",
    "print(rf_pred_original)"
   ]
  },
  {
   "cell_type": "code",
   "execution_count": 64,
   "id": "1248463a",
   "metadata": {},
   "outputs": [
    {
     "name": "stdout",
     "output_type": "stream",
     "text": [
      "[ 336.  544. 4400. ...  300.  192.  448.]\n",
      "[ 295.18352055  242.85247085 1267.07547379 ...  176.00958681  222.84823393\n",
      "  268.32535286]\n"
     ]
    }
   ],
   "source": [
    "print(y_test_original)\n",
    "print(gru_pred_original)"
   ]
  },
  {
   "cell_type": "code",
   "execution_count": 65,
   "id": "0706c158",
   "metadata": {},
   "outputs": [
    {
     "name": "stdout",
     "output_type": "stream",
     "text": [
      "[ 336.  544. 4400. ...  300.  192.  448.]\n",
      "[298.38082127 286.69152115 480.9007595  ... 262.50641789 224.01837046\n",
      " 282.61271616]\n"
     ]
    }
   ],
   "source": [
    "print(y_test_original)\n",
    "print(lstm_pred_original)"
   ]
  },
  {
   "cell_type": "code",
   "execution_count": 66,
   "id": "21fc55bc",
   "metadata": {},
   "outputs": [
    {
     "data": {
      "image/png": "[encoded data removed]",
      "text/plain": [
       "<Figure size 640x480 with 1 Axes>"
      ]
     },
     "metadata": {},
     "output_type": "display_data"
    }
   ],
   "source": [
    "plt.plot(y_test_original, label='Actual')\n",
    "plt.plot(arima_pred_original, label='Predicted')\n",
    "plt.legend()\n",
    "plt.title('Actual vs ARIMA Predicted')\n",
    "plt.show()"
   ]
  },
  {
   "cell_type": "markdown",
   "id": "260a0a13",
   "metadata": {},
   "source": [
    "ARIMA\n",
    "Observation:\n",
    "The predicted (orange) line is almost flat and much lower than the actual (blue) values, which are highly variable and spiky.\n",
    "\n",
    "Interpretation:\n",
    "ARIMA is severely underfitting your data. It’s only capturing a basic trend or mean, failing to model the large fluctuations and spikes in demand.\n",
    "\n",
    "Conclusion:\n",
    "ARIMA is not suitable for your data’s volatility and complexity."
   ]
  },
  {
   "cell_type": "code",
   "execution_count": 67,
   "id": "d71384af",
   "metadata": {},
   "outputs": [
    {
     "data": {
      "image/png": "[encoded data removed]",
      "text/plain": [
       "<Figure size 640x480 with 1 Axes>"
      ]
     },
     "metadata": {},
     "output_type": "display_data"
    }
   ],
   "source": [
    "plt.plot(y_test_original, label='Actual')\n",
    "plt.plot(sarima_pred_original, label='Predicted')\n",
    "plt.legend()\n",
    "plt.title('Actual vs SARIMA Predicted')\n",
    "plt.show()"
   ]
  },
  {
   "cell_type": "markdown",
   "id": "6fae43dc",
   "metadata": {},
   "source": [
    "SARIMA\n",
    "Observation:\n",
    "Similar to ARIMA, the SARIMA predictions are flat and close to the mean, not following the actual demand’s spikes and variability.\n",
    "\n",
    "Interpretation:\n",
    "Even with seasonal components, SARIMA is unable to capture the irregular patterns and large jumps in your data.\n",
    "\n",
    "Conclusion:\n",
    "SARIMA also underfits and is not capturing the true dynamics of your demand."
   ]
  },
  {
   "cell_type": "code",
   "execution_count": 68,
   "id": "8efb34fc",
   "metadata": {},
   "outputs": [
    {
     "data": {
      "image/png": "[encoded data removed]",
      "text/plain": [
       "<Figure size 640x480 with 1 Axes>"
      ]
     },
     "metadata": {},
     "output_type": "display_data"
    }
   ],
   "source": [
    "plt.plot(y_test_original, label='Actual')\n",
    "plt.plot(dt_pred_original, label='Predicted')\n",
    "plt.legend()\n",
    "plt.title('Actual vs decision tree Predicted')\n",
    "plt.show()"
   ]
  },
  {
   "cell_type": "markdown",
   "id": "866ba301",
   "metadata": {},
   "source": [
    "Decision Tree\n",
    "Observation:\n",
    "The predicted values (orange) show more variability, but they are not aligned with the actual values. Sometimes, predictions are extremely high where actuals are not, and vice versa.\n",
    "\n",
    "Interpretation:\n",
    "The decision tree is overfitting to noise or outliers in the training data, leading to erratic predictions that do not generalize well.\n",
    "\n",
    "Conclusion:\n",
    "While better than ARIMA/SARIMA in capturing variability, this model lacks consistency and accuracy."
   ]
  },
  {
   "cell_type": "code",
   "execution_count": 69,
   "id": "992e9aa2",
   "metadata": {},
   "outputs": [
    {
     "data": {
      "image/png": "[encoded data removed]",
      "text/plain": [
       "<Figure size 640x480 with 1 Axes>"
      ]
     },
     "metadata": {},
     "output_type": "display_data"
    }
   ],
   "source": [
    "plt.plot(y_test_original, label='Actual')\n",
    "plt.plot(rf_pred_original, label='Predicted')\n",
    "plt.legend()\n",
    "plt.title('Actual vs Random forrest Predicted')\n",
    "plt.show()"
   ]
  },
  {
   "cell_type": "markdown",
   "id": "8b63e196",
   "metadata": {},
   "source": [
    "Random Forest\n",
    "Observation:\n",
    "The random forest predictions (orange) are also highly variable, but still do not consistently match the actual demand spikes. There is some improvement over the decision tree, but the model still predicts high values where actuals are low and vice versa.\n",
    "\n",
    "Interpretation:\n",
    "Random forest captures more complexity but still struggles with the chaotic nature of your data. It may be overfitting or not using the right features to capture true demand drivers.\n",
    "\n",
    "Conclusion:\n",
    "Random forest is the best so far at modeling variability, but it still lacks accuracy and alignment with actual demand."
   ]
  },
  {
   "cell_type": "code",
   "execution_count": 70,
   "id": "eeb72787",
   "metadata": {},
   "outputs": [
    {
     "data": {
      "image/png": "[encoded data removed]",
      "text/plain": [
       "<Figure size 640x480 with 1 Axes>"
      ]
     },
     "metadata": {},
     "output_type": "display_data"
    }
   ],
   "source": [
    "plt.plot(y_test_original, label='Actual')\n",
    "plt.plot(gru_pred_original, label='Predicted')\n",
    "plt.legend()\n",
    "plt.title('Actual vs GRU Predicted')\n",
    "plt.show()"
   ]
  },
  {
   "cell_type": "code",
   "execution_count": 71,
   "id": "983ddb7d",
   "metadata": {},
   "outputs": [
    {
     "data": {
      "image/png": "[encoded data removed]",
      "text/plain": [
       "<Figure size 640x480 with 1 Axes>"
      ]
     },
     "metadata": {},
     "output_type": "display_data"
    }
   ],
   "source": [
    "plt.plot(y_test_original, label='Actual')\n",
    "plt.plot(lstm_pred_original, label='Predicted')\n",
    "plt.legend()\n",
    "plt.title('Actual vs LSTM Predicted')\n",
    "plt.show()"
   ]
  },
  {
   "cell_type": "markdown",
   "id": "8a80faa4",
   "metadata": {},
   "source": [
    "What the Plots Show\n",
    "Blue Line (Actual): The true demand values, which are highly variable with frequent sharp spikes and dips.\n",
    "\n",
    "Orange Line (Predicted): The predicted demand values from each model."
   ]
  },
  {
   "cell_type": "markdown",
   "id": "658c9479",
   "metadata": {},
   "source": [
    "Key Observations(GRU and LSTM)\n",
    "Both Models Capture General Trends, But Miss Spikes\n",
    "\n",
    "The predictions from both GRU and LSTM generally follow the overall direction of the actual demand (when demand is higher or lower), but they do not capture the sharp spikes and sudden drops seen in the actual data.\n",
    "\n",
    "This is a common limitation in deep learning models for time series when the data is highly volatile and the model is not specifically tuned for outlier detection or extreme events.\n",
    "\n",
    "Underestimation of Peaks\n",
    "\n",
    "Both models tend to underestimate the highest demand values and overestimate some of the lowest values, resulting in smoother predictions compared to the actuals.\n",
    "\n",
    "There is one notable exception in both plots where the predicted value spikes dramatically (around index 900), possibly due to an outlier or data artifact.\n",
    "\n",
    "The overall error pattern is similar, suggesting that both architectures are facing the same challenges with this dataset.\n",
    "\n",
    "Potential Data or Preprocessing Issues\n",
    "\n",
    "The presence of a single, very large spike in the predictions (not present in the actuals) suggests there may be an outlier in the input data or a problem with how the model is handling certain sequences.\n",
    "\n",
    "The general smoothing of predictions could also be due to the look-back window size, model capacity, or insufficient feature engineering."
   ]
  },
  {
   "cell_type": "markdown",
   "id": "8c57ac7d",
   "metadata": {},
   "source": [
    "Business Interpretation\n",
    "Reliable for Average Demand, Not for Extreme Events:\n",
    "The models provide reasonable forecasts for average demand periods but may not reliably predict sudden surges or drops. This means they are useful for general inventory planning but may not be sufficient for handling rare, high-impact demand events.\n",
    "\n",
    "Risk of Stockouts or Overstocking:\n",
    "Because the models miss demand spikes, there is a risk of underestimating inventory needs during peak periods, which could lead to stockouts and lost sales. Conversely, overestimating during low demand could increase holding costs."
   ]
  },
  {
   "cell_type": "markdown",
   "id": "a7f15cbf",
   "metadata": {},
   "source": [
    "Recommendations for Improvement\n",
    "\n",
    "Model Tuning:\n",
    "\n",
    "Experiment with larger or more complex models, longer look-back windows, or ensemble approaches.\n",
    "\n",
    "Handle Outliers:\n",
    "\n",
    "Investigate and possibly cap or smooth extreme values in the training data to prevent the model from overreacting to rare events.\n",
    "\n",
    "Hybrid Approaches:\n",
    "\n",
    "Combine statistical models (like ARIMA) with deep learning, or use anomaly detection for spike prediction.\n",
    "\n",
    "Evaluate with Additional Metrics:\n",
    "\n",
    "Use MAE and R² in addition to RMSE/MSE for a more complete performance picture."
   ]
  },
  {
   "cell_type": "markdown",
   "id": "d80ae97f",
   "metadata": {},
   "source": [
    "Conclusion:"
   ]
  },
  {
   "cell_type": "markdown",
   "id": "798ae78e",
   "metadata": {},
   "source": [
    "We tested a range of forecasting models, from traditional statistical methods like ARIMA and moving averages to advanced deep learning models like GRU and LSTM. While the newer models better capture complex demand patterns, all approaches currently struggle to predict sudden demand spikes. Our next steps are to enrich our models with more business-relevant features and explore hybrid approaches to ensure we’re ready for both routine and exceptional demand events."
   ]
  },
  {
   "cell_type": "code",
   "execution_count": 79,
   "id": "21484859",
   "metadata": {},
   "outputs": [],
   "source": [
    "ensemble1_pred = 0.3 * gru_pred_original + 0.7 * lstm_pred_original\n",
    "ensemble_pred = (gru_pred_original + lstm_pred_original) / 2"
   ]
  },
  {
   "cell_type": "code",
   "execution_count": 80,
   "id": "f3659f28",
   "metadata": {},
   "outputs": [
    {
     "name": "stdout",
     "output_type": "stream",
     "text": [
      "[ 336.  544. 4400. ...  300.  192.  448.]\n",
      "[297.42163105 273.53980606 716.75317379 ... 236.55736857 223.6673295\n",
      " 278.32650717]\n",
      "[296.78217091 264.771996   873.98811664 ... 219.25800235 223.4333022\n",
      " 275.46903451]\n"
     ]
    }
   ],
   "source": [
    "print(y_test_original)\n",
    "print(ensemble1_pred)\n",
    "print(ensemble_pred)"
   ]
  },
  {
   "cell_type": "code",
   "execution_count": 83,
   "id": "a73c04d0",
   "metadata": {},
   "outputs": [
    {
     "data": {
      "image/png": "[encoded data removed]",
      "text/plain": [
       "<Figure size 640x480 with 1 Axes>"
      ]
     },
     "metadata": {},
     "output_type": "display_data"
    }
   ],
   "source": [
    "plt.plot(y_test_original, label='Actual')\n",
    "plt.plot(ensemble1_pred, label='Predicted')\n",
    "plt.legend()\n",
    "plt.title('Actual vs weighted average ensemble Predicted')\n",
    "plt.show()"
   ]
  },
  {
   "cell_type": "code",
   "execution_count": 82,
   "id": "3dd37cf7",
   "metadata": {},
   "outputs": [
    {
     "data": {
      "image/png": "[encoded data removed]",
      "text/plain": [
       "<Figure size 640x480 with 1 Axes>"
      ]
     },
     "metadata": {},
     "output_type": "display_data"
    }
   ],
   "source": [
    "plt.plot(y_test_original, label='Actual')\n",
    "plt.plot(ensemble_pred, label='Predicted')\n",
    "plt.legend()\n",
    "plt.title('Actual vs averaged ensemble Predicted')\n",
    "plt.show()"
   ]
  },
  {
   "cell_type": "code",
   "execution_count": null,
   "id": "f9ade8b2",
   "metadata": {},
   "outputs": [
    {
     "name": "stderr",
     "output_type": "stream",
     "text": [
      "c:\\Users\\HP\\AppData\\Local\\Programs\\Python\\Python310\\lib\\site-packages\\tcn\\tcn.py:268: UserWarning: Do not pass an `input_shape`/`input_dim` argument to a layer. When using Sequential models, prefer using an `Input(shape)` object as the first layer in the model instead.\n",
      "  super(TCN, self).__init__(**kwargs)\n"
     ]
    },
    {
     "name": "stdout",
     "output_type": "stream",
     "text": [
      "Epoch 1/20\n",
      "\u001b[1m202/202\u001b[0m \u001b[32m━━━━━━━━━━━━━━━━━━━━\u001b[0m\u001b[37m\u001b[0m \u001b[1m12s\u001b[0m 30ms/step - loss: 0.0251 - val_loss: 0.0030\n",
      "Epoch 2/20\n",
      "\u001b[1m202/202\u001b[0m \u001b[32m━━━━━━━━━━━━━━━━━━━━\u001b[0m\u001b[37m\u001b[0m \u001b[1m5s\u001b[0m 25ms/step - loss: 0.0020 - val_loss: 0.0020\n",
      "Epoch 3/20\n",
      "\u001b[1m202/202\u001b[0m \u001b[32m━━━━━━━━━━━━━━━━━━━━\u001b[0m\u001b[37m\u001b[0m \u001b[1m5s\u001b[0m 24ms/step - loss: 0.0017 - val_loss: 0.0031\n",
      "Epoch 4/20\n",
      "\u001b[1m202/202\u001b[0m \u001b[32m━━━━━━━━━━━━━━━━━━━━\u001b[0m\u001b[37m\u001b[0m \u001b[1m5s\u001b[0m 27ms/step - loss: 0.0021 - val_loss: 0.0021\n",
      "Epoch 5/20\n",
      "\u001b[1m202/202\u001b[0m \u001b[32m━━━━━━━━━━━━━━━━━━━━\u001b[0m\u001b[37m\u001b[0m \u001b[1m5s\u001b[0m 24ms/step - loss: 0.0013 - val_loss: 0.0019\n",
      "Epoch 6/20\n",
      "\u001b[1m202/202\u001b[0m \u001b[32m━━━━━━━━━━━━━━━━━━━━\u001b[0m\u001b[37m\u001b[0m \u001b[1m8s\u001b[0m 37ms/step - loss: 0.0012 - val_loss: 0.0020\n",
      "Epoch 7/20\n",
      "\u001b[1m202/202\u001b[0m \u001b[32m━━━━━━━━━━━━━━━━━━━━\u001b[0m\u001b[37m\u001b[0m \u001b[1m8s\u001b[0m 37ms/step - loss: 0.0013 - val_loss: 0.0019\n",
      "Epoch 8/20\n",
      "\u001b[1m202/202\u001b[0m \u001b[32m━━━━━━━━━━━━━━━━━━━━\u001b[0m\u001b[37m\u001b[0m \u001b[1m7s\u001b[0m 34ms/step - loss: 0.0012 - val_loss: 0.0028\n",
      "Epoch 9/20\n",
      "\u001b[1m202/202\u001b[0m \u001b[32m━━━━━━━━━━━━━━━━━━━━\u001b[0m\u001b[37m\u001b[0m \u001b[1m8s\u001b[0m 39ms/step - loss: 0.0012 - val_loss: 0.0019\n",
      "Epoch 10/20\n",
      "\u001b[1m202/202\u001b[0m \u001b[32m━━━━━━━━━━━━━━━━━━━━\u001b[0m\u001b[37m\u001b[0m \u001b[1m8s\u001b[0m 39ms/step - loss: 0.0011 - val_loss: 0.0017\n",
      "Epoch 11/20\n",
      "\u001b[1m202/202\u001b[0m \u001b[32m━━━━━━━━━━━━━━━━━━━━\u001b[0m\u001b[37m\u001b[0m \u001b[1m8s\u001b[0m 38ms/step - loss: 0.0012 - val_loss: 0.0016\n",
      "Epoch 12/20\n",
      "\u001b[1m202/202\u001b[0m \u001b[32m━━━━━━━━━━━━━━━━━━━━\u001b[0m\u001b[37m\u001b[0m \u001b[1m8s\u001b[0m 38ms/step - loss: 0.0012 - val_loss: 0.0017\n",
      "Epoch 13/20\n",
      "\u001b[1m202/202\u001b[0m \u001b[32m━━━━━━━━━━━━━━━━━━━━\u001b[0m\u001b[37m\u001b[0m \u001b[1m8s\u001b[0m 39ms/step - loss: 0.0011 - val_loss: 0.0017\n",
      "Epoch 14/20\n",
      "\u001b[1m202/202\u001b[0m \u001b[32m━━━━━━━━━━━━━━━━━━━━\u001b[0m\u001b[37m\u001b[0m \u001b[1m8s\u001b[0m 39ms/step - loss: 0.0011 - val_loss: 0.0017\n",
      "Epoch 15/20\n",
      "\u001b[1m202/202\u001b[0m \u001b[32m━━━━━━━━━━━━━━━━━━━━\u001b[0m\u001b[37m\u001b[0m \u001b[1m8s\u001b[0m 40ms/step - loss: 0.0011 - val_loss: 0.0016\n",
      "Epoch 16/20\n",
      "\u001b[1m202/202\u001b[0m \u001b[32m━━━━━━━━━━━━━━━━━━━━\u001b[0m\u001b[37m\u001b[0m \u001b[1m8s\u001b[0m 39ms/step - loss: 0.0010 - val_loss: 0.0019\n",
      "Epoch 17/20\n",
      "\u001b[1m202/202\u001b[0m \u001b[32m━━━━━━━━━━━━━━━━━━━━\u001b[0m\u001b[37m\u001b[0m \u001b[1m8s\u001b[0m 39ms/step - loss: 0.0011 - val_loss: 0.0019\n",
      "Epoch 18/20\n",
      "\u001b[1m202/202\u001b[0m \u001b[32m━━━━━━━━━━━━━━━━━━━━\u001b[0m\u001b[37m\u001b[0m \u001b[1m7s\u001b[0m 36ms/step - loss: 0.0011 - val_loss: 0.0014\n",
      "Epoch 19/20\n",
      "\u001b[1m202/202\u001b[0m \u001b[32m━━━━━━━━━━━━━━━━━━━━\u001b[0m\u001b[37m\u001b[0m \u001b[1m6s\u001b[0m 29ms/step - loss: 8.3834e-04 - val_loss: 0.0022\n",
      "Epoch 20/20\n",
      "\u001b[1m202/202\u001b[0m \u001b[32m━━━━━━━━━━━━━━━━━━━━\u001b[0m\u001b[37m\u001b[0m \u001b[1m5s\u001b[0m 24ms/step - loss: 9.4339e-04 - val_loss: 0.0015\n"
     ]
    }
   ],
   "source": [
    "from tcn import TCN\n",
    "\n",
    "    tcn_model = Sequential([\n",
    "        TCN(input_shape=(3, 63)),  # look_back: window size, n_features: number of features\n",
    "        Dense(1)\n",
    "    ])\n",
    "    tcn_model.compile(optimizer='adam', loss='mse')\n",
    "    tcn_history = tcn_model.fit(X_train, y_train, epochs=20, validation_data=(X_val, y_val))"
   ]
  },
  {
   "cell_type": "code",
   "execution_count": 87,
   "id": "996bbb8d",
   "metadata": {},
   "outputs": [
    {
     "name": "stdout",
     "output_type": "stream",
     "text": [
      "\u001b[1m68/68\u001b[0m \u001b[32m━━━━━━━━━━━━━━━━━━━━\u001b[0m\u001b[37m\u001b[0m \u001b[1m2s\u001b[0m 16ms/step\n"
     ]
    }
   ],
   "source": [
    "tcn_pred = tcn_model.predict(X_test)"
   ]
  },
  {
   "cell_type": "code",
   "execution_count": 88,
   "id": "5b174281",
   "metadata": {},
   "outputs": [
    {
     "data": {
      "image/png": "[encoded data removed]",
      "text/plain": [
       "<Figure size 640x480 with 1 Axes>"
      ]
     },
     "metadata": {},
     "output_type": "display_data"
    }
   ],
   "source": [
    "plt.plot(tcn_history.history['loss'], label='Train Loss')\n",
    "plt.plot(tcn_history.history['val_loss'], label='Validation Loss')\n",
    "plt.legend()\n",
    "plt.show()"
   ]
  },
  {
   "cell_type": "code",
   "execution_count": 85,
   "id": "6abfd86d",
   "metadata": {},
   "outputs": [
    {
     "name": "stdout",
     "output_type": "stream",
     "text": [
      "\u001b[1m68/68\u001b[0m \u001b[32m━━━━━━━━━━━━━━━━━━━━\u001b[0m\u001b[37m\u001b[0m \u001b[1m2s\u001b[0m 21ms/step\n",
      "Model: tcn\n",
      "MAE: 0.03\n",
      "RMSE: 0.05\n",
      "MAPE: 284.29\n",
      "\n"
     ]
    }
   ],
   "source": [
    "result = {\n",
    "    'tcn': evaluate(y_test, model.predict(X_test))\n",
    "}\n",
    "\n",
    "for model, metrics in result.items():\n",
    "    print(f\"Model: {model}\")\n",
    "    print(f\"MAE: {metrics['MAE']:.2f}\")\n",
    "    print(f\"RMSE: {metrics['RMSE']:.2f}\")\n",
    "    print(f\"MAPE: {metrics['MAPE']:.2f}\")\n",
    "    print()"
   ]
  },
  {
   "cell_type": "code",
   "execution_count": 89,
   "id": "f1f187bf",
   "metadata": {},
   "outputs": [
    {
     "data": {
      "image/png": "[encoded data removed]",
      "text/plain": [
       "<Figure size 640x480 with 1 Axes>"
      ]
     },
     "metadata": {},
     "output_type": "display_data"
    }
   ],
   "source": [
    "tcn_pred_original = invert_scaler(tcn_pred, scaler)\n",
    "plt.plot(y_test_original, label='Actual')\n",
    "plt.plot(tcn_pred_original, label='Predicted')\n",
    "plt.legend()\n",
    "plt.title('Actual vs TCN Predicted')\n",
    "plt.show()"
   ]
  },
  {
   "cell_type": "markdown",
   "id": "5fa0d588",
   "metadata": {},
   "source": [
    "Strengths:\n",
    "\n",
    "Consistent Baseline Tracking: The TCN maintains a remarkably stable prediction around the 2000-3000 range throughout most of the sequence, which aligns well with the general trend of actual values in the latter half.\n",
    "Reduced Volatility: Unlike the ensemble methods, the TCN predictions are much smoother and less erratic, suggesting it's learning the underlying trend rather than trying to match every fluctuation.\n",
    "Late-Sequence Performance: In the 1000-2200 range, the TCN shows good alignment with the actual baseline values, potentially outperforming both ensemble methods in this region.\n",
    "\n",
    "Weaknesses:\n",
    "\n",
    "Early Sequence Underperformance: In the 0-500 range, the TCN significantly underestimates the actual values, missing the high-frequency, high-amplitude variations that both ensemble methods captured better.\n",
    "Limited Dynamic Range: The TCN appears to have learned a more conservative prediction strategy, rarely predicting values below 1000 or above 4000, which limits its ability to capture extreme variations.\n",
    "Major Spike Handling: Like the ensemble methods, it completely misses the major spike around position 700, but shows less recovery afterward.\n",
    "\n",
    "Comparative Assessment:\n",
    "Early Phase (0-500): Ensemble methods > TCN\n",
    "Mid Phase (500-1000): Weighted ensemble ≈ TCN > Averaged ensemble\n",
    "Late Phase (1000+): TCN ≈ Weighted ensemble > Averaged ensemble\n",
    "Model Characteristics:\n",
    "The TCN appears to be optimized for stability and trend following rather than high-frequency pattern matching. This suggests it may be better suited for applications where understanding the underlying trend is more important than capturing every fluctuation, but less effective when precise tracking of variations is critical.\n",
    "The temporal convolutional architecture seems to have learned that the data has a natural baseline around 2000-3000, which is a reasonable inference from the overall distribution, but this conservative approach costs it accuracy in more dynamic regions."
   ]
  }
 ],
 "metadata": {
  "kernelspec": {
   "display_name": "Python 3",
   "language": "python",
   "name": "python3"
  },
  "language_info": {
   "codemirror_mode": {
    "name": "ipython",
    "version": 3
   },
   "file_extension": ".py",
   "mimetype": "text/x-python",
   "name": "python",
   "nbconvert_exporter": "python",
   "pygments_lexer": "ipython3",
   "version": "3.10.5"
  }
 },
 "nbformat": 4,
 "nbformat_minor": 5
}
